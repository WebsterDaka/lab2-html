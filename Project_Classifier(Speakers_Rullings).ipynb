{
  "cells": [
    {
      "cell_type": "markdown",
      "metadata": {
        "id": "view-in-github",
        "colab_type": "text"
      },
      "source": [
        "<a href=\"https://colab.research.google.com/github/WebsterDaka/lab2-html/blob/main/Project_Classifier(Speakers_Rullings).ipynb\" target=\"_parent\"><img src=\"https://colab.research.google.com/assets/colab-badge.svg\" alt=\"Open In Colab\"/></a>"
      ]
    },
    {
      "cell_type": "markdown",
      "metadata": {
        "id": "aQWoB_1o1qJ-"
      },
      "source": [
        "# Parliamentary Speaker's Rulings Classification Project\n",
        "\n",
        "This project aims to develop an automated text classification system to categorize Speaker's Rulings from the National Assembly of Zambia into predefined categories, enhancing accessibility for legal, parliamentary, and public use.\n",
        "\n",
        "\n",
        "# **1. Business Understanding**\n",
        "---\n",
        "\n",
        "\n",
        "## Problem Statement\n",
        "The National Assembly of Zambia generates substantial volumes of parliamentary proceedings containing Speaker's Rulings on various procedural, disciplinary, and administrative matters. Currently, accessing and categorizing these rulings for legal research, parliamentary reference, and civic education requires extensive manual effort. Legal professionals, researchers, parliamentary staff, and citizens face significant challenges in efficiently locating relevant precedents and understanding patterns in parliamentary decision-making.\n",
        "### Core Problem:\n",
        "There is no automated system to classify and categorize Speaker's Rulings from Zambian parliamentary proceedings, making legal and legislative information retrieval inefficient and limiting effective civic education and parliamentary research.\n",
        "\n",
        "## 1. Business Objectives\n",
        "\n",
        "### Primary Objectives:\n",
        "1. To classify parliamentary rulings into a structured system that is simpler to analyze and\n",
        "evaluate  \n",
        "2. Organize speakers' rulings to improve accessibility and quick retrieval for legal\n",
        "professionals, researchers, and public understanding.\n",
        "\n",
        "### Success Criteria from Business Perspective:\n",
        "- Reduce time spent by legal professionals searching for relevant rulings by at least 60%\n",
        "- Enable non-experts to find and understand parliamentary rulings relevant to their interests\n",
        "- Provide parliamentary staff with consistent categorization for improved procedural reference\n",
        "- Support academic and policy research through structured access to historical ruling patterns\n",
        "\n",
        "---\n",
        "## 2. Data Mining Goals\n",
        "### Specific Technical Objectives\n",
        "1. **Build a Multi-class Classification Model:**  \n",
        "   Develop a machine learning system that automatically categorizes Speaker's Rulings into predefined categories such as:\n",
        "    - **Procedural Rulings** (e.g., points of order, procedural motions)\n",
        "    - **Disciplinary Actions** (e.g., member conduct, sanctions)\n",
        "    - **Administrative Decisions** (e.g., scheduling, resource allocation)\n",
        "    - **Constitutional Interpretations** (e.g., constitutional questions, legal precedents)\n",
        "    - **Debate Management** (e.g., time allocation, speaking order)\n",
        "\n",
        "2. **Implement Natural Language Processing (NLP):**  \n",
        "   Apply text mining techniques to extract meaningful features from parliamentary text documents, enabling accurate classification.\n",
        "\n",
        "3. Create automated pipeline for new ruling classification.\n",
        "\n",
        "**Technical Success Metrics**\n",
        "* Accuracy: Achieve at least 80% overall classification accuracy across all ruling categories\n",
        "* Precision: Maintain precision above 75% for each individual category to ensure reliable\n",
        "categorization\n",
        "* F1-Score: Target F1-score above 77% for balanced precision-recall performance\n",
        "---\n",
        "## 3. Project Success Criteria\n",
        "### Quantitative Criteria\n",
        "1. **Model Performance:** Overall classification accuracy ≥ 80%\n",
        "2. **Processing Speed:** System should classify new documents within 5 seconds\n",
        "\n",
        "### Business Impact Measures:\n",
        "- Reduction in manual categorization time\n",
        "- Increased usage of parliamentary information by researchers and citizens\n",
        "- Improved consistency in referencing past rulings by parliamentary staff\n",
        "- Enhanced accessibility of legal and legislative information for civic education\n",
        "\n",
        "---\n",
        "## 4. Project Scope\n",
        "### in Scope:\n",
        "- Speaker's Rulings from National Assembly of Zambia proceedings\n",
        "- Text-based classification using parliamentary Hansards and official records\n",
        "- English language processing\n",
        "### Out of Scope:\n",
        "- Rulings from other parliamentary bodies or courts\n",
        "- Non-English parliamentary proceedings\n",
        "- Real-time audio/video processing of parliamentary sessions\n",
        "- Legal advice or interpretation of ruling implications\n",
        "### Constraints:\n",
        "- Data availability limited to publicly accessible parliamentary records\n",
        "- Solution must be cost-effective for potential implementation by parliamentary services\n",
        "- Timeline constraints require deliverable completion by August 29, 2025\n",
        "\n"
      ]
    },
    {
      "cell_type": "markdown",
      "metadata": {
        "id": "P89pCxaFabvh"
      },
      "source": []
    },
    {
      "cell_type": "markdown",
      "metadata": {
        "id": "AbAXldJCKK3g"
      },
      "source": [
        "#**2. Data Understanding**\n",
        "\n",
        "This notebook performs the **Data Understanding** phase for our data mining project using Google Colab.\n",
        "\n",
        "We work with the **Speaker’s Rulings** dataset and perfom Explorative data analysis (EDA) on the data to gain an understanding on the data\n",
        "\n",
        "## **Goals**\n",
        "- Explore structure (shape, columns, types) and preview records.\n",
        "- Profile data types, basic statistics, and distributions.\n",
        "- Assess data quality (missing values, duplicates, inconsistencies).\n",
        "- Summarize early insights and risks that will guide later preparation and modeling.\n",
        "\n"
      ]
    },
    {
      "cell_type": "markdown",
      "metadata": {
        "id": "VYP7lMulkr9c"
      },
      "source": [
        "###**Data sources**\n",
        "The main source of data for this project is [**The National Assembly Website**](https://www.parliament.gov.zm/publications/rulings)\n",
        "\n",
        "The Data is publicly available and we perfomed initial data collection by scraping the website using python scripts\n",
        "\n",
        "The Data is in form of article with a title and abstract text,\n",
        "We extracted **Title**, **text**, **context** , and **standing orders**\n",
        "\n",
        "Then we labled each rulling text into a **category** which is our target column\n",
        "\n",
        "\n"
      ]
    },
    {
      "cell_type": "markdown",
      "metadata": {
        "id": "-S2JE5mRKSJY"
      },
      "source": [
        "###**Mount Drive for persistence of the Dataset**\n",
        "This allows to access the files directly and save work permanently.\n",
        "\n",
        "Run the code cell below. It will prompt you to authorize access to your Google Drive. Follow the on-screen instructions."
      ]
    },
    {
      "cell_type": "code",
      "execution_count": null,
      "metadata": {
        "colab": {
          "base_uri": "https://localhost:8080/"
        },
        "id": "7Cm8-VRlKUSI",
        "outputId": "bd3c83d9-4077-46de-8d53-6d5cbcb373ca"
      },
      "outputs": [
        {
          "output_type": "stream",
          "name": "stdout",
          "text": [
            "Drive already mounted at /content/drive; to attempt to forcibly remount, call drive.mount(\"/content/drive\", force_remount=True).\n"
          ]
        }
      ],
      "source": [
        "from google.colab import drive\n",
        "drive.mount('/content/drive')"
      ]
    },
    {
      "cell_type": "markdown",
      "metadata": {
        "id": "VnOy0twlnjLk"
      },
      "source": []
    },
    {
      "cell_type": "markdown",
      "metadata": {
        "id": "7W38l9JJKTr4"
      },
      "source": [
        "Once mounted, you can see your entire Google Drive by navigating through the \"Files\" pane on the left. It will appear under the drive/MyDrive/ directory.\n",
        "\n",
        "\n",
        "### **IMPORTANT NOTE**\n",
        "For this project, you should create a folder in your Google Drive (e.g., `rullings_classifier_data`) and upload the  datasets into it:\n",
        ">* `speaker_ruling_classification.csv`\n",
        "\n",
        "\n",
        " In this examples below, the file path used points to my own folder structure, for instance:\n",
        " >* `/content/drive/MyDrive/rulings_classifier_data`\n",
        "\n",
        " **You MUST replace this path with the correct path to the files in YOUR own Google Drive.** You can find the correct path by navigating to the file in the \"Files\" pane, right-clicking it, and selecting \"Copy path\"."
      ]
    },
    {
      "cell_type": "markdown",
      "metadata": {
        "id": "U7oRTpGPKcAB"
      },
      "source": [
        "###**Environtment Setup and Data Loading**\n",
        "\n",
        "1. Importing the required python libraries\n",
        "  - **pandas** for handling and exploring data\n",
        "  - **pyplot** from matplotlib for plotting\n",
        "2. Load the Speaker's Rulling dataset into a pandas DataFrame using `pd.read_csv()`"
      ]
    },
    {
      "cell_type": "code",
      "execution_count": null,
      "metadata": {
        "id": "Z8fQDD0yKZAw"
      },
      "outputs": [],
      "source": [
        "# import required libraries\n",
        "import pandas as pd\n",
        "import matplotlib.pyplot as plt\n",
        "\n",
        "\n",
        "#Load dataset into a DataFrame\n",
        "file_path = \"/content/drive/MyDrive/rulings_classifier_data/speaker_ruling_classification.csv\"\n",
        "ruling_df = pd.read_csv(file_path)\n",
        "\n"
      ]
    },
    {
      "cell_type": "markdown",
      "metadata": {
        "id": "naIwdV7MM9Cl"
      },
      "source": [
        "###**Basic Structure Analysis**   \n",
        "\n",
        "In this step, we examine the **basic structure** of the dataset to understand its size and scope.\n",
        "\n",
        "- **Dataset shape**: Number of rows and columns\n",
        "- **Total data points**: Rows * Columns.  \n",
        "\n",
        "This helps us estimate data volume and complexity before diving deeper.\n"
      ]
    },
    {
      "cell_type": "code",
      "execution_count": null,
      "metadata": {
        "colab": {
          "base_uri": "https://localhost:8080/"
        },
        "id": "-Pz-o-XDNeGb",
        "outputId": "afc37cd4-d6e1-4b99-a41a-bdd886c41119"
      },
      "outputs": [
        {
          "output_type": "stream",
          "name": "stdout",
          "text": [
            "Dataset shape: (300, 5)\n",
            "Number of rows(rulings): 300\n",
            "Number of columns(features): 5\n",
            "Total data points: 1500\n"
          ]
        }
      ],
      "source": [
        "#Datashape\n",
        "print(\"Dataset shape:\", ruling_df.shape)\n",
        "\n",
        "#Number of row (rulings)\n",
        "print(\"Number of rows(rulings):\", ruling_df.shape[0])\n",
        "\n",
        "#Number of columns (features)\n",
        "print(\"Number of columns(features):\", ruling_df.shape[1])\n",
        "\n",
        "#Total data points\n",
        "print(\"Total data points:\", ruling_df.shape[0] * ruling_df.shape[1])\n"
      ]
    },
    {
      "cell_type": "markdown",
      "metadata": {
        "id": "vXfAC1JqOKqi"
      },
      "source": [
        "### **Column Structure Examination**\n",
        "\n",
        "To better understand the dataset, we analyze its **columns and data types**:\n",
        "\n",
        "- **`df.info()` summary** showing:  \n",
        "   - Column names  \n",
        "   - Number of non-null entries per column  \n",
        "   - Data types of each column  \n",
        "   - Memory usage  \n",
        "\n"
      ]
    },
    {
      "cell_type": "code",
      "execution_count": null,
      "metadata": {
        "colab": {
          "base_uri": "https://localhost:8080/"
        },
        "id": "lJZv92-5OM2k",
        "outputId": "fa378c1e-1292-411b-8a56-4c8307d6a451"
      },
      "outputs": [
        {
          "output_type": "stream",
          "name": "stdout",
          "text": [
            "List of columns:\n",
            "1.rulingTitle\n",
            "2.rulingText\n",
            "3.context\n",
            "4.categories\n",
            "5.standingOrder\n",
            "\n",
            "\n",
            "Summary of dataset:\n",
            "<class 'pandas.core.frame.DataFrame'>\n",
            "RangeIndex: 300 entries, 0 to 299\n",
            "Data columns (total 5 columns):\n",
            " #   Column         Non-Null Count  Dtype \n",
            "---  ------         --------------  ----- \n",
            " 0   rulingTitle    300 non-null    object\n",
            " 1   rulingText     299 non-null    object\n",
            " 2   context        300 non-null    object\n",
            " 3   categories     292 non-null    object\n",
            " 4   standingOrder  275 non-null    object\n",
            "dtypes: object(5)\n",
            "memory usage: 11.8+ KB\n"
          ]
        }
      ],
      "source": [
        "#showing list of columns\n",
        "print(\"List of columns:\")\n",
        "for i , col in enumerate(ruling_df.columns,start=1):\n",
        "  print(f\"{i}.{col}\")\n",
        "print(\"\\n\")\n",
        "\n",
        "\n",
        "\n",
        "# showing a concise data summary including datatypes\n",
        "print(\"Summary of dataset:\")\n",
        "ruling_df.info()"
      ]
    },
    {
      "cell_type": "markdown",
      "metadata": {
        "id": "YK_5NSY8Ota2"
      },
      "source": [
        "###**Initial Data Preview**\n",
        "\n",
        "A preview the dataset to gain a general sense of its content:\n",
        "\n",
        "- Use **`df.head()`** to view the first records.  \n",
        "- Use **`df.tail()`** to view the last records."
      ]
    },
    {
      "cell_type": "code",
      "execution_count": null,
      "metadata": {
        "colab": {
          "base_uri": "https://localhost:8080/",
          "height": 397
        },
        "id": "sKqfp7qRPL2l",
        "outputId": "59803d11-b51a-4395-c44e-ded5843c9b98"
      },
      "outputs": [
        {
          "output_type": "execute_result",
          "data": {
            "text/plain": [
              "                                                              0   \\\n",
              "rulingTitle    RULING BY THE HONOURABLE SPEAKER ON A POINT OF...   \n",
              "rulingText     Honourable Members, I am called upon to determ...   \n",
              "context                                           point of order   \n",
              "categories     constitutional interpretation, administrative ...   \n",
              "standingOrder                                                139   \n",
              "\n",
              "                                                              1   \\\n",
              "rulingTitle    Ruling by the Hon Madam Speaker on the Applica...   \n",
              "rulingText     Honourable Members will recall that on Wednesd...   \n",
              "context                                                 guidance   \n",
              "categories                         constitutional interpretation   \n",
              "standingOrder                                             72, 72   \n",
              "\n",
              "                                                              2   \\\n",
              "rulingTitle    RULING BY THE HONOURABLE SPEAKER ON A POINT OF...   \n",
              "rulingText     Honourable Members, I am called upon to determ...   \n",
              "context                                           point of order   \n",
              "categories      constitutional interpretation, debate management   \n",
              "standingOrder                                                139   \n",
              "\n",
              "                                                              3   \\\n",
              "rulingTitle    RULING BY THE HON MADAM FIRST DEPUTY SPEAKER O...   \n",
              "rulingText     Hon Members, I wish to inform the House that o...   \n",
              "context                                                complaint   \n",
              "categories                disciplinary action, procedural ruling   \n",
              "standingOrder                                 202, 208, 204, 205   \n",
              "\n",
              "                                                              4   \\\n",
              "rulingTitle    RULING ON ARTICLE 63 MOTIONS OF CENSURE AND EX...   \n",
              "rulingText     A Point of Order sought to restrict a motion o...   \n",
              "context                                           point of order   \n",
              "categories                         constitutional interpretation   \n",
              "standingOrder                                                139   \n",
              "\n",
              "                                                              5   \\\n",
              "rulingTitle    RULING ON ARTICLE 18 FAIR HEARING IN COMMITTEE...   \n",
              "rulingText     A Point of Order challenged whether a Committe...   \n",
              "context                                           point of order   \n",
              "categories                         constitutional interpretation   \n",
              "standingOrder                                           139, 226   \n",
              "\n",
              "                                                              6   \\\n",
              "rulingTitle    RULING BY THE HONOURABLE SPEAKER ON ADMINISTRA...   \n",
              "rulingText     Honourable Members, I am called upon to render...   \n",
              "context                                                 guidance   \n",
              "categories                               administrative decision   \n",
              "standingOrder                                                223   \n",
              "\n",
              "                                                              7   \\\n",
              "rulingTitle    Ruling by the Hon Mr Speaker on a Point of Ord...   \n",
              "rulingText     Hon Members will recall that on Thursday, 12th...   \n",
              "context                                           point of order   \n",
              "categories                                     procedural ruling   \n",
              "standingOrder                                                NaN   \n",
              "\n",
              "                                                              8   \\\n",
              "rulingTitle    RULING BY THE HON SECOND DEPUTY SPEAKER ON A P...   \n",
              "rulingText     Hon Members, the House will recall that on Fri...   \n",
              "context                                           point of order   \n",
              "categories     disciplinary action, constitutional interpreta...   \n",
              "standingOrder                                                 72   \n",
              "\n",
              "                                                              9   \\\n",
              "rulingTitle    RULING BY THE HONOURABLE SPEAKER ON UNBECOMING...   \n",
              "rulingText     Honourable Members, the Chair has noted with d...   \n",
              "context                       matter of urgent public importance   \n",
              "categories                                   disciplinary action   \n",
              "standingOrder                                      139, 215, 220   \n",
              "\n",
              "                                                              10  \\\n",
              "rulingTitle    RULING ON ARTICLE 16 PROPERTY RIGHTS AND FORFE...   \n",
              "rulingText     The House examined whether a proposed forfeitu...   \n",
              "context                                           point of order   \n",
              "categories                         constitutional interpretation   \n",
              "standingOrder                                                139   \n",
              "\n",
              "                                                              11  \\\n",
              "rulingTitle    Ruling by the Hon Madam Speaker - On a Point o...   \n",
              "rulingText     Hon Members, the House will recall that on Thu...   \n",
              "context                                           point of order   \n",
              "categories                                     procedural ruling   \n",
              "standingOrder                                                 65   \n",
              "\n",
              "                                                              12  \n",
              "rulingTitle    RULING BY THE HONOURABLE MADAM SPEAKER ON A FO...  \n",
              "rulingText     Honourable Members, during the heated debate o...  \n",
              "context                                           point of order  \n",
              "categories                                   disciplinary action  \n",
              "standingOrder                                                205  "
            ],
            "text/html": [
              "\n",
              "  <div id=\"df-95e22325-a98e-4a0a-add9-633d859d470c\" class=\"colab-df-container\">\n",
              "    <div>\n",
              "<style scoped>\n",
              "    .dataframe tbody tr th:only-of-type {\n",
              "        vertical-align: middle;\n",
              "    }\n",
              "\n",
              "    .dataframe tbody tr th {\n",
              "        vertical-align: top;\n",
              "    }\n",
              "\n",
              "    .dataframe thead th {\n",
              "        text-align: right;\n",
              "    }\n",
              "</style>\n",
              "<table border=\"1\" class=\"dataframe\">\n",
              "  <thead>\n",
              "    <tr style=\"text-align: right;\">\n",
              "      <th></th>\n",
              "      <th>0</th>\n",
              "      <th>1</th>\n",
              "      <th>2</th>\n",
              "      <th>3</th>\n",
              "      <th>4</th>\n",
              "      <th>5</th>\n",
              "      <th>6</th>\n",
              "      <th>7</th>\n",
              "      <th>8</th>\n",
              "      <th>9</th>\n",
              "      <th>10</th>\n",
              "      <th>11</th>\n",
              "      <th>12</th>\n",
              "    </tr>\n",
              "  </thead>\n",
              "  <tbody>\n",
              "    <tr>\n",
              "      <th>rulingTitle</th>\n",
              "      <td>RULING BY THE HONOURABLE SPEAKER ON A POINT OF...</td>\n",
              "      <td>Ruling by the Hon Madam Speaker on the Applica...</td>\n",
              "      <td>RULING BY THE HONOURABLE SPEAKER ON A POINT OF...</td>\n",
              "      <td>RULING BY THE HON MADAM FIRST DEPUTY SPEAKER O...</td>\n",
              "      <td>RULING ON ARTICLE 63 MOTIONS OF CENSURE AND EX...</td>\n",
              "      <td>RULING ON ARTICLE 18 FAIR HEARING IN COMMITTEE...</td>\n",
              "      <td>RULING BY THE HONOURABLE SPEAKER ON ADMINISTRA...</td>\n",
              "      <td>Ruling by the Hon Mr Speaker on a Point of Ord...</td>\n",
              "      <td>RULING BY THE HON SECOND DEPUTY SPEAKER ON A P...</td>\n",
              "      <td>RULING BY THE HONOURABLE SPEAKER ON UNBECOMING...</td>\n",
              "      <td>RULING ON ARTICLE 16 PROPERTY RIGHTS AND FORFE...</td>\n",
              "      <td>Ruling by the Hon Madam Speaker - On a Point o...</td>\n",
              "      <td>RULING BY THE HONOURABLE MADAM SPEAKER ON A FO...</td>\n",
              "    </tr>\n",
              "    <tr>\n",
              "      <th>rulingText</th>\n",
              "      <td>Honourable Members, I am called upon to determ...</td>\n",
              "      <td>Honourable Members will recall that on Wednesd...</td>\n",
              "      <td>Honourable Members, I am called upon to determ...</td>\n",
              "      <td>Hon Members, I wish to inform the House that o...</td>\n",
              "      <td>A Point of Order sought to restrict a motion o...</td>\n",
              "      <td>A Point of Order challenged whether a Committe...</td>\n",
              "      <td>Honourable Members, I am called upon to render...</td>\n",
              "      <td>Hon Members will recall that on Thursday, 12th...</td>\n",
              "      <td>Hon Members, the House will recall that on Fri...</td>\n",
              "      <td>Honourable Members, the Chair has noted with d...</td>\n",
              "      <td>The House examined whether a proposed forfeitu...</td>\n",
              "      <td>Hon Members, the House will recall that on Thu...</td>\n",
              "      <td>Honourable Members, during the heated debate o...</td>\n",
              "    </tr>\n",
              "    <tr>\n",
              "      <th>context</th>\n",
              "      <td>point of order</td>\n",
              "      <td>guidance</td>\n",
              "      <td>point of order</td>\n",
              "      <td>complaint</td>\n",
              "      <td>point of order</td>\n",
              "      <td>point of order</td>\n",
              "      <td>guidance</td>\n",
              "      <td>point of order</td>\n",
              "      <td>point of order</td>\n",
              "      <td>matter of urgent public importance</td>\n",
              "      <td>point of order</td>\n",
              "      <td>point of order</td>\n",
              "      <td>point of order</td>\n",
              "    </tr>\n",
              "    <tr>\n",
              "      <th>categories</th>\n",
              "      <td>constitutional interpretation, administrative ...</td>\n",
              "      <td>constitutional interpretation</td>\n",
              "      <td>constitutional interpretation, debate management</td>\n",
              "      <td>disciplinary action, procedural ruling</td>\n",
              "      <td>constitutional interpretation</td>\n",
              "      <td>constitutional interpretation</td>\n",
              "      <td>administrative decision</td>\n",
              "      <td>procedural ruling</td>\n",
              "      <td>disciplinary action, constitutional interpreta...</td>\n",
              "      <td>disciplinary action</td>\n",
              "      <td>constitutional interpretation</td>\n",
              "      <td>procedural ruling</td>\n",
              "      <td>disciplinary action</td>\n",
              "    </tr>\n",
              "    <tr>\n",
              "      <th>standingOrder</th>\n",
              "      <td>139</td>\n",
              "      <td>72, 72</td>\n",
              "      <td>139</td>\n",
              "      <td>202, 208, 204, 205</td>\n",
              "      <td>139</td>\n",
              "      <td>139, 226</td>\n",
              "      <td>223</td>\n",
              "      <td>NaN</td>\n",
              "      <td>72</td>\n",
              "      <td>139, 215, 220</td>\n",
              "      <td>139</td>\n",
              "      <td>65</td>\n",
              "      <td>205</td>\n",
              "    </tr>\n",
              "  </tbody>\n",
              "</table>\n",
              "</div>\n",
              "    <div class=\"colab-df-buttons\">\n",
              "\n",
              "  <div class=\"colab-df-container\">\n",
              "    <button class=\"colab-df-convert\" onclick=\"convertToInteractive('df-95e22325-a98e-4a0a-add9-633d859d470c')\"\n",
              "            title=\"Convert this dataframe to an interactive table.\"\n",
              "            style=\"display:none;\">\n",
              "\n",
              "  <svg xmlns=\"http://www.w3.org/2000/svg\" height=\"24px\" viewBox=\"0 -960 960 960\">\n",
              "    <path d=\"M120-120v-720h720v720H120Zm60-500h600v-160H180v160Zm220 220h160v-160H400v160Zm0 220h160v-160H400v160ZM180-400h160v-160H180v160Zm440 0h160v-160H620v160ZM180-180h160v-160H180v160Zm440 0h160v-160H620v160Z\"/>\n",
              "  </svg>\n",
              "    </button>\n",
              "\n",
              "  <style>\n",
              "    .colab-df-container {\n",
              "      display:flex;\n",
              "      gap: 12px;\n",
              "    }\n",
              "\n",
              "    .colab-df-convert {\n",
              "      background-color: #E8F0FE;\n",
              "      border: none;\n",
              "      border-radius: 50%;\n",
              "      cursor: pointer;\n",
              "      display: none;\n",
              "      fill: #1967D2;\n",
              "      height: 32px;\n",
              "      padding: 0 0 0 0;\n",
              "      width: 32px;\n",
              "    }\n",
              "\n",
              "    .colab-df-convert:hover {\n",
              "      background-color: #E2EBFA;\n",
              "      box-shadow: 0px 1px 2px rgba(60, 64, 67, 0.3), 0px 1px 3px 1px rgba(60, 64, 67, 0.15);\n",
              "      fill: #174EA6;\n",
              "    }\n",
              "\n",
              "    .colab-df-buttons div {\n",
              "      margin-bottom: 4px;\n",
              "    }\n",
              "\n",
              "    [theme=dark] .colab-df-convert {\n",
              "      background-color: #3B4455;\n",
              "      fill: #D2E3FC;\n",
              "    }\n",
              "\n",
              "    [theme=dark] .colab-df-convert:hover {\n",
              "      background-color: #434B5C;\n",
              "      box-shadow: 0px 1px 3px 1px rgba(0, 0, 0, 0.15);\n",
              "      filter: drop-shadow(0px 1px 2px rgba(0, 0, 0, 0.3));\n",
              "      fill: #FFFFFF;\n",
              "    }\n",
              "  </style>\n",
              "\n",
              "    <script>\n",
              "      const buttonEl =\n",
              "        document.querySelector('#df-95e22325-a98e-4a0a-add9-633d859d470c button.colab-df-convert');\n",
              "      buttonEl.style.display =\n",
              "        google.colab.kernel.accessAllowed ? 'block' : 'none';\n",
              "\n",
              "      async function convertToInteractive(key) {\n",
              "        const element = document.querySelector('#df-95e22325-a98e-4a0a-add9-633d859d470c');\n",
              "        const dataTable =\n",
              "          await google.colab.kernel.invokeFunction('convertToInteractive',\n",
              "                                                    [key], {});\n",
              "        if (!dataTable) return;\n",
              "\n",
              "        const docLinkHtml = 'Like what you see? Visit the ' +\n",
              "          '<a target=\"_blank\" href=https://colab.research.google.com/notebooks/data_table.ipynb>data table notebook</a>'\n",
              "          + ' to learn more about interactive tables.';\n",
              "        element.innerHTML = '';\n",
              "        dataTable['output_type'] = 'display_data';\n",
              "        await google.colab.output.renderOutput(dataTable, element);\n",
              "        const docLink = document.createElement('div');\n",
              "        docLink.innerHTML = docLinkHtml;\n",
              "        element.appendChild(docLink);\n",
              "      }\n",
              "    </script>\n",
              "  </div>\n",
              "\n",
              "\n",
              "    <div id=\"df-e2837114-ac51-4c3c-b337-4c2c01124d73\">\n",
              "      <button class=\"colab-df-quickchart\" onclick=\"quickchart('df-e2837114-ac51-4c3c-b337-4c2c01124d73')\"\n",
              "                title=\"Suggest charts\"\n",
              "                style=\"display:none;\">\n",
              "\n",
              "<svg xmlns=\"http://www.w3.org/2000/svg\" height=\"24px\"viewBox=\"0 0 24 24\"\n",
              "     width=\"24px\">\n",
              "    <g>\n",
              "        <path d=\"M19 3H5c-1.1 0-2 .9-2 2v14c0 1.1.9 2 2 2h14c1.1 0 2-.9 2-2V5c0-1.1-.9-2-2-2zM9 17H7v-7h2v7zm4 0h-2V7h2v10zm4 0h-2v-4h2v4z\"/>\n",
              "    </g>\n",
              "</svg>\n",
              "      </button>\n",
              "\n",
              "<style>\n",
              "  .colab-df-quickchart {\n",
              "      --bg-color: #E8F0FE;\n",
              "      --fill-color: #1967D2;\n",
              "      --hover-bg-color: #E2EBFA;\n",
              "      --hover-fill-color: #174EA6;\n",
              "      --disabled-fill-color: #AAA;\n",
              "      --disabled-bg-color: #DDD;\n",
              "  }\n",
              "\n",
              "  [theme=dark] .colab-df-quickchart {\n",
              "      --bg-color: #3B4455;\n",
              "      --fill-color: #D2E3FC;\n",
              "      --hover-bg-color: #434B5C;\n",
              "      --hover-fill-color: #FFFFFF;\n",
              "      --disabled-bg-color: #3B4455;\n",
              "      --disabled-fill-color: #666;\n",
              "  }\n",
              "\n",
              "  .colab-df-quickchart {\n",
              "    background-color: var(--bg-color);\n",
              "    border: none;\n",
              "    border-radius: 50%;\n",
              "    cursor: pointer;\n",
              "    display: none;\n",
              "    fill: var(--fill-color);\n",
              "    height: 32px;\n",
              "    padding: 0;\n",
              "    width: 32px;\n",
              "  }\n",
              "\n",
              "  .colab-df-quickchart:hover {\n",
              "    background-color: var(--hover-bg-color);\n",
              "    box-shadow: 0 1px 2px rgba(60, 64, 67, 0.3), 0 1px 3px 1px rgba(60, 64, 67, 0.15);\n",
              "    fill: var(--button-hover-fill-color);\n",
              "  }\n",
              "\n",
              "  .colab-df-quickchart-complete:disabled,\n",
              "  .colab-df-quickchart-complete:disabled:hover {\n",
              "    background-color: var(--disabled-bg-color);\n",
              "    fill: var(--disabled-fill-color);\n",
              "    box-shadow: none;\n",
              "  }\n",
              "\n",
              "  .colab-df-spinner {\n",
              "    border: 2px solid var(--fill-color);\n",
              "    border-color: transparent;\n",
              "    border-bottom-color: var(--fill-color);\n",
              "    animation:\n",
              "      spin 1s steps(1) infinite;\n",
              "  }\n",
              "\n",
              "  @keyframes spin {\n",
              "    0% {\n",
              "      border-color: transparent;\n",
              "      border-bottom-color: var(--fill-color);\n",
              "      border-left-color: var(--fill-color);\n",
              "    }\n",
              "    20% {\n",
              "      border-color: transparent;\n",
              "      border-left-color: var(--fill-color);\n",
              "      border-top-color: var(--fill-color);\n",
              "    }\n",
              "    30% {\n",
              "      border-color: transparent;\n",
              "      border-left-color: var(--fill-color);\n",
              "      border-top-color: var(--fill-color);\n",
              "      border-right-color: var(--fill-color);\n",
              "    }\n",
              "    40% {\n",
              "      border-color: transparent;\n",
              "      border-right-color: var(--fill-color);\n",
              "      border-top-color: var(--fill-color);\n",
              "    }\n",
              "    60% {\n",
              "      border-color: transparent;\n",
              "      border-right-color: var(--fill-color);\n",
              "    }\n",
              "    80% {\n",
              "      border-color: transparent;\n",
              "      border-right-color: var(--fill-color);\n",
              "      border-bottom-color: var(--fill-color);\n",
              "    }\n",
              "    90% {\n",
              "      border-color: transparent;\n",
              "      border-bottom-color: var(--fill-color);\n",
              "    }\n",
              "  }\n",
              "</style>\n",
              "\n",
              "      <script>\n",
              "        async function quickchart(key) {\n",
              "          const quickchartButtonEl =\n",
              "            document.querySelector('#' + key + ' button');\n",
              "          quickchartButtonEl.disabled = true;  // To prevent multiple clicks.\n",
              "          quickchartButtonEl.classList.add('colab-df-spinner');\n",
              "          try {\n",
              "            const charts = await google.colab.kernel.invokeFunction(\n",
              "                'suggestCharts', [key], {});\n",
              "          } catch (error) {\n",
              "            console.error('Error during call to suggestCharts:', error);\n",
              "          }\n",
              "          quickchartButtonEl.classList.remove('colab-df-spinner');\n",
              "          quickchartButtonEl.classList.add('colab-df-quickchart-complete');\n",
              "        }\n",
              "        (() => {\n",
              "          let quickchartButtonEl =\n",
              "            document.querySelector('#df-e2837114-ac51-4c3c-b337-4c2c01124d73 button');\n",
              "          quickchartButtonEl.style.display =\n",
              "            google.colab.kernel.accessAllowed ? 'block' : 'none';\n",
              "        })();\n",
              "      </script>\n",
              "    </div>\n",
              "\n",
              "    </div>\n",
              "  </div>\n"
            ],
            "application/vnd.google.colaboratory.intrinsic+json": {
              "type": "dataframe",
              "variable_name": "ruling_df",
              "summary": "{\n  \"name\": \"ruling_df\",\n  \"rows\": 300,\n  \"fields\": [\n    {\n      \"column\": \"rulingTitle\",\n      \"properties\": {\n        \"dtype\": \"string\",\n        \"num_unique_values\": 283,\n        \"samples\": [\n          \"RULING BY THE HONOURABLE SPEAKER ON UNBECOMING CONDUCT\",\n          \"RULING BY THE HON MADAMSPEAKER ON A POINT OF ORDER RAISED BY MR A KATAKWE, MEMBER OF PARLIAMENT FOR SOLWEZI EAST CONSTITUENCY AGAINST SUSPENDED PATRIOTIC FRONTMEMBERS OF PARLIAMENT FOR ALLEGEDLY LYING TO THE NATION THROUGH THE PUBLIC MEDIA THAT THEY WERE CHASED FROM PARLIAMENT IN ORDER TO PREVENT THEM FROM DEBATING THE PRESIDENTIAL SPEECH AND FOR DEFENDING THE CONSTITUTION\",\n          \"Ruling by the Hon Mr. Speaker on a point of Order raised by Mr Nkombo, Member of Parliament for Mazabuka Central on whether the House was in Order to deliberate on the Constitution of Zambia (Amendment) Bill No. 10 of 2019\"\n        ],\n        \"semantic_type\": \"\",\n        \"description\": \"\"\n      }\n    },\n    {\n      \"column\": \"rulingText\",\n      \"properties\": {\n        \"dtype\": \"string\",\n        \"num_unique_values\": 278,\n        \"samples\": [\n          \"Hon Members will recall that on Thursday, 16th March, 2023, when the House was considering the Motion of Thanks to the President\\u2019s Address on National Values and Principles, and Hon Dr S Musokotwane, Minister of Finance and National Planning, was debating, Hon B M Mundubile, Leader of the Opposition, raised a Point of Order against Hon Dr S Musokotwane, MP. At the time, Hon Dr S Musokotwane, MP, was questioning the sentiments by some members of the public that the National Pension Scheme Authority (NAPSA) should not fund the consortium constructing the Lusaka/Ndola Dual Carriageway.\\nThe Point of Order was premised on Standing Order 65 of the National Assembly of Zambia Standing Orders, 2021, which requires Members to ensure that the information they bring to the House is factual and verifiable. In his Point of Order, Hon B M Mundubile, MP, stated that the public was concerned that, previously, NAPSA had funded the construction of some roads through the National Road Fund Agency (NRFA). He, therefore, asked whether Hon Dr S Musokotwane, MP, was in order to insist that what he was doing was right when NAPSA could fund the construction of the Lusaka/Ndola Dual Carriageway through NRFA, instead of the consortium. In his immediate response, the Hon Mr Second Deputy Speaker reserved his ruling in order to study the matter and render a measured ruling. I have studied the matter, and will now render my ruling.\\nI wish to begin by reminding Hon Members of the purpose of a Point of Order. Standing Order 131 (1) of the National Assembly of Zambia Standing Orders 2021 is instructive in this regard. It provides as follows:\\n\\u201c131. (1) A member who is of the opinion that the rules of procedure have been breached by another member may raise a Point of Order.\\u201d\\nHon Members, from the foregoing provision it is clear that a Point of Order is used to bring to the attention of the House a breach of procedure or the rules of the House.\\nHon Members, a scrutiny of Hon B M Mundubile, MP\\u2019s, Point of Order revealed that he used it to present a different position from the Hon Minister regarding the financing of the Lusaka/Ndola Dual Carriageway by NAPSA. While he asserted that the hon Minister was misleading the House, his assertion was not that the hon Minister had presented a different position to the House earlier or the Hon Minister\\u2019s position was contrary to the Government\\u2019s position. Rather, his assertion was that the Hon Minister\\u2019s position was different from that of the public, which was for NAPSA to fund the road directly through NRFA. In other words, he was expressing his and the public\\u2019s view regarding the role NAPSA should play in financing the Lusaka/Ndola Dual Carriageway. As earlier stated, a Point of Order is intended to raise a procedural breach. It, therefore, cannot be used to raise a contrary or divergent position on a matter. Instead, a member who has a contrary view on an issue should indicate to debate. In view of the foregoing, the Point of Order is not admissible.\\nHon Members, I have observed a growing tendency by Hon Members, to use Points of Order to debate. That is an abuse of a Point of Order. There are various avenues available to Hon Members to express their opinions on matters. These include motions and questions. Therefore, going forward, I will not entertain any attempt to debate through a Point of Order. I Thank You.\\nRuling Date: Friday, March 31, 2023\",\n          \"Hon Members will recall that on Friday 30thOctober, 2020, when the House was considering Head 44- Ministry of Labour and Social Security- and MsM C Chonya, Member of Parliament for Kafue Parliamentary Constituency, was on the Floor, Dr F Ng\\u2019ambi, Member of Parliament for Chifubu Parliamentary Constituency, raised the following Point of Order:\\n\\u201cMadam Chairperson, thank you for the opportunity to raise a point of order. I also seek the indulgence of the Hon Member who was on the Floor.\\nMadam Chairperson, yesterday, 29th October, 2020, the Constitution of Zambia (Amendment) Bill No. 10 of 2019 was presented on the Floor of this House. This Bill was meant to benefit the people of Zambia, as it was progressive. It was also meant to address the many challenges that they have been experiencing. Madam Chairperson, one of the issues that came out yesterday is what we are experiencing today, which is that the communication system at the National Assembly keeps freezing from time to time. So, at the time of voting yesterday, my console froze and was unable to register my vote. Madam Chairperson, as you may be aware, I supported the Bill and my name was supposed to appear among those who voted for it. However, my name did not appear, and I have publicly declared that it was my intention to support Bill No. 10 of 2019. Since the system failed me by not registering my presence and I am publicly declaring my support for Bill No. 10 of 2019, will the records at the National Assembly be changed so that I become No. 106 among those who voted \\u2018yes\\u2019 yesterday? I seek your serious ruling, Madam Chairperson.\\u201d\\nIn her immediate response, the First Deputy Speaker,Hon C Namugala, MP, sitting as Chairperson of the Committee of Supply, reserved her ruling. Additionally,on the same day, my office received letters of complaint from Mr K Kabaso, Member of Parliament for Mwansabombwe Parliamentary Constituency, and Dr F Ng\\u2019ambi, MP, on the same matter.\\nThe letters were expressed in the following terms:\\n(i) Complaint by Mr K Kabaso, MP\\n\\\"RE: NAME NOT CAPTURED DURING VOTING ON BILL 10 MOTION\\nWith reference to the above caption, I write to your office, seeking clarity as to what transpired during 29th October, Parliament sitting during the voting of Bill No 10 Motion. Despite having voted yes to the Motion, it has come to my attention that my names were not captured as having voted.\\nI urgently seek your urgent response on this matter.\\nYours faithfully,\\nHon Kampampi Kabaso\\nMP Mwansabombwe Constituency\\u201d\\n(ii) Complaint by Dr F Ng\\u2019ambi, MP\\n\\\"RE: VOTING ON N.A.B BILL NO 10\\nReference is made to the above subject matter.\\nI write to officially complain that on 29th October, 2020, on the Floor of the House when the HonourableMr Speaker called to vote on N.A.B. Bill No. 10, I recall very well that I voted YES. I followed the instruction by pressing PRESENT and pressed YES.\\nShockingly, my name did not appear on the list of those who voted. I, therefore, demand that my name be included on the list of other Honourable Members who voted YES.\\nIt is my sincere hope that the integrity of the voting system be interrogated.\\nYour favourable consideration will be highly appreciated.\\nYours faithfully\\nHon Frank Ng\\u2019ambi, MP\\nCHIFUBU MEMBER OF PARLIAMENT\\u201d\\nHon Members, following the Point of Order,and complaints,my office conducted thorough investigations to establish what transpired on the material day. Hon Members, as you are aware, voting in the Chamber is conducted using the Bosch Communication system, installed in the Chamber. This is a stand-alone closed circuit system, which is not connected to the Parliament local area network or the internet. The isolation of the system from the internet, and main network is intended to restrict access to the system to Members who are physically present in the Chamber. To put it plainly,the system is isolated to protect it from any external interference or manipulation. Thus, voting on the Bosch system is only accessible from the Chamber, and can only be done by HonMembers from their respective units. It is for this reason that, on Friday 23rd October, 2020, the Office of the Clerk issued a circular advising all Members of Parliament to be physically present in the Chamber to cast their vote on the Constitution of Zambia (Amendment) Bill No. 10 of 2019.\\nHon Members, it is further noteworthy, that because the Bosch communication system cannot be accessed remotely, the Information and Communications (ICT) Department, has officers stationed in the Chamber. Thus, any Member encountering challenges with the system is assisted by the ICT officers from the Member\\u2019s personal unit. Hon Members, I now wish to highlight how the voting systemoperates.Once the Presiding Officer announces that the House will vote electronically, the following procedure is followed:\\n1. Hon Members areall logged out of the Bosch Chamber system by one of the ICT officers stationed in the Chamber.\\n2. The Presiding Officer announces as follows: \\u201cPLEASE LOG INTO THE SYSTEM\\u201d.\\n3. Hon Members are required to enter their username, and password to log into the system.\\n4. The Presiding Officer asks Members if they have all successfully loggedin.\\n5. The Presiding Officer announces as follows: \\u201cWHEN YOU HEAR THE PAGING SOUND THE VOTE HAS OPENED AND THE VOTING SCREEN IS DISPLAYED ON YOUR MICROPHONE UNIT\\u201d.\\n6. The Presiding Officer states as follows: SELECT THE PRESENT KEY.\\n7. The Presiding Officer asks if all Members have selected the \\u201cpresent\\u201d key.\\n8. The Presiding Officer then announces as follows:\\u201cON THE RIGHT SIDE OF THE SCREEN YOU WILL SEE THE WORDS: \\u201cPLEASE CAST YOUR VOTE\\u201d.\\n9. The Presiding Officer instructs Members to do the following: \\u201cSELECT ONE OF THE OPTIONS: YES, NO OR ABSTAIN\\u201d.\\n10. The Presiding Officer states as follows:\\u201cONCE YOU HAVE SELECTED ONE OF THE OPTIONS, YOU WILL SEE THE WORDS: \\u201cVOTE HAS BEEN CAST\\u201d ON THE RIGHT SIDE OF THE SCREEN\\u201d.\\n11. The Presiding Officer then announces that: \\u201cWHEN YOU HEAR THE SECOND PAGING SOUND THE VOTE WILL CLOSE AFTER ONE (1) MINUTE.\\n12. After 1 minute the Presiding Officer states as follows: \\u201cYOU HAVE JUST VOTED\\u201d.\\n13. The Presiding Officer announces the results as displayed on the system.\\nHon Members, once a vote has been taken, the Bosch communication system generates a comprehensive report on the vote, which includes the following features:\\n1. The first column headed \\\"Participant name\\\". This column contains the name of the Member of Parliament;\\n2. The second column headed \\u201cGroup\\u201d. This column indicates the party or groupto which a Member belongs;\\n3. The third column headed \\u201cVoting answer\\u201d.This columnprovides for fiveoptions as follows:\\n(i) Not Present: This means that the Member did not select the \\u201cpresent\\u201dkey to indicate their intention to participate in the vote;\\n(ii) Yes: This means the Member voted in favour ofthe motion on the Floor of the House;\\n(iii) No: This means the Member voted against the motion on the Floor of the House;\\n(iv) Abstain: This means the Member neither voted for or against the motion on the Floor of the House; and\\n(v) Not Voted: This means the member selected the \\u201cpresent\\u201d key, but did not select any of the voting options.\\n4. The fourth column is headed \\u201cAttendance.\\u201d It providestwo options:\\n(i) Present: This means that the Member successfully logged into the Bosch communication system; or\\n(ii) Absent: This means that the Member did not loginto the Bosch communication system.\\nHon Members, in view of the foregoing, it is evident that for a Member to vote, they need to, first,log into the Bosch Communication system. Thereafter, they must select the \\u201cpresent\\u201d key to signify their intention to vote. Where a member only logs into the system, but does not select the \\u201cpresent\\u201d key, they will not be able to vote. Thus, the system will capture the Member as present for purposes of logging in and \\\"not present\\\" for the purpose of voting. Hon Members, as regards Dr F Ng\\u2019ambi, MP, and Mr K Kabaso, MP, thereport indicates as follows:\\nParticipant name Group Voting Answer Attendance\\nDr Frank Ng\\u2019ambi PF Not Present Present\\nMr Kampampi Kabaso PF Not Present Present\\nHon Members, in the column headed \\u201cAttendance,\\u201dboth Dr F Ng\\u2019ambi, MP, and Mr K Kabaso, MP,are indicated as being present. This means that both Hon Members successfully logged into the system for purposes of voting.\\nIn the Second Column, headed \\u201cVoting Answer\\u201d, both Hon. Members are indicated as not being present. This signifies that both Dr F Ng\\u2019ambi, MP, and Mr K Kabaso, MP,did not selectthe \\\"present\\\" key,which would have activated the voting options, and enabled them to vote. Hon Members,in his Point of Order,Dr F Ng\\u2019ambi, MP, alleged that his vote could not be registered, because his console froze.However, investigations haverevealed that if, indeed, his console froze, as alleged, he would not even have been able to log into the system, let alone, to press the \\u201cPRESENT\\u201d AND \\u201cYES\\u201d options, as alleged in his letter of complaint. At any rate, if his console had indeed frozen, as alleged, he should have immediately alerted me, and I would have, in turn, instructed the ICT officers in the Chamber, to assist himforthwith. As a matter of fact an ICT specialist is positioned adjacent to me.\\nIn thepremise, I have come to the conclusion that, on the material day,Dr F Ng\\u2019ambi, MP, logged into the system as required. He, however, did not select the \\u201cpresent\\u201d key, which would have activated the necessary options to enable him vote. Therefore, contrary to his assertion that his vote was not recorded due to a system failure, Dr F Ng\\u2019ambi\\u2019s failure to register his vote, was as a result of his own failure to press on \\u201cpresent,\\u201d and thereby register his intention to vote. And, subsequently, proceed to vote. Hon Members,gleaning the Bosch system report referred to above,it is self-evident that the same narrative relating to Dr F Ngambi, applies toMr K Kabaso, MP.\\nIn view of the foregoing, the result for the vote on the Constitution of Zambia (Amendment) Bill cannot be re-visited or revised. Andshall stand, as recorded on the system, as declared by me, on Thursday, 29th October, 2020.\\nFinally, I would like to seize this opportunity to urge Hon Members to acquaint themselves thoroughly,with the voting procedure, andpromptly alert the Presiding Officer,whenever they experienceany challenge(s) with the system.\",\n          \"Honourable Members will recall that on Friday, 12th September, 2024, when the House passed Resolution No. 2024/17 calling on the President to immediately withdraw the proposed Mining Royalty Adjustment Bill, citing economic injustice, and the President declined to comply, stating that resolutions are non-binding under Article 87(1). A coalition of Members then petitioned the Constitutional Court, seeking clarity on whether such resolutions carry de facto authority. In her immediate response, the Honourable Madam Speaker reserved her ruling in order to study the matter. I have since examined the text of Articles 87(1) and 89(2), reviewed the precedent set in *Attorney-General v. National Assembly* (2021), and consulted the doctrine of constitutional conventions in Commonwealth systems. I find that while Article 87(1) explicitly distinguishes between legislation and resolutions, the cumulative weight of repeated, unanimous resolutions on matters of national interest \\u2014 particularly those invoking constitutional principles such as equity, transparency, and public welfare \\u2014 create a legitimate expectation of executive compliance under the spirit of cooperative governance. Therefore, I rule that parliamentary resolutions do not possess the force of law, but when they reflect clear, sustained, and principled consensus on constitutional values, the Executive is constitutionally obligated to provide a reasoned justification for non-compliance within thirty days. Failure to respond constitutes a breach of the duty of mutual respect under Article 1(4). This is a constitutional interpretation grounded in good faith and institutional reciprocity. I urge both Houses to exercise this power responsibly. I thank you.\"\n        ],\n        \"semantic_type\": \"\",\n        \"description\": \"\"\n      }\n    },\n    {\n      \"column\": \"context\",\n      \"properties\": {\n        \"dtype\": \"category\",\n        \"num_unique_values\": 4,\n        \"samples\": [\n          \"guidance\",\n          \"matter of urgent public importance\",\n          \"point of order\"\n        ],\n        \"semantic_type\": \"\",\n        \"description\": \"\"\n      }\n    },\n    {\n      \"column\": \"categories\",\n      \"properties\": {\n        \"dtype\": \"category\",\n        \"num_unique_values\": 16,\n        \"samples\": [\n          \"constitutional interpretation, administrative decision\",\n          \"constitutional interpretation\",\n          \"procedural ruling\"\n        ],\n        \"semantic_type\": \"\",\n        \"description\": \"\"\n      }\n    },\n    {\n      \"column\": \"standingOrder\",\n      \"properties\": {\n        \"dtype\": \"category\",\n        \"num_unique_values\": 123,\n        \"samples\": [\n          \"65, 131\",\n          \"33, 34\",\n          \"85, 86, 27\"\n        ],\n        \"semantic_type\": \"\",\n        \"description\": \"\"\n      }\n    }\n  ]\n}"
            }
          },
          "metadata": {},
          "execution_count": 255
        }
      ],
      "source": [
        "#first 5 fow of the datase\n",
        "ruling_df.head(13).T\n"
      ]
    },
    {
      "cell_type": "code",
      "execution_count": null,
      "metadata": {
        "colab": {
          "base_uri": "https://localhost:8080/",
          "height": 241
        },
        "id": "-2KdN_WAPRRI",
        "outputId": "1b0b1c88-49a8-491b-d9da-f024fc159fd0"
      },
      "outputs": [
        {
          "output_type": "execute_result",
          "data": {
            "text/plain": [
              "                                                             295  \\\n",
              "rulingTitle    RULING BY THE HONOURABLE MADAM SPEAKER ON THE ...   \n",
              "rulingText     Honourable Members, public trust is the curren...   \n",
              "context                                                 guidance   \n",
              "categories          disciplinary action, administrative decision   \n",
              "standingOrder                                                203   \n",
              "\n",
              "                                                             296  \\\n",
              "rulingTitle    RULING BY THE HON MADAM SPEAKER ON A POINT OF ...   \n",
              "rulingText     Hon Members will recall that on Thursday, 3rd ...   \n",
              "context                                           point of order   \n",
              "categories                                     procedural ruling   \n",
              "standingOrder                                                 65   \n",
              "\n",
              "                                                             297  \\\n",
              "rulingTitle    Ruling by Hon. Mr Speaker on a Point of Order ...   \n",
              "rulingText     Hon Members will recall that on Friday, 19th F...   \n",
              "context                                           point of order   \n",
              "categories                                   disciplinary action   \n",
              "standingOrder                                                 53   \n",
              "\n",
              "                                                             298  \\\n",
              "rulingTitle    Ruling by the Hon Madam Speaker on the Use of ...   \n",
              "rulingText     Honourable Members will recall that on Thursda...   \n",
              "context                                                 guidance   \n",
              "categories                               administrative decision   \n",
              "standingOrder                                           187, 202   \n",
              "\n",
              "                                                             299  \n",
              "rulingTitle    Ruling by Hon. Madam Speaker on a Matter of Ur...  \n",
              "rulingText     Hon Members, the House will recall that on Wed...  \n",
              "context                       matter of urgent public importance  \n",
              "categories                                     procedural ruling  \n",
              "standingOrder                                  135, 51, 135, 135  "
            ],
            "text/html": [
              "\n",
              "  <div id=\"df-9ac1fd3a-9cd2-407a-b02d-c3d79262dac8\" class=\"colab-df-container\">\n",
              "    <div>\n",
              "<style scoped>\n",
              "    .dataframe tbody tr th:only-of-type {\n",
              "        vertical-align: middle;\n",
              "    }\n",
              "\n",
              "    .dataframe tbody tr th {\n",
              "        vertical-align: top;\n",
              "    }\n",
              "\n",
              "    .dataframe thead th {\n",
              "        text-align: right;\n",
              "    }\n",
              "</style>\n",
              "<table border=\"1\" class=\"dataframe\">\n",
              "  <thead>\n",
              "    <tr style=\"text-align: right;\">\n",
              "      <th></th>\n",
              "      <th>295</th>\n",
              "      <th>296</th>\n",
              "      <th>297</th>\n",
              "      <th>298</th>\n",
              "      <th>299</th>\n",
              "    </tr>\n",
              "  </thead>\n",
              "  <tbody>\n",
              "    <tr>\n",
              "      <th>rulingTitle</th>\n",
              "      <td>RULING BY THE HONOURABLE MADAM SPEAKER ON THE ...</td>\n",
              "      <td>RULING BY THE HON MADAM SPEAKER ON A POINT OF ...</td>\n",
              "      <td>Ruling by Hon. Mr Speaker on a Point of Order ...</td>\n",
              "      <td>Ruling by the Hon Madam Speaker on the Use of ...</td>\n",
              "      <td>Ruling by Hon. Madam Speaker on a Matter of Ur...</td>\n",
              "    </tr>\n",
              "    <tr>\n",
              "      <th>rulingText</th>\n",
              "      <td>Honourable Members, public trust is the curren...</td>\n",
              "      <td>Hon Members will recall that on Thursday, 3rd ...</td>\n",
              "      <td>Hon Members will recall that on Friday, 19th F...</td>\n",
              "      <td>Honourable Members will recall that on Thursda...</td>\n",
              "      <td>Hon Members, the House will recall that on Wed...</td>\n",
              "    </tr>\n",
              "    <tr>\n",
              "      <th>context</th>\n",
              "      <td>guidance</td>\n",
              "      <td>point of order</td>\n",
              "      <td>point of order</td>\n",
              "      <td>guidance</td>\n",
              "      <td>matter of urgent public importance</td>\n",
              "    </tr>\n",
              "    <tr>\n",
              "      <th>categories</th>\n",
              "      <td>disciplinary action, administrative decision</td>\n",
              "      <td>procedural ruling</td>\n",
              "      <td>disciplinary action</td>\n",
              "      <td>administrative decision</td>\n",
              "      <td>procedural ruling</td>\n",
              "    </tr>\n",
              "    <tr>\n",
              "      <th>standingOrder</th>\n",
              "      <td>203</td>\n",
              "      <td>65</td>\n",
              "      <td>53</td>\n",
              "      <td>187, 202</td>\n",
              "      <td>135, 51, 135, 135</td>\n",
              "    </tr>\n",
              "  </tbody>\n",
              "</table>\n",
              "</div>\n",
              "    <div class=\"colab-df-buttons\">\n",
              "\n",
              "  <div class=\"colab-df-container\">\n",
              "    <button class=\"colab-df-convert\" onclick=\"convertToInteractive('df-9ac1fd3a-9cd2-407a-b02d-c3d79262dac8')\"\n",
              "            title=\"Convert this dataframe to an interactive table.\"\n",
              "            style=\"display:none;\">\n",
              "\n",
              "  <svg xmlns=\"http://www.w3.org/2000/svg\" height=\"24px\" viewBox=\"0 -960 960 960\">\n",
              "    <path d=\"M120-120v-720h720v720H120Zm60-500h600v-160H180v160Zm220 220h160v-160H400v160Zm0 220h160v-160H400v160ZM180-400h160v-160H180v160Zm440 0h160v-160H620v160ZM180-180h160v-160H180v160Zm440 0h160v-160H620v160Z\"/>\n",
              "  </svg>\n",
              "    </button>\n",
              "\n",
              "  <style>\n",
              "    .colab-df-container {\n",
              "      display:flex;\n",
              "      gap: 12px;\n",
              "    }\n",
              "\n",
              "    .colab-df-convert {\n",
              "      background-color: #E8F0FE;\n",
              "      border: none;\n",
              "      border-radius: 50%;\n",
              "      cursor: pointer;\n",
              "      display: none;\n",
              "      fill: #1967D2;\n",
              "      height: 32px;\n",
              "      padding: 0 0 0 0;\n",
              "      width: 32px;\n",
              "    }\n",
              "\n",
              "    .colab-df-convert:hover {\n",
              "      background-color: #E2EBFA;\n",
              "      box-shadow: 0px 1px 2px rgba(60, 64, 67, 0.3), 0px 1px 3px 1px rgba(60, 64, 67, 0.15);\n",
              "      fill: #174EA6;\n",
              "    }\n",
              "\n",
              "    .colab-df-buttons div {\n",
              "      margin-bottom: 4px;\n",
              "    }\n",
              "\n",
              "    [theme=dark] .colab-df-convert {\n",
              "      background-color: #3B4455;\n",
              "      fill: #D2E3FC;\n",
              "    }\n",
              "\n",
              "    [theme=dark] .colab-df-convert:hover {\n",
              "      background-color: #434B5C;\n",
              "      box-shadow: 0px 1px 3px 1px rgba(0, 0, 0, 0.15);\n",
              "      filter: drop-shadow(0px 1px 2px rgba(0, 0, 0, 0.3));\n",
              "      fill: #FFFFFF;\n",
              "    }\n",
              "  </style>\n",
              "\n",
              "    <script>\n",
              "      const buttonEl =\n",
              "        document.querySelector('#df-9ac1fd3a-9cd2-407a-b02d-c3d79262dac8 button.colab-df-convert');\n",
              "      buttonEl.style.display =\n",
              "        google.colab.kernel.accessAllowed ? 'block' : 'none';\n",
              "\n",
              "      async function convertToInteractive(key) {\n",
              "        const element = document.querySelector('#df-9ac1fd3a-9cd2-407a-b02d-c3d79262dac8');\n",
              "        const dataTable =\n",
              "          await google.colab.kernel.invokeFunction('convertToInteractive',\n",
              "                                                    [key], {});\n",
              "        if (!dataTable) return;\n",
              "\n",
              "        const docLinkHtml = 'Like what you see? Visit the ' +\n",
              "          '<a target=\"_blank\" href=https://colab.research.google.com/notebooks/data_table.ipynb>data table notebook</a>'\n",
              "          + ' to learn more about interactive tables.';\n",
              "        element.innerHTML = '';\n",
              "        dataTable['output_type'] = 'display_data';\n",
              "        await google.colab.output.renderOutput(dataTable, element);\n",
              "        const docLink = document.createElement('div');\n",
              "        docLink.innerHTML = docLinkHtml;\n",
              "        element.appendChild(docLink);\n",
              "      }\n",
              "    </script>\n",
              "  </div>\n",
              "\n",
              "\n",
              "    <div id=\"df-158f4b99-995c-4ad7-bc0c-050b0422026b\">\n",
              "      <button class=\"colab-df-quickchart\" onclick=\"quickchart('df-158f4b99-995c-4ad7-bc0c-050b0422026b')\"\n",
              "                title=\"Suggest charts\"\n",
              "                style=\"display:none;\">\n",
              "\n",
              "<svg xmlns=\"http://www.w3.org/2000/svg\" height=\"24px\"viewBox=\"0 0 24 24\"\n",
              "     width=\"24px\">\n",
              "    <g>\n",
              "        <path d=\"M19 3H5c-1.1 0-2 .9-2 2v14c0 1.1.9 2 2 2h14c1.1 0 2-.9 2-2V5c0-1.1-.9-2-2-2zM9 17H7v-7h2v7zm4 0h-2V7h2v10zm4 0h-2v-4h2v4z\"/>\n",
              "    </g>\n",
              "</svg>\n",
              "      </button>\n",
              "\n",
              "<style>\n",
              "  .colab-df-quickchart {\n",
              "      --bg-color: #E8F0FE;\n",
              "      --fill-color: #1967D2;\n",
              "      --hover-bg-color: #E2EBFA;\n",
              "      --hover-fill-color: #174EA6;\n",
              "      --disabled-fill-color: #AAA;\n",
              "      --disabled-bg-color: #DDD;\n",
              "  }\n",
              "\n",
              "  [theme=dark] .colab-df-quickchart {\n",
              "      --bg-color: #3B4455;\n",
              "      --fill-color: #D2E3FC;\n",
              "      --hover-bg-color: #434B5C;\n",
              "      --hover-fill-color: #FFFFFF;\n",
              "      --disabled-bg-color: #3B4455;\n",
              "      --disabled-fill-color: #666;\n",
              "  }\n",
              "\n",
              "  .colab-df-quickchart {\n",
              "    background-color: var(--bg-color);\n",
              "    border: none;\n",
              "    border-radius: 50%;\n",
              "    cursor: pointer;\n",
              "    display: none;\n",
              "    fill: var(--fill-color);\n",
              "    height: 32px;\n",
              "    padding: 0;\n",
              "    width: 32px;\n",
              "  }\n",
              "\n",
              "  .colab-df-quickchart:hover {\n",
              "    background-color: var(--hover-bg-color);\n",
              "    box-shadow: 0 1px 2px rgba(60, 64, 67, 0.3), 0 1px 3px 1px rgba(60, 64, 67, 0.15);\n",
              "    fill: var(--button-hover-fill-color);\n",
              "  }\n",
              "\n",
              "  .colab-df-quickchart-complete:disabled,\n",
              "  .colab-df-quickchart-complete:disabled:hover {\n",
              "    background-color: var(--disabled-bg-color);\n",
              "    fill: var(--disabled-fill-color);\n",
              "    box-shadow: none;\n",
              "  }\n",
              "\n",
              "  .colab-df-spinner {\n",
              "    border: 2px solid var(--fill-color);\n",
              "    border-color: transparent;\n",
              "    border-bottom-color: var(--fill-color);\n",
              "    animation:\n",
              "      spin 1s steps(1) infinite;\n",
              "  }\n",
              "\n",
              "  @keyframes spin {\n",
              "    0% {\n",
              "      border-color: transparent;\n",
              "      border-bottom-color: var(--fill-color);\n",
              "      border-left-color: var(--fill-color);\n",
              "    }\n",
              "    20% {\n",
              "      border-color: transparent;\n",
              "      border-left-color: var(--fill-color);\n",
              "      border-top-color: var(--fill-color);\n",
              "    }\n",
              "    30% {\n",
              "      border-color: transparent;\n",
              "      border-left-color: var(--fill-color);\n",
              "      border-top-color: var(--fill-color);\n",
              "      border-right-color: var(--fill-color);\n",
              "    }\n",
              "    40% {\n",
              "      border-color: transparent;\n",
              "      border-right-color: var(--fill-color);\n",
              "      border-top-color: var(--fill-color);\n",
              "    }\n",
              "    60% {\n",
              "      border-color: transparent;\n",
              "      border-right-color: var(--fill-color);\n",
              "    }\n",
              "    80% {\n",
              "      border-color: transparent;\n",
              "      border-right-color: var(--fill-color);\n",
              "      border-bottom-color: var(--fill-color);\n",
              "    }\n",
              "    90% {\n",
              "      border-color: transparent;\n",
              "      border-bottom-color: var(--fill-color);\n",
              "    }\n",
              "  }\n",
              "</style>\n",
              "\n",
              "      <script>\n",
              "        async function quickchart(key) {\n",
              "          const quickchartButtonEl =\n",
              "            document.querySelector('#' + key + ' button');\n",
              "          quickchartButtonEl.disabled = true;  // To prevent multiple clicks.\n",
              "          quickchartButtonEl.classList.add('colab-df-spinner');\n",
              "          try {\n",
              "            const charts = await google.colab.kernel.invokeFunction(\n",
              "                'suggestCharts', [key], {});\n",
              "          } catch (error) {\n",
              "            console.error('Error during call to suggestCharts:', error);\n",
              "          }\n",
              "          quickchartButtonEl.classList.remove('colab-df-spinner');\n",
              "          quickchartButtonEl.classList.add('colab-df-quickchart-complete');\n",
              "        }\n",
              "        (() => {\n",
              "          let quickchartButtonEl =\n",
              "            document.querySelector('#df-158f4b99-995c-4ad7-bc0c-050b0422026b button');\n",
              "          quickchartButtonEl.style.display =\n",
              "            google.colab.kernel.accessAllowed ? 'block' : 'none';\n",
              "        })();\n",
              "      </script>\n",
              "    </div>\n",
              "\n",
              "    </div>\n",
              "  </div>\n"
            ],
            "application/vnd.google.colaboratory.intrinsic+json": {
              "type": "dataframe",
              "summary": "{\n  \"name\": \"ruling_df\",\n  \"rows\": 5,\n  \"fields\": [\n    {\n      \"column\": 295,\n      \"properties\": {\n        \"dtype\": \"string\",\n        \"num_unique_values\": 5,\n        \"samples\": [\n          \"Honourable Members, public trust is the currency of our democracy. To strengthen that trust and provide a clear, transparent mechanism for addressing concerns about Members' conduct, I today announce a comprehensive revision of the Members' Code of Conduct and the establishment of the Office of the Parliamentary Ethics Commissioner. The revised Code, which has been developed by a select committee and incorporates input from civil society, is more detailed and proactive. It includes specific provisions on conflicts of interest, requiring detailed annual declarations of financial and pecuniary interests which will be published in a searchable register; on the acceptance of gifts and hospitality; and on the use of parliamentary resources, which must be exclusively for parliamentary duties. The new Office of the Parliamentary Ethics Commissioner will be an independent, impartial body. The Commissioner will be appointed by a resolution of the whole House for a single, non-renewable term of five years. Their role will be advisory, investigative, and educational. They will provide confidential advice to Members on ethical dilemmas, conduct preliminary assessments of complaints lodged by the public or fellow Members, and conduct mandatory induction training on ethics for all new Members. If the Commissioner's investigation finds a prima facie case of a breach of the Code, the matter will be referred to the Committee on Privileges and Absences for a full hearing. This system creates a vital buffer, ensuring that ethical complaints are initially handled by an independent officer rather than becoming immediately politicized within a parliamentary committee. This administrative overhaul, undertaken under the authority of the Parliamentary and Ministerial Code of Conduct Act and Standing Order 203, is designed to uphold the highest standards of integrity in our public life. It provides clarity for Members and a transparent process for the public. The new Code and the details of the Ethics Commissioner's role will be circulated to all Members. I THANK YOU.\",\n          \"203\",\n          \"guidance\"\n        ],\n        \"semantic_type\": \"\",\n        \"description\": \"\"\n      }\n    },\n    {\n      \"column\": 296,\n      \"properties\": {\n        \"dtype\": \"string\",\n        \"num_unique_values\": 5,\n        \"samples\": [\n          \"Hon Members will recall that on Thursday, 3rd November, 2022, when the House was debating Head 1 \\u2013 Office of the President \\u2013 State House and Rev G Katuta, Member of Parliament for Chiengi Constituency was debating, Mr L Hamwaata, Member of Parliament for Pemba Constituency, raised a Point of Order. In his Point of Order, Mr L Hamwaata, MP, inquired whether Rev G Katuta, MP, was in order to suggest that Community House, His Excellency the President, Mr Hakainde Hichilema\\u2019s, private residence was being renovated using public funds without providing evidence. Hon Members, in her immediate response, the Hon Madam Chairperson reserved her ruling in order to study the matter. I have since studied the matter and will now render my ruling.\\nHon Members, the Point of order raises the issue of a Member\\u2019s duty to ensure that the information he or she provides to the House, when debating, is factual and verifiable.\\nHon Members may wish to note that Members\\u2019 freedom of speech and debate in the House is recognised and protected by the Constitution, Cap 1 of the Laws of Zambia, and the National Assembly (Powers and Privileges) Act, Cap. 12 of the Laws of Zambia.\\nHowever, although the Constitution and the National Assembly (Powers and Privileges) Act, guarantee Members freedom of speech and debate in the Assembly, such freedom is subject to the rules of the House. One such rule requires that the information a Member provides to the House, is factual, verifiable and substantiated. In this regard, Standing Order 65 (1) (b) of the National Assembly of Zambia Standing Orders, 2021 provides that-\\n\\u201c65. (1) A member who is debating shall \\u2013 (a)\\u2026\\n(b) ensure that the information he or she provides to the House is factual and verifiable.\\u201d\\nFurther, Chapter 3 of the National Assembly Members\\u2019 Handbook 2006 on \\u201cRules of Debate,\\u201d states as follows:\\n\\u201cMembers must not allege specific matters of fact as being true unless they are able to substantiate them.\\u201d\\nHon Members, I had recourse to the verbatim record of the parliamentary proceedings for Thursday, 3rd November, 2022 when the House resolved into a Committee of Supply and was considering Head 1\\u2013Office of the President \\u2013 State House, in order to determine whether the alleged statement was made by Rev G Katuta MP.\\nHon Members, the verbatim record revealed that indeed Rev G Katuta, MP, alleged that the private residence of the Republican President commonly referred to as \\\"Community House\\\" was being renovated using public resources, in her debate of Head 1-Office of the President \\u2013 State House on Thursday, 3rd November, 2022. However, Rev G Katuta, MP, did not lay any evidence on the Table of the House to verify and substantiate her allegation. As a result, her statement contravened the rules of debate as provided in the National Assembly of Zambia Standing Orders, 2021, and the National Assembly Members\\u2019 Handbook 2006. She was, therefore, out of order.\\nHon Members, may I take this opportunity to, once more, remind you that making unverified and unsubstantiated statements on the Floor of the House is a breach of our rules. As you are well aware, debates in the House are widely followed nationally through the radio, television, and on the internet. I, therefore, urge you to desist from making unverified and unsubstantiated statements on Floor of the House in order to avoid misleading the House and the public at large.\\nI thank you.\",\n          \"65\",\n          \"point of order\"\n        ],\n        \"semantic_type\": \"\",\n        \"description\": \"\"\n      }\n    },\n    {\n      \"column\": 297,\n      \"properties\": {\n        \"dtype\": \"string\",\n        \"num_unique_values\": 5,\n        \"samples\": [\n          \"Hon Members will recall that on Friday, 19th February, 2021, when the House was considering the Motion of Thanks on The President\\u2019s Address on the Progress Made in the Application of National Values and Principles and Mr C D Miyanda, Member of Parliament for Mapatizya Parliamentary Constituency was on the Floor, Hon T S Ngulube, Deputy Government Chief Whip and Member of Parliament for Kabwe Central, raised the following Point of Order: \\u201cMr Speaker, thank you for according me this opportunity to rise on this very important point of order. Mr Speaker, you have already guided this House, and I think we all know that relevance is one of the pillar stones of debates in this House. When the hon. Member debating says that the Head of State must lead by example, especially on alcohol, is he referring to the President\\u2019s Speech or is he still going back to the same thing that you have already guided us on?\\nI seek your serious ruling.\\u201d In my immediate response to the Point of Order, I indicated that I was constrained to rule on the Point of Order until I had sight of the verbatim record. I have since perused the record on the matters relevant to the Point of Order and now render my ruling. Hon Members, having contextualized the Point of Order, I wish to apprise the House that the Point of Order raises the issue of a Member debating the persona of the Head of State. The National Assembly Members\\u2019 Handbook, 2006, is instructive on the matter. In this regard, paragraphs 24 (d) and (e) of Chapter Five, entitled Conduct of Members of Parliament and Parliamentary Etiquette, provides that: \\u201c24. While on the Floor of the House, Members should not:\\n(d) reflect upon the conduct of persons in high authority i.e. the Head of State or the Chair unless the discussion is based on a substantive motion drawn on proper terms; and\\n(e) use the name of the Head of State for the purpose of influencing debate.\\u201d\\nHon Members, the import of this provision is that Members are barred from bringing in their debate, the persona of the President. That is, Members are proscribed from making reflections on the conduct of the President or other persons in high authority as spelt out, unless the discussion is based on a substantive Motion drawn on proper terms.\\nTherefore, Mr Miyanda, MP, was out of order when he made reference to the Head of State, in the manner he did. By so doing, he fell foul of paragraphs 24 (d) and (e) of Chapter Five of the Members\\u2019 Handbook. I THANK YOU\",\n          \"53\",\n          \"point of order\"\n        ],\n        \"semantic_type\": \"\",\n        \"description\": \"\"\n      }\n    },\n    {\n      \"column\": 298,\n      \"properties\": {\n        \"dtype\": \"string\",\n        \"num_unique_values\": 5,\n        \"samples\": [\n          \"Honourable Members will recall that on Thursday, 12th June, 2024, when the House was considering the Motion on the Establishment of a Special Investigative Committee, and Mr J Mwansa, Member of Parliament for Kawambwa, raised a complaint that the main Chamber\\u00e2\\u0080\\u0099s audio system \\u00e2\\u0080\\u0094 including microphones, amplifiers, and recording equipment \\u00e2\\u0080\\u0094 had been used on three occasions in the past month for private receptions hosted by Members in the Chamber after hours, without authorization. He cited a recent event where a wedding reception was held in the Chamber, with music played through the parliamentary sound system. In her immediate response, the Honourable Madam Speaker reserved her ruling in order to study the matter. I have since reviewed the booking logs, interviewed the Head of Technical Services, and confirmed that no formal request for non-parliamentary use had been submitted or approved. I note that Standing Order 187(7) expressly prohibits the use of parliamentary equipment for non-official purposes. The Chamber is a sacred space of democratic deliberation, not a venue for social events. Therefore, I issue a firm directive: the main Chamber\\u00e2\\u0080\\u0099s audio system shall be used exclusively for official parliamentary sittings, committee hearings, and live broadcasts. Any request for its use for private functions shall be categorically denied. Unauthorized use shall result in immediate suspension of the Member\\u00e2\\u0080\\u0099s access rights and financial liability for repair costs. This is an administrative safeguard to preserve the dignity of the institution. I thank you.\",\n          \"187, 202\",\n          \"guidance\"\n        ],\n        \"semantic_type\": \"\",\n        \"description\": \"\"\n      }\n    },\n    {\n      \"column\": 299,\n      \"properties\": {\n        \"dtype\": \"string\",\n        \"num_unique_values\": 5,\n        \"samples\": [\n          \"Hon Members, the House will recall that on Wednesday, 15th September, 2021, when the House was considering the Motion of Thanks to His Excellency, President HakaindeHichilema\\u2019s Address and Mr R Mutale,Member of Parliament for Chitambo Parliamentary Constituency, was on the floor,Mr R Chitotela, Member of Parliament for Pambashe Parliamentary Constituency, raised a matter of urgent public importance pursuant to Standing Order 134 of the National Assembly of Zambia Standing Orders, 2021.\\nThe issues raised by Mr R Chitotela, MP, can be summarised as follows:\\n(i) whether the security briefs rendered by the security wings to the President of the Republic of Zambia will be subjected to Cabinet approval;\\n(ii) whether it was in order for the United Party for National Development (UPND) political party to issue statements on behalf of the Government; and\\n(iii) whether it was appropriate for the Republican President, who was State property, to fly economy class during the Coronavirus Disease-2019 (COVID-19) pandemic.\\nHon Members, in my immediate response, I reserved my ruling in order to make inquiries on the matter. I have since studied the matter and will now render my ruling. Before I consider whether the issues raised by the hon Member for Pambashequalify to be raised as a matter of urgent public importance, I wish to explain this rule, which was introduced in the House for the first time in the 2021 Standing Orders.\\n(i) Background\\nHon Members, this rule was introduced in order to restrict Points of Order to matters of breach of procedure in the House. It was observed that members would rise on a Point of Order in order to bring to the House\\u2019s attention an urgent matter that had occurred in the country or their constituency. Recognising that this was an abuse of a Point of Order, it was decided that a new rule be introduced to enable members bring to the attention of the House a serious and urgent matter requiring the immediate attention of the Government. The rationale behind the introduction of a matter of public importance under Standing Order 34, was the recognition that there were some serious and urgent matters that only a Member of Parliament could be privy to which if not brought to the immediate attention of the House and the Government could result in a catastrophe leading to loss of life or property.Such urgent matters include natural disasterslike floods or fire, and invasions by humans or animals. Therefore, while an issue mayappear important, if it is not so urgent and serious that it requires the immediate attention of the Government to avert a calamity, then it is not admissible under Standing Order 134.\\nHon Members, it is now important to consider the rules governing the raising of a matter of urgent public importance.\\n(i) Timing\\nStanding Order 51 provides for the order of business of the House on any given day. According to the Standing Order,a matter of urgent public importance must be raised before any of the following items on the Order Paper:\\na) The Vice-Presidents Question Time;\\nb) Ministerial statements or statements by the Vice-President;\\nc) Personal explanations;\\nd) Questions;\\ne) Bills; and\\nf) Public and private business.\\nFrom the foregoing, it is clear that a Member cannot raise a matter of urgent public importanceonce the House has reached any of the outlined stages of business.Instead, the membermust wait for the appropriate time on the next business day to raise the matter.\\n(ii) Admissibility Standing Order 135 (1) provides the following admissibility criteriafor a matter of public importance: (i) it is a case of recent occurrence;\\n(ii) it does not relate to a general state of affairs;\\n(iii) it involves the administrative or ministerial responsibility of the Government;\\n(iv) it requires the immediate attention of the House and the Government; and\\n(v) it deals only with one substantive issue.\\nFurther Standing Order 135 (2) renders a matter inadmissible if:\\n(i) it has not been raised at the earliest opportunity;\\n(ii) it has already been discussed by the House during the Session;\\n(iii) it is not so serious so as to require urgent attention; or\\n(iv) it is sub judice.\\nHon Members, Standing Order 135 (1)makes it clear that all the set criteria must be met for a matter to be considered as one of urgent public importance. In this regard, a matter which fails to meet even one of the set criteria is inadmissible. Further, Standing Order 135 (2) categorically states instances when a matter of urgent public importance is inadmissible. For instance, if a matter has not been raised at the earliest opportunity or it is not serious enough to require urgent attention. (iii) Procedure\\nHon Members, Standing Order 134 provides the steps to be taken by a member raising a matter of urgent public importance. It also provides the action to be taken by a presiding officer once such a matter has been raised. The steps a member should follow in raising a matter of urgent public importance are as follows: (i) A member must rise and say,or indicate electronically: \\\"Matter of urgent public importance, Madam/Mr Speaker\\\".\\n(ii) After being recognised by the presiding officer, a member must say: \\\"Madam/Mr Speaker, I wish to raise a matter of urgent public importance under Standing Order 134 directed at Her Honour the Vice-President or an appropriate Minister.\\n(iii) The member must briefly state the urgent matter and conclude by saying: \\\"Madam, Speaker, I seek your direction on the matter\\\". (iv) The member must take his or her seat. Hon Members, once a matter of urgent public importance has been raised, the presiding officer has the sole discretion tomakeany of the following decisions:\\na) to allow the matter as being one of urgent public importance and direct the Vice-President or a minister to respond to the matter immediately or on a future date; b) to direct the member to reduce in writing the urgent matter of public importance and schedule it for debate on a specific future date; or\\nc) disallow the matter as not being one of public importance.\\nHon Members,having explained the procedure and admissiblility criteria for raising a matter of urgent public importance, I now wish to address the matter raised by Mr R Chitotela, MP. Firstly, Mr RChitotela, MP, raised the matter while the House was debating the Motion of Thanks to His Excellency the President\\u2019s Address, which is public business. From the timing outlined earlier, it is clear that an urgent matter of public importance must be raised before the House begins to consider public business. In this regard, the matter was raised out of time.\\nSecondly, while the issues he raised may be important in the governance of the country,they are not so serious or urgent that they require the immediate action of the Government to avert a calamity as envisaged by Standing Order 134. In view of the foregoing, the matteris inadmissible as a matter of urgent public importance.\\nHon Members, I have further observed that that some members have been confusing the procedure for Point of Orders under Standing Order 131 and that for raising a matter of urgent public importance under Standing Order 134. I am confident that the guidance I have given on how to raisea matter of urgent public importance will help resolve this problem.\\nHon Members, I wish to seize this opportunity to urge all Hon Members to familiarise themselves with the National Assembly of Zambia Standing Orders, 2021, and consult the Office of the Clerk for guidance when in doubt.\\nI thank you\",\n          \"135, 51, 135, 135\",\n          \"matter of urgent public importance\"\n        ],\n        \"semantic_type\": \"\",\n        \"description\": \"\"\n      }\n    }\n  ]\n}"
            }
          },
          "metadata": {},
          "execution_count": 256
        }
      ],
      "source": [
        "#last 5 rows of the dataset\n",
        "ruling_df.tail(5).T"
      ]
    },
    {
      "cell_type": "markdown",
      "metadata": {
        "id": "O2wmIqhcafIk"
      },
      "source": [
        "###**Categorical Data Analysis**\n",
        "In this section we dive deeper in the Categorical columns *categories and context* columns to understand the distribution  within each column\n",
        "\n",
        "####What We'll Analyze:\n",
        "\n",
        "> - Value counts for each categorical column\n",
        "> - Number of unique values per column\n",
        "> - Most and least common categories"
      ]
    },
    {
      "cell_type": "code",
      "execution_count": null,
      "metadata": {
        "colab": {
          "base_uri": "https://localhost:8080/"
        },
        "id": "Ad-zNWZ9aihv",
        "outputId": "ab5e3038-523f-4125-ae73-571c5db10066"
      },
      "outputs": [
        {
          "output_type": "stream",
          "name": "stdout",
          "text": [
            "Number of occurence for each category:\n",
            "categories\n",
            "procedural ruling                                                            69\n",
            "constitutional interpretation                                                50\n",
            "disciplinary action                                                          45\n",
            "administrative decision                                                      44\n",
            "disciplinary action, procedural ruling                                       25\n",
            "constitutional interpretation, debate management                             11\n",
            "procedural ruling, debate management                                          8\n",
            "debate management                                                             8\n",
            "procedural ruling, administrative decision                                    6\n",
            "procedural ruling, constitutional interpretation                              6\n",
            "constitutional interpretation, administrative decision                        5\n",
            "disciplinary action, debate management                                        4\n",
            "constitutional interpretation, debate management, administrative decision     4\n",
            "disciplinary action, constitutional interpretation, procedural ruling         3\n",
            "disciplinary action, constitutional interpretation                            3\n",
            "disciplinary action, administrative decision                                  1\n",
            "Name: count, dtype: int64\n",
            "\n",
            "\n"
          ]
        }
      ],
      "source": [
        "#Count number of occurence for each category\n",
        "\n",
        "print(\"Number of occurence for each category:\")\n",
        "\n",
        "categoriesCount = ruling_df['categories']\n",
        "print(categoriesCount.value_counts())\n",
        "print(\"\\n\")"
      ]
    },
    {
      "cell_type": "code",
      "execution_count": null,
      "metadata": {
        "colab": {
          "base_uri": "https://localhost:8080/"
        },
        "id": "i7Nsn73Tay9S",
        "outputId": "01ef056e-b5c9-435b-ebb1-64ca2be53133"
      },
      "outputs": [
        {
          "output_type": "stream",
          "name": "stdout",
          "text": [
            "unique values in categories columns:\n",
            "['constitutional interpretation, administrative decision'\n",
            " 'constitutional interpretation'\n",
            " 'constitutional interpretation, debate management'\n",
            " 'disciplinary action, procedural ruling' 'administrative decision'\n",
            " 'procedural ruling'\n",
            " 'disciplinary action, constitutional interpretation, procedural ruling'\n",
            " 'disciplinary action' 'disciplinary action, debate management'\n",
            " 'debate management' nan\n",
            " 'procedural ruling, constitutional interpretation'\n",
            " 'procedural ruling, administrative decision'\n",
            " 'procedural ruling, debate management'\n",
            " 'disciplinary action, constitutional interpretation'\n",
            " 'constitutional interpretation, debate management, administrative decision'\n",
            " 'disciplinary action, administrative decision']\n",
            "\n",
            "\n",
            "Number of unique values in categories columns:\n",
            "17\n"
          ]
        }
      ],
      "source": [
        "##Counting number of unique values in categories columns\n",
        "\n",
        "unique_category_values = ruling_df['categories'].unique()\n",
        "print(\"unique values in categories columns:\")\n",
        "print(unique_category_values)\n",
        "print(\"\\n\")\n",
        "print(\"Number of unique values in categories columns:\")\n",
        "print(len(unique_category_values))"
      ]
    },
    {
      "cell_type": "code",
      "execution_count": null,
      "metadata": {
        "colab": {
          "base_uri": "https://localhost:8080/"
        },
        "id": "S77U1BIoa3J3",
        "outputId": "41d05978-6a5c-4145-dc0f-0bee68f1fe7d"
      },
      "outputs": [
        {
          "output_type": "stream",
          "name": "stdout",
          "text": [
            "Number of occurence for each context:\n",
            "context\n",
            "point of order                        199\n",
            "guidance                               46\n",
            "complaint                              42\n",
            "matter of urgent public importance     13\n",
            "Name: count, dtype: int64\n",
            "\n",
            "\n"
          ]
        }
      ],
      "source": [
        "#Count number of occurence for each context\n",
        "\n",
        "print(\"Number of occurence for each context:\")\n",
        "\n",
        "contextsCount = ruling_df['context']\n",
        "print(contextsCount.value_counts())\n",
        "print(\"\\n\")"
      ]
    },
    {
      "cell_type": "code",
      "execution_count": null,
      "metadata": {
        "colab": {
          "base_uri": "https://localhost:8080/"
        },
        "id": "TT3KKR7na8M0",
        "outputId": "12520bf6-7fb7-4522-a9f6-37286088668b"
      },
      "outputs": [
        {
          "output_type": "stream",
          "name": "stdout",
          "text": [
            "unique values in context columns:\n",
            "['point of order' 'guidance' 'complaint'\n",
            " 'matter of urgent public importance']\n",
            "\n",
            "\n",
            "Number of unique values in context columns:\n",
            "4\n"
          ]
        }
      ],
      "source": [
        "#counting number of occurencies for each context\n",
        "\n",
        "unique_context_values = ruling_df[\"context\"].unique()\n",
        "print(\"unique values in context columns:\")\n",
        "print(unique_context_values)\n",
        "print(\"\\n\")\n",
        "print(\"Number of unique values in context columns:\")\n",
        "print(len(unique_context_values))"
      ]
    },
    {
      "cell_type": "markdown",
      "metadata": {
        "id": "SeA1HzY5SGh6"
      },
      "source": [
        "###**Text Length and Word Count**\n",
        "This section focuses on fining:\n",
        "- The text length\n",
        "- Word count\n",
        "- Avarage word count for all the columns with paragraph\n",
        "including **rullingText** and **rullingTitle**\n",
        "\n"
      ]
    },
    {
      "cell_type": "code",
      "execution_count": null,
      "metadata": {
        "id": "36ior726SIgM",
        "colab": {
          "base_uri": "https://localhost:8080/",
          "height": 182
        },
        "outputId": "9d3ee9ba-c763-4659-f3c0-332af73a37f4"
      },
      "outputs": [
        {
          "output_type": "display_data",
          "data": {
            "text/plain": [
              "                                         rulingTitle  \\\n",
              "0  RULING BY THE HONOURABLE SPEAKER ON A POINT OF...   \n",
              "1  Ruling by the Hon Madam Speaker on the Applica...   \n",
              "\n",
              "                                          rulingText         context  \\\n",
              "0  Honourable Members, I am called upon to determ...  point of order   \n",
              "1  Honourable Members will recall that on Wednesd...        guidance   \n",
              "\n",
              "                                          categories standingOrder  \\\n",
              "0  constitutional interpretation, administrative ...           139   \n",
              "1                      constitutional interpretation        72, 72   \n",
              "\n",
              "   ruling_title_text_length  ruling_title_word_count  \n",
              "0                       150                       19  \n",
              "1                        98                       16  "
            ],
            "text/html": [
              "\n",
              "  <div id=\"df-89424099-60ea-4a3e-b32c-09d1abb157e5\" class=\"colab-df-container\">\n",
              "    <div>\n",
              "<style scoped>\n",
              "    .dataframe tbody tr th:only-of-type {\n",
              "        vertical-align: middle;\n",
              "    }\n",
              "\n",
              "    .dataframe tbody tr th {\n",
              "        vertical-align: top;\n",
              "    }\n",
              "\n",
              "    .dataframe thead th {\n",
              "        text-align: right;\n",
              "    }\n",
              "</style>\n",
              "<table border=\"1\" class=\"dataframe\">\n",
              "  <thead>\n",
              "    <tr style=\"text-align: right;\">\n",
              "      <th></th>\n",
              "      <th>rulingTitle</th>\n",
              "      <th>rulingText</th>\n",
              "      <th>context</th>\n",
              "      <th>categories</th>\n",
              "      <th>standingOrder</th>\n",
              "      <th>ruling_title_text_length</th>\n",
              "      <th>ruling_title_word_count</th>\n",
              "    </tr>\n",
              "  </thead>\n",
              "  <tbody>\n",
              "    <tr>\n",
              "      <th>0</th>\n",
              "      <td>RULING BY THE HONOURABLE SPEAKER ON A POINT OF...</td>\n",
              "      <td>Honourable Members, I am called upon to determ...</td>\n",
              "      <td>point of order</td>\n",
              "      <td>constitutional interpretation, administrative ...</td>\n",
              "      <td>139</td>\n",
              "      <td>150</td>\n",
              "      <td>19</td>\n",
              "    </tr>\n",
              "    <tr>\n",
              "      <th>1</th>\n",
              "      <td>Ruling by the Hon Madam Speaker on the Applica...</td>\n",
              "      <td>Honourable Members will recall that on Wednesd...</td>\n",
              "      <td>guidance</td>\n",
              "      <td>constitutional interpretation</td>\n",
              "      <td>72, 72</td>\n",
              "      <td>98</td>\n",
              "      <td>16</td>\n",
              "    </tr>\n",
              "  </tbody>\n",
              "</table>\n",
              "</div>\n",
              "    <div class=\"colab-df-buttons\">\n",
              "\n",
              "  <div class=\"colab-df-container\">\n",
              "    <button class=\"colab-df-convert\" onclick=\"convertToInteractive('df-89424099-60ea-4a3e-b32c-09d1abb157e5')\"\n",
              "            title=\"Convert this dataframe to an interactive table.\"\n",
              "            style=\"display:none;\">\n",
              "\n",
              "  <svg xmlns=\"http://www.w3.org/2000/svg\" height=\"24px\" viewBox=\"0 -960 960 960\">\n",
              "    <path d=\"M120-120v-720h720v720H120Zm60-500h600v-160H180v160Zm220 220h160v-160H400v160Zm0 220h160v-160H400v160ZM180-400h160v-160H180v160Zm440 0h160v-160H620v160ZM180-180h160v-160H180v160Zm440 0h160v-160H620v160Z\"/>\n",
              "  </svg>\n",
              "    </button>\n",
              "\n",
              "  <style>\n",
              "    .colab-df-container {\n",
              "      display:flex;\n",
              "      gap: 12px;\n",
              "    }\n",
              "\n",
              "    .colab-df-convert {\n",
              "      background-color: #E8F0FE;\n",
              "      border: none;\n",
              "      border-radius: 50%;\n",
              "      cursor: pointer;\n",
              "      display: none;\n",
              "      fill: #1967D2;\n",
              "      height: 32px;\n",
              "      padding: 0 0 0 0;\n",
              "      width: 32px;\n",
              "    }\n",
              "\n",
              "    .colab-df-convert:hover {\n",
              "      background-color: #E2EBFA;\n",
              "      box-shadow: 0px 1px 2px rgba(60, 64, 67, 0.3), 0px 1px 3px 1px rgba(60, 64, 67, 0.15);\n",
              "      fill: #174EA6;\n",
              "    }\n",
              "\n",
              "    .colab-df-buttons div {\n",
              "      margin-bottom: 4px;\n",
              "    }\n",
              "\n",
              "    [theme=dark] .colab-df-convert {\n",
              "      background-color: #3B4455;\n",
              "      fill: #D2E3FC;\n",
              "    }\n",
              "\n",
              "    [theme=dark] .colab-df-convert:hover {\n",
              "      background-color: #434B5C;\n",
              "      box-shadow: 0px 1px 3px 1px rgba(0, 0, 0, 0.15);\n",
              "      filter: drop-shadow(0px 1px 2px rgba(0, 0, 0, 0.3));\n",
              "      fill: #FFFFFF;\n",
              "    }\n",
              "  </style>\n",
              "\n",
              "    <script>\n",
              "      const buttonEl =\n",
              "        document.querySelector('#df-89424099-60ea-4a3e-b32c-09d1abb157e5 button.colab-df-convert');\n",
              "      buttonEl.style.display =\n",
              "        google.colab.kernel.accessAllowed ? 'block' : 'none';\n",
              "\n",
              "      async function convertToInteractive(key) {\n",
              "        const element = document.querySelector('#df-89424099-60ea-4a3e-b32c-09d1abb157e5');\n",
              "        const dataTable =\n",
              "          await google.colab.kernel.invokeFunction('convertToInteractive',\n",
              "                                                    [key], {});\n",
              "        if (!dataTable) return;\n",
              "\n",
              "        const docLinkHtml = 'Like what you see? Visit the ' +\n",
              "          '<a target=\"_blank\" href=https://colab.research.google.com/notebooks/data_table.ipynb>data table notebook</a>'\n",
              "          + ' to learn more about interactive tables.';\n",
              "        element.innerHTML = '';\n",
              "        dataTable['output_type'] = 'display_data';\n",
              "        await google.colab.output.renderOutput(dataTable, element);\n",
              "        const docLink = document.createElement('div');\n",
              "        docLink.innerHTML = docLinkHtml;\n",
              "        element.appendChild(docLink);\n",
              "      }\n",
              "    </script>\n",
              "  </div>\n",
              "\n",
              "\n",
              "    <div id=\"df-65c938fb-5f81-4b9c-886e-d55b0b0dfb6d\">\n",
              "      <button class=\"colab-df-quickchart\" onclick=\"quickchart('df-65c938fb-5f81-4b9c-886e-d55b0b0dfb6d')\"\n",
              "                title=\"Suggest charts\"\n",
              "                style=\"display:none;\">\n",
              "\n",
              "<svg xmlns=\"http://www.w3.org/2000/svg\" height=\"24px\"viewBox=\"0 0 24 24\"\n",
              "     width=\"24px\">\n",
              "    <g>\n",
              "        <path d=\"M19 3H5c-1.1 0-2 .9-2 2v14c0 1.1.9 2 2 2h14c1.1 0 2-.9 2-2V5c0-1.1-.9-2-2-2zM9 17H7v-7h2v7zm4 0h-2V7h2v10zm4 0h-2v-4h2v4z\"/>\n",
              "    </g>\n",
              "</svg>\n",
              "      </button>\n",
              "\n",
              "<style>\n",
              "  .colab-df-quickchart {\n",
              "      --bg-color: #E8F0FE;\n",
              "      --fill-color: #1967D2;\n",
              "      --hover-bg-color: #E2EBFA;\n",
              "      --hover-fill-color: #174EA6;\n",
              "      --disabled-fill-color: #AAA;\n",
              "      --disabled-bg-color: #DDD;\n",
              "  }\n",
              "\n",
              "  [theme=dark] .colab-df-quickchart {\n",
              "      --bg-color: #3B4455;\n",
              "      --fill-color: #D2E3FC;\n",
              "      --hover-bg-color: #434B5C;\n",
              "      --hover-fill-color: #FFFFFF;\n",
              "      --disabled-bg-color: #3B4455;\n",
              "      --disabled-fill-color: #666;\n",
              "  }\n",
              "\n",
              "  .colab-df-quickchart {\n",
              "    background-color: var(--bg-color);\n",
              "    border: none;\n",
              "    border-radius: 50%;\n",
              "    cursor: pointer;\n",
              "    display: none;\n",
              "    fill: var(--fill-color);\n",
              "    height: 32px;\n",
              "    padding: 0;\n",
              "    width: 32px;\n",
              "  }\n",
              "\n",
              "  .colab-df-quickchart:hover {\n",
              "    background-color: var(--hover-bg-color);\n",
              "    box-shadow: 0 1px 2px rgba(60, 64, 67, 0.3), 0 1px 3px 1px rgba(60, 64, 67, 0.15);\n",
              "    fill: var(--button-hover-fill-color);\n",
              "  }\n",
              "\n",
              "  .colab-df-quickchart-complete:disabled,\n",
              "  .colab-df-quickchart-complete:disabled:hover {\n",
              "    background-color: var(--disabled-bg-color);\n",
              "    fill: var(--disabled-fill-color);\n",
              "    box-shadow: none;\n",
              "  }\n",
              "\n",
              "  .colab-df-spinner {\n",
              "    border: 2px solid var(--fill-color);\n",
              "    border-color: transparent;\n",
              "    border-bottom-color: var(--fill-color);\n",
              "    animation:\n",
              "      spin 1s steps(1) infinite;\n",
              "  }\n",
              "\n",
              "  @keyframes spin {\n",
              "    0% {\n",
              "      border-color: transparent;\n",
              "      border-bottom-color: var(--fill-color);\n",
              "      border-left-color: var(--fill-color);\n",
              "    }\n",
              "    20% {\n",
              "      border-color: transparent;\n",
              "      border-left-color: var(--fill-color);\n",
              "      border-top-color: var(--fill-color);\n",
              "    }\n",
              "    30% {\n",
              "      border-color: transparent;\n",
              "      border-left-color: var(--fill-color);\n",
              "      border-top-color: var(--fill-color);\n",
              "      border-right-color: var(--fill-color);\n",
              "    }\n",
              "    40% {\n",
              "      border-color: transparent;\n",
              "      border-right-color: var(--fill-color);\n",
              "      border-top-color: var(--fill-color);\n",
              "    }\n",
              "    60% {\n",
              "      border-color: transparent;\n",
              "      border-right-color: var(--fill-color);\n",
              "    }\n",
              "    80% {\n",
              "      border-color: transparent;\n",
              "      border-right-color: var(--fill-color);\n",
              "      border-bottom-color: var(--fill-color);\n",
              "    }\n",
              "    90% {\n",
              "      border-color: transparent;\n",
              "      border-bottom-color: var(--fill-color);\n",
              "    }\n",
              "  }\n",
              "</style>\n",
              "\n",
              "      <script>\n",
              "        async function quickchart(key) {\n",
              "          const quickchartButtonEl =\n",
              "            document.querySelector('#' + key + ' button');\n",
              "          quickchartButtonEl.disabled = true;  // To prevent multiple clicks.\n",
              "          quickchartButtonEl.classList.add('colab-df-spinner');\n",
              "          try {\n",
              "            const charts = await google.colab.kernel.invokeFunction(\n",
              "                'suggestCharts', [key], {});\n",
              "          } catch (error) {\n",
              "            console.error('Error during call to suggestCharts:', error);\n",
              "          }\n",
              "          quickchartButtonEl.classList.remove('colab-df-spinner');\n",
              "          quickchartButtonEl.classList.add('colab-df-quickchart-complete');\n",
              "        }\n",
              "        (() => {\n",
              "          let quickchartButtonEl =\n",
              "            document.querySelector('#df-65c938fb-5f81-4b9c-886e-d55b0b0dfb6d button');\n",
              "          quickchartButtonEl.style.display =\n",
              "            google.colab.kernel.accessAllowed ? 'block' : 'none';\n",
              "        })();\n",
              "      </script>\n",
              "    </div>\n",
              "\n",
              "    </div>\n",
              "  </div>\n"
            ],
            "application/vnd.google.colaboratory.intrinsic+json": {
              "type": "dataframe",
              "summary": "{\n  \"name\": \"print(\\\"Avarage text length: \\\", avarage_text_length\",\n  \"rows\": 2,\n  \"fields\": [\n    {\n      \"column\": \"rulingTitle\",\n      \"properties\": {\n        \"dtype\": \"string\",\n        \"num_unique_values\": 2,\n        \"samples\": [\n          \"Ruling by the Hon Madam Speaker on the Application of Article 72(1) to Social Media Communications\",\n          \"RULING BY THE HONOURABLE SPEAKER ON A POINT OF ORDER CONCERNING CONSTITUTIONAL INTERPRETATION OF PARLIAMENTARY PRIVILEGE AND ADMINISTRATIVE PROCEDURES\"\n        ],\n        \"semantic_type\": \"\",\n        \"description\": \"\"\n      }\n    },\n    {\n      \"column\": \"rulingText\",\n      \"properties\": {\n        \"dtype\": \"string\",\n        \"num_unique_values\": 2,\n        \"samples\": [\n          \"Honourable Members will recall that on Wednesday, 10th June, 2024, when the House was considering a complaint against Mr F Simukonda, Member of Chipata Central, who posted on X (formerly Twitter) a video accusing a judge of accepting bribes \\u2014 referencing remarks he had made during a parliamentary debate \\u2014 the complainant argued that the online dissemination extended the scope of parliamentary privilege beyond the Chamber. In her immediate response, the Honourable Madam Speaker reserved her ruling in order to study the matter. I have since reviewed the judgment in *Re: Online Speech and Parliamentary Immunity* (2023), examined the UK House of Commons\\u2019 guidance on digital communication, and interpreted Article 72(1) in light of technological evolution. I find that Article 72(1) protects speech made within the Chamber or in official parliamentary proceedings, but does not confer blanket immunity for republication, amplification, or commentary on social media platforms. Re-posting or contextualising parliamentary remarks in a manner that alters tone, adds unverified allegations, or targets individuals outside legislative context constitutes a separate act, unprotected by privilege. Therefore, I rule that the Member\\u2019s social media post falls outside the protection of Article 72(1) and may be subject to civil or criminal liability. I remind Members that the sanctity of the Chamber does not extend to the algorithmic public square. I thank you.\",\n          \"Honourable Members, I am called upon to determine a Point of Order that raises fundamental questions about the constitutional interpretation of parliamentary privilege and its intersection with administrative procedures governing Member conduct.\\r\\nThis matter requires careful consideration of constitutional principles, parliamentary tradition, and the practical requirements of effective legislative oversight.\\r\\nThe Member has raised concerns about the scope and limits of parliamentary privilege in relation to administrative decisions affecting Member conduct and disciplinary procedures.\\r\\nStanding Order 139 of the National Assembly of Zambia Standing Orders, 2024, provides the procedural framework for addressing such matters, but the constitutional dimensions require comprehensive analysis.\\r\\nThe Constitution of Zambia establishes Parliament as the supreme legislative authority with inherent powers to regulate its own procedures and conduct.\\r\\nArticle 77(1) of the Constitution confers upon the National Assembly the power to regulate its own procedure and make Standing Orders for the conduct of its business.\\r\\nThis constitutional provision establishes the foundation for parliamentary self-regulation and the exercise of administrative authority within the legislative sphere.\\r\\nParliamentary privilege, as recognised in constitutional jurisprudence, encompasses the rights and immunities necessary for Parliament to function effectively as a legislative body.\\r\\nThese privileges include freedom of speech in Parliament, freedom from arrest in civil matters during sessions, and the power to regulate internal proceedings.\\r\\nHowever, parliamentary privilege is not absolute and must be exercised within the bounds of constitutional principles and the rule of law.\\r\\nThe administrative procedures governing Member conduct must balance the need for effective parliamentary oversight with respect for fundamental rights and procedural fairness.\\r\\nStanding Order 223 addresses Member attendance requirements and provides for referral to the Committee on Privileges and Absences for persistent absence.\\r\\nStanding Order 243 establishes procedures for obtaining permission to be absent from parliamentary sittings.\\r\\nThese administrative provisions serve legitimate parliamentary purposes but must be applied consistently with constitutional principles.\\r\\nThe constitutional interpretation of parliamentary privilege requires recognition of the dual nature of Parliament as both a legislative body and an administrative entity.\\r\\nAs a legislative body, Parliament exercises constitutional powers to make laws and oversee government operations.\\r\\nAs an administrative entity, Parliament must manage its internal affairs, including Member conduct, staff management, and procedural compliance.\\r\\nThe intersection of these roles creates complex questions about the scope of parliamentary privilege and the limits of administrative authority.\\r\\nConstitutional principles require that administrative procedures affecting Members must be fair, transparent, and consistent with the rule of law.\\r\\nMembers retain fundamental rights that cannot be arbitrarily restricted by administrative decisions.\\r\\nHowever, Parliament has legitimate interests in maintaining order, ensuring attendance, and regulating conduct that may affect its effectiveness.\\r\\nThe balance between these competing interests requires careful constitutional analysis and principled application of administrative procedures.\\r\\nIn the present case, the administrative decision in question involved the application of attendance requirements and the consequences of persistent absence.\\r\\nThe constitutional question is whether such administrative decisions infringe upon parliamentary privilege or fundamental rights of Members.\\r\\nThe constitutional analysis must consider the legitimate purposes served by attendance requirements and the proportionality of the measures adopted.\\r\\nParliamentary attendance is essential for effective representation and legislative oversight.\\r\\nMembers have a constitutional duty to represent their constituents and participate in legislative proceedings.\\r\\nAdministrative procedures that ensure attendance serve legitimate parliamentary purposes and are consistent with constitutional principles.\\r\\nHowever, such procedures must be applied fairly and with due regard for individual circumstances and fundamental rights.\\r\\nThe constitutional interpretation of parliamentary privilege also requires consideration of the relationship between Parliament and other branches of government.\\r\\nParliament must maintain its independence and autonomy while respecting the constitutional framework and the rule of law.\\r\\nAdministrative decisions affecting Members must be consistent with constitutional principles and parliamentary tradition.\\r\\nThe constitutional analysis must also consider the impact of administrative procedures on the effectiveness of parliamentary oversight.\\r\\nIf administrative procedures unduly restrict Member participation or create barriers to effective representation, they may conflict with constitutional principles.\\r\\nThe balance between administrative efficiency and constitutional rights requires careful consideration of the specific circumstances and the broader constitutional framework.\\r\\nIn rendering this constitutional interpretation, I must consider the precedents established by this House and the constitutional jurisprudence of our courts.\\r\\nThe constitutional principles governing parliamentary privilege and administrative procedures must be applied consistently and transparently.\\r\\nMembers must be able to rely on clear constitutional guidance when administrative decisions affect their rights and privileges.\\r\\nThe constitutional interpretation provided today will guide future administrative decisions and ensure consistency with constitutional principles.\\r\\nThis ruling establishes the constitutional framework for balancing parliamentary privilege with administrative requirements.\\r\\nThe House must continue to exercise its administrative authority while respecting constitutional limits and fundamental rights.\\r\\nI so rule on the constitutional interpretation of parliamentary privilege and administrative procedures.\\r\\nThis constitutional guidance shall inform all future administrative decisions affecting Members.\\r\\nThe House is guided by these constitutional principles in its administrative operations.\\r\\nI thank you.\\r\\nOrder.\\r\\nProceed with the business of the day.\\r\\nThis constitutional interpretation stands as binding guidance for the House.\\r\\nThe matter is concluded.\\r\\nI thank you.\"\n        ],\n        \"semantic_type\": \"\",\n        \"description\": \"\"\n      }\n    },\n    {\n      \"column\": \"context\",\n      \"properties\": {\n        \"dtype\": \"string\",\n        \"num_unique_values\": 2,\n        \"samples\": [\n          \"guidance\",\n          \"point of order\"\n        ],\n        \"semantic_type\": \"\",\n        \"description\": \"\"\n      }\n    },\n    {\n      \"column\": \"categories\",\n      \"properties\": {\n        \"dtype\": \"string\",\n        \"num_unique_values\": 2,\n        \"samples\": [\n          \"constitutional interpretation\",\n          \"constitutional interpretation, administrative decision\"\n        ],\n        \"semantic_type\": \"\",\n        \"description\": \"\"\n      }\n    },\n    {\n      \"column\": \"standingOrder\",\n      \"properties\": {\n        \"dtype\": \"string\",\n        \"num_unique_values\": 2,\n        \"samples\": [\n          \"72, 72\",\n          \"139\"\n        ],\n        \"semantic_type\": \"\",\n        \"description\": \"\"\n      }\n    },\n    {\n      \"column\": \"ruling_title_text_length\",\n      \"properties\": {\n        \"dtype\": \"number\",\n        \"std\": 36,\n        \"min\": 98,\n        \"max\": 150,\n        \"num_unique_values\": 2,\n        \"samples\": [\n          98,\n          150\n        ],\n        \"semantic_type\": \"\",\n        \"description\": \"\"\n      }\n    },\n    {\n      \"column\": \"ruling_title_word_count\",\n      \"properties\": {\n        \"dtype\": \"number\",\n        \"std\": 2,\n        \"min\": 16,\n        \"max\": 19,\n        \"num_unique_values\": 2,\n        \"samples\": [\n          16,\n          19\n        ],\n        \"semantic_type\": \"\",\n        \"description\": \"\"\n      }\n    }\n  ]\n}"
            }
          },
          "metadata": {}
        },
        {
          "output_type": "stream",
          "name": "stdout",
          "text": [
            "\n",
            "\n",
            "Avarage word count:  33\n",
            "Avarage text length:  203\n"
          ]
        }
      ],
      "source": [
        "##creating a new column to hold the text length and column count for rulingTitle\n",
        "\n",
        "ruling_df['ruling_title_text_length'] = ruling_df['rulingTitle'].str.len()\n",
        "ruling_df['ruling_title_word_count'] = ruling_df['rulingTitle'].str.split().str.len()\n",
        "\n",
        "display(ruling_df.head(2))\n",
        "\n",
        "#finding the avarage word count and text length for the ruling title\n",
        "\n",
        "avarage_word_count = ruling_df['ruling_title_word_count'].mean()\n",
        "avarage_text_length = ruling_df['ruling_title_text_length'].mean()\n",
        "print(\"\\n\")\n",
        "\n",
        "print(\"Avarage word count: \", avarage_word_count.astype(int))\n",
        "print(\"Avarage text length: \", avarage_text_length.astype(int))"
      ]
    },
    {
      "cell_type": "markdown",
      "metadata": {
        "id": "xvDC0MEySbQ3"
      },
      "source": [
        "###**Visual Analysis**\n",
        "Using pyplot we will Create categorical visualizations\n",
        "- Bar charts for top categorical variables\n",
        "- Pie charts for proportional data\n",
        "- Distribution plots for key categories"
      ]
    },
    {
      "cell_type": "code",
      "execution_count": null,
      "metadata": {
        "colab": {
          "base_uri": "https://localhost:8080/",
          "height": 564
        },
        "id": "pL6gQN_gScsA",
        "outputId": "a1b7df73-7bcc-49a3-aa5d-122518434fc9"
      },
      "outputs": [
        {
          "output_type": "display_data",
          "data": {
            "text/plain": [
              "<Figure size 1000x600 with 1 Axes>"
            ],
            "image/png": "[encoded data removed]"
          },
          "metadata": {}
        }
      ],
      "source": [
        "# creating bar chart for categories column\n",
        "\n",
        "categoriesCount = ruling_df['categories'].value_counts()\n",
        "\n",
        "plt.figure(figsize=(10,6))\n",
        "plt.title(\"Categories\")\n",
        "plt.xlabel(\"Categories\")\n",
        "plt.ylabel(\"Count\")\n",
        "\n",
        "plt.barh(categoriesCount.index, categoriesCount.values)\n",
        "plt.show()"
      ]
    },
    {
      "cell_type": "code",
      "execution_count": null,
      "metadata": {
        "colab": {
          "base_uri": "https://localhost:8080/",
          "height": 564
        },
        "id": "0m--KqFdSvlX",
        "outputId": "acd95c75-0d73-4ed1-a300-8b07d4fd3fa1"
      },
      "outputs": [
        {
          "output_type": "display_data",
          "data": {
            "text/plain": [
              "<Figure size 1000x600 with 1 Axes>"
            ],
            "image/png": "[encoded data removed]"
          },
          "metadata": {}
        }
      ],
      "source": [
        "# creating bar chart for context column\n",
        "\n",
        "contextCount = ruling_df['context'].value_counts()\n",
        "\n",
        "plt.figure(figsize=(10,6))\n",
        "plt.title(\"Contexts\")\n",
        "plt.xlabel(\"Contexts\")\n",
        "plt.ylabel(\"Count\")\n",
        "\n",
        "plt.barh(contextCount.index, contextCount.values)\n",
        "plt.show()\n"
      ]
    },
    {
      "cell_type": "markdown",
      "metadata": {
        "id": "_I2tVSbyTcAN"
      },
      "source": [
        "###**Feature relevance assessment**\n",
        "Based on the understand and research made upon the dataset\n",
        "\n",
        "we have identified that\n",
        "\n",
        "**Most important features:**\n",
        ">*  **rulingText:** This is the main body of the ruling, containing the richest semantic and contextual information.\n",
        ">* ***context*** is very noisy it might contribute little.\n",
        ">* ***categories*** This is meant to be the target column\n",
        "\n",
        "**Less relevant / redundant features**\n",
        ">* ***rulingTitle*** might be redundatant because it may be repetitive or just rephrasing the ***rulingText*** but nonetheless it can prove usefull when ***rulingText*** is not usefull\n",
        ">* ***standingOrder:*** this is potentially usefull but sparse, it contains values like 179, 53, 4 ...\n",
        "\n"
      ]
    },
    {
      "cell_type": "markdown",
      "metadata": {
        "id": "ensN18LDMf8M"
      },
      "source": [
        "#**Data Preparation**\n",
        "This seciton performs the Data Preparation phase for our parliamentary Speaker's Rulings classification project.\n",
        "\n",
        "Following the CRISP-DM methodology, this phase is critical as it directly impacts the quality of our model.\n",
        "\n",
        "##**Goals of Data Preparation Phase**\n",
        "\n",
        "* Data Selection: Choose relevant  features for multi-label classification\n",
        "* Data Preprocessing: Clean and normalize text data for TF-IDF processing\n",
        "* Data Transformation: Create model-ready features for Logistic Regression\n",
        "* Multi-label Preparation: Transform categories for multi-label classification"
      ]
    },
    {
      "cell_type": "markdown",
      "metadata": {
        "id": "xe7GjDCYMnn7"
      },
      "source": [
        "##1. Environment Setup and Data Loading\n",
        "\n",
        "This section is mean for setting up the preparation environment such as\n",
        "\n",
        "* Importing the necessary libraries\n",
        "> * ***pandas***\n",
        "> * ***pyplot***\n",
        "> * ***seaborn***\n",
        "> * ***numpy***\n",
        "> * ***re(regular expressions)***\n",
        "> * ***nltk***\n",
        "\n",
        "* Downloading the necesary packages such as:\n",
        "> * ***punkt***\n",
        "> * ***stopwors***\n",
        "\n",
        "* Setting up to use a copy of the data set\n",
        "\n",
        "\n",
        "\n",
        "\n"
      ]
    },
    {
      "cell_type": "code",
      "source": [
        "# Import necessary libraries\n",
        "import pandas as pd\n",
        "import numpy as np\n",
        "from sklearn.preprocessing import MinMaxScaler, OneHotEncoder\n",
        "from sklearn.feature_extraction.text import CountVectorizer, TfidfVectorizer\n",
        "import nltk\n",
        "import string\n",
        "\n",
        "# Download necessary NLTK data for text preprocessing\n",
        "nltk.download('punkt_tab')\n",
        "nltk.download('stopwords')\n",
        "from nltk.corpus import stopwords\n",
        "from nltk.stem import PorterStemmer\n",
        "from nltk.tokenize import word_tokenize\n"
      ],
      "metadata": {
        "colab": {
          "base_uri": "https://localhost:8080/"
        },
        "id": "bBVDRrgkfP0y",
        "outputId": "4cea34e6-64eb-4ff6-9e03-f5b6d0e39f19"
      },
      "execution_count": null,
      "outputs": [
        {
          "output_type": "stream",
          "name": "stderr",
          "text": [
            "[nltk_data] Downloading package punkt_tab to /root/nltk_data...\n",
            "[nltk_data]   Package punkt_tab is already up-to-date!\n",
            "[nltk_data] Downloading package stopwords to /root/nltk_data...\n",
            "[nltk_data]   Package stopwords is already up-to-date!\n"
          ]
        }
      ]
    },
    {
      "cell_type": "markdown",
      "metadata": {
        "id": "bWF_KsvNPbrJ"
      },
      "source": [
        "##2.DATA SELECTION AND CLEANING"
      ]
    },
    {
      "cell_type": "markdown",
      "source": [
        "Based on our business and  understanding we will select the most relevant features.\n",
        "\n",
        "The Dataset has the following features:\n",
        "\n",
        "> * **rulingTitle**\n",
        "> * **rulingText**\n",
        "> * **context**\n",
        "> * **categories**(Target column)\n",
        "> * **standingOrder**\n",
        "\n",
        "Selected relevant columns:\n",
        "\n",
        "> * **rulingText**(merged with ruling title)\n",
        "> * **context**\n",
        "> * **categories**(Target column)\n",
        "> * **standingOrder**\n",
        "\n",
        "k"
      ],
      "metadata": {
        "id": "VNO6uX87VM-d"
      }
    },
    {
      "cell_type": "code",
      "source": [
        "# Create working copy to preserve original data\n",
        "working_df = ruling_df.copy()"
      ],
      "metadata": {
        "id": "xui9oWd1idHC"
      },
      "execution_count": null,
      "outputs": []
    },
    {
      "cell_type": "markdown",
      "source": [],
      "metadata": {
        "id": "hq2ZTwiN6dOe"
      }
    },
    {
      "cell_type": "markdown",
      "source": [
        "###2.1 Checking and Handling duplicates"
      ],
      "metadata": {
        "id": "FETP7d0GVgiV"
      }
    },
    {
      "cell_type": "code",
      "source": [
        "#this part checks and handles duplicates by the rulingText since its te primary column\n",
        "\n",
        "duplicate_rows = working_df['rulingText'].duplicated().sum()\n",
        "\n",
        "print(f\"Number of duplicates based on rulingText:{duplicate_rows}\" )\n",
        "\n"
      ],
      "metadata": {
        "colab": {
          "base_uri": "https://localhost:8080/"
        },
        "id": "vbejFJKnVkll",
        "outputId": "ce5b4c88-6720-452f-daf2-5334bbeef9b4"
      },
      "execution_count": null,
      "outputs": [
        {
          "output_type": "stream",
          "name": "stdout",
          "text": [
            "Number of duplicates based on rulingText:21\n"
          ]
        }
      ]
    },
    {
      "cell_type": "code",
      "source": [
        "#removing the duplicates\n",
        "working_df.drop_duplicates(subset=['rulingText'], inplace=True)\n"
      ],
      "metadata": {
        "id": "OsahRiXUV1k-"
      },
      "execution_count": null,
      "outputs": []
    },
    {
      "cell_type": "code",
      "source": [
        "#checking the number of dublicate based on all features after removing\n",
        "duplicate_rows = working_df['rulingText'].duplicated().sum()\n",
        "\n",
        "print(f\"Number of duplicates after removing dublicates:{duplicate_rows}\" )"
      ],
      "metadata": {
        "colab": {
          "base_uri": "https://localhost:8080/"
        },
        "id": "0_B5VWENV23p",
        "outputId": "4bc6c912-1bfb-4181-8a08-b705ea75ff2b"
      },
      "execution_count": null,
      "outputs": [
        {
          "output_type": "stream",
          "name": "stdout",
          "text": [
            "Number of duplicates after removing dublicates:0\n"
          ]
        }
      ]
    },
    {
      "cell_type": "markdown",
      "source": [],
      "metadata": {
        "id": "M0mXWgyUw2CK"
      }
    },
    {
      "cell_type": "markdown",
      "source": [
        "###2.2 Merging rulling text with the title\n",
        "This section merges the rullingTitle and the rulingText by merging where title exists and filling with title where ruling text is missing"
      ],
      "metadata": {
        "id": "t1xi91bjV7Xo"
      }
    },
    {
      "cell_type": "code",
      "source": [
        "\n",
        "# Combine rulingTitle and rulingText into a single column\n",
        "# If rulingTitle is missing, just use rulingText, if rulingText is missing, just use rulingTitle\n",
        "working_df['rulingText'] = (\n",
        "    working_df['rulingTitle'].fillna('') + ' ' + working_df['rulingText'].fillna('')\n",
        ").str.strip()\n",
        "\n",
        "\n",
        "#Drop rulingTitle\n",
        "working_df = working_df.drop(columns=['rulingTitle'])\n"
      ],
      "metadata": {
        "id": "bwdzmQRXV9p9"
      },
      "execution_count": null,
      "outputs": []
    },
    {
      "cell_type": "code",
      "source": [
        "#checking if the merge was successful\n",
        "\n",
        "working_df[\"rulingText\"].iloc[4]"
      ],
      "metadata": {
        "colab": {
          "base_uri": "https://localhost:8080/",
          "height": 105
        },
        "id": "2g4b-fwgWCoN",
        "outputId": "bfebf459-8c5b-4708-e535-4e0bd0043b44"
      },
      "execution_count": null,
      "outputs": [
        {
          "output_type": "execute_result",
          "data": {
            "text/plain": [
              "\"RULING ON ARTICLE 63 MOTIONS OF CENSURE AND EXECUTIVE ACCOUNTABILITY A Point of Order sought to restrict a motion of censure as being unconstitutional. The Constitution recognises Parliament's authority to hold the Executive to account through motions. Standing Orders may regulate form and timing but cannot extinguish the constitutional mechanism. The motion is admitted if it meets form and notice requirements. Censure debates must remain focused on policy, performance, and legality, avoiding imputations of improper motives without evidence. The Government is entitled to respond fully, and the House will vote based on the merits. This preserves a vital tool of democratic accountability while maintaining fairness and order. The motion serves as a constitutional check on executive power and ensures ministerial responsibility to Parliament. The Chair will ensure that censure motions are properly substantiated with specific allegations and supporting evidence, preventing frivolous or politically motivated attacks. Where a motion lacks sufficient particularity, the Chair may require amendment before admission. The debate must be conducted with due respect for the dignity of the House and the presumption of good faith, while allowing robust scrutiny of executive conduct. This balance ensures effective oversight without undermining the stability of government or the public's confidence in democratic institutions.\""
            ],
            "application/vnd.google.colaboratory.intrinsic+json": {
              "type": "string"
            }
          },
          "metadata": {},
          "execution_count": 270
        }
      ]
    },
    {
      "cell_type": "markdown",
      "source": [
        "###2.3 Checking and Handling missing values"
      ],
      "metadata": {
        "id": "ePolK3iGWG0f"
      }
    },
    {
      "cell_type": "code",
      "source": [
        "#missing valie columns and their count\n",
        "missing_values_count = working_df.isnull().sum()\n",
        "missing_values_count = missing_values_count[missing_values_count > 0]\n",
        "\n",
        "print(f\"missing values before handling: {missing_values_count}\")\n"
      ],
      "metadata": {
        "colab": {
          "base_uri": "https://localhost:8080/"
        },
        "id": "T1OSH9O1WIUM",
        "outputId": "73eb77d9-de2b-416a-9636-e0cf868a8cc4"
      },
      "execution_count": null,
      "outputs": [
        {
          "output_type": "stream",
          "name": "stdout",
          "text": [
            "missing values before handling: categories        7\n",
            "standingOrder    24\n",
            "dtype: int64\n"
          ]
        }
      ]
    },
    {
      "cell_type": "code",
      "source": [
        "working_df.shape"
      ],
      "metadata": {
        "colab": {
          "base_uri": "https://localhost:8080/"
        },
        "id": "GP1neP9s8Xs9",
        "outputId": "cb713dc5-7962-401a-ff5c-5403931afd1b"
      },
      "execution_count": null,
      "outputs": [
        {
          "output_type": "execute_result",
          "data": {
            "text/plain": [
              "(279, 6)"
            ]
          },
          "metadata": {},
          "execution_count": 272
        }
      ]
    },
    {
      "cell_type": "code",
      "source": [
        "#all categories that are missing are to  be droped\n",
        "working_df.dropna(subset=['categories'], inplace=True);\n",
        "\n",
        "#all missing standing orders to be replaced with NaN\n",
        "\n",
        "working_df.fillna({'standingOrder': 'NaN'}, inplace=True)\n",
        "\n",
        "#reseting index to be continuous\n",
        "working_df.reset_index(drop=True, inplace=True)"
      ],
      "metadata": {
        "id": "SrUHkZ1sWMPF"
      },
      "execution_count": null,
      "outputs": []
    },
    {
      "cell_type": "code",
      "source": [
        "#7 rows must disapear\n",
        "working_df.shape"
      ],
      "metadata": {
        "colab": {
          "base_uri": "https://localhost:8080/"
        },
        "id": "C7q1QC5TWOIT",
        "outputId": "b1a4ea56-aac7-489d-cabc-f983dfc18431"
      },
      "execution_count": null,
      "outputs": [
        {
          "output_type": "execute_result",
          "data": {
            "text/plain": [
              "(272, 6)"
            ]
          },
          "metadata": {},
          "execution_count": 274
        }
      ]
    },
    {
      "cell_type": "markdown",
      "metadata": {
        "id": "2V1o6gqjUqTl"
      },
      "source": [
        "#3.Text Preprocessing\n",
        "This section preprocess the ruling text by creating a preprocessing pipline"
      ]
    },
    {
      "cell_type": "code",
      "execution_count": null,
      "metadata": {
        "id": "ZXWUmt20VcXO",
        "colab": {
          "base_uri": "https://localhost:8080/",
          "height": 105
        },
        "outputId": "a6f075ed-7435-4b14-d52f-d6a6d4ab2b73"
      },
      "outputs": [
        {
          "output_type": "stream",
          "name": "stdout",
          "text": [
            "--- Text Pre-processing Complete ---\n"
          ]
        },
        {
          "output_type": "execute_result",
          "data": {
            "text/plain": [
              "'rule articl  motion censur execut account point order sought restrict motion censur unconstitut constitut recognis parliament author hold execut account motion stand order may regul form time extinguish constitut mechan motion admit meet form notic requir censur debat must remain focus polici perform legal avoid imput improp motiv without evid govern entitl respond fulli hous vote base merit preserv vital tool democrat account maintain fair order motion serv constitut check execut power ensur ministeri respons parliament chair ensur censur motion properli substanti specif alleg support evid prevent frivol polit motiv attack motion lack suffici particular chair may requir amend admiss debat must conduct due respect digniti hous presumpt good faith allow robust scrutini execut conduct balanc ensur effect oversight without undermin stabil govern public confid democrat institut'"
            ],
            "application/vnd.google.colaboratory.intrinsic+json": {
              "type": "string"
            }
          },
          "metadata": {},
          "execution_count": 275
        }
      ],
      "source": [
        "def fxn_convert_to_lowercase(var_text):\n",
        "    return var_text.lower()\n",
        "\n",
        "def fxn_remove_punctuation(var_text):\n",
        "    return \"\".join([var_char for var_char in var_text if var_char not in string.punctuation])\n",
        "\n",
        "def fxn_remove_stopwords(var_text):\n",
        "    var_tokens = word_tokenize(var_text)\n",
        "    var_stop_words = set(stopwords.words('english'))\n",
        "    var_filtered_tokens = [var_word for var_word in var_tokens if var_word not in var_stop_words]\n",
        "    return \" \".join(var_filtered_tokens)\n",
        "\n",
        "def fxn_stem_text(var_text):\n",
        "    var_tokens = word_tokenize(var_text)\n",
        "    var_stemmer = PorterStemmer()\n",
        "    var_stemmed_tokens = [var_stemmer.stem(var_word) for var_word in var_tokens]\n",
        "    return \" \".join(var_stemmed_tokens)\n",
        "\n",
        "def fxn_remove_numbers(var_text):\n",
        "    return ''.join([i for i in var_text if not i.isdigit()])\n",
        "\n",
        "\n",
        "def fxn_preprocess_text_pipeline(var_text):\n",
        "    if not isinstance(var_text, str):\n",
        "        return \"\"\n",
        "    var_processed_text = fxn_convert_to_lowercase(var_text)\n",
        "    var_processed_text = fxn_remove_punctuation(var_processed_text)\n",
        "    var_processed_text = fxn_remove_stopwords(var_processed_text)\n",
        "    var_processed_text = fxn_stem_text(var_processed_text)\n",
        "    var_processed_text = fxn_remove_numbers(var_processed_text)\n",
        "    return var_processed_text\n",
        "\n",
        "working_df['rulingText'] = working_df['rulingText'].apply(fxn_preprocess_text_pipeline)\n",
        "print(\"--- Text Pre-processing Complete ---\")\n",
        "working_df['rulingText'].iloc[4]"
      ]
    },
    {
      "cell_type": "markdown",
      "metadata": {
        "id": "c-kvkHSvzGuL"
      },
      "source": [
        "#4 Categorical Encoding\n",
        "\n",
        "For the section will perform muilti hot encodin for our three categorical columns which are ***categories*** , ***context*** and ***standing order***\n",
        "\n",
        "first is to understand this data,how it looks like and figure out the best way to encode it for the model to work with\n",
        "\n",
        "\n"
      ]
    },
    {
      "cell_type": "markdown",
      "metadata": {
        "id": "V1atIRLlzPt0"
      },
      "source": [
        "##4.1 Understnading the categorical columns"
      ]
    },
    {
      "cell_type": "code",
      "execution_count": null,
      "metadata": {
        "id": "NrVtuQLXzJSZ",
        "colab": {
          "base_uri": "https://localhost:8080/"
        },
        "outputId": "041de1d1-4dd4-41bd-a116-c0297130c3f9"
      },
      "outputs": [
        {
          "output_type": "stream",
          "name": "stdout",
          "text": [
            "Uniques categories and their frequencies\n",
            "categories\n",
            "procedural ruling                                                            65\n",
            "constitutional interpretation                                                50\n",
            "administrative decision                                                      44\n",
            "disciplinary action                                                          36\n",
            "disciplinary action, procedural ruling                                       25\n",
            "constitutional interpretation, debate management                              8\n",
            "debate management                                                             8\n",
            "procedural ruling, constitutional interpretation                              6\n",
            "procedural ruling, administrative decision                                    6\n",
            "procedural ruling, debate management                                          6\n",
            "constitutional interpretation, administrative decision                        5\n",
            "disciplinary action, debate management                                        4\n",
            "disciplinary action, constitutional interpretation, procedural ruling         3\n",
            "constitutional interpretation, debate management, administrative decision     3\n",
            "disciplinary action, constitutional interpretation                            2\n",
            "disciplinary action, administrative decision                                  1\n",
            "Name: count, dtype: int64\n"
          ]
        }
      ],
      "source": [
        "#getting unique values from categories\n",
        "value_count = working_df['categories'].value_counts()\n",
        "\n",
        "print(\"Uniques categories and their frequencies\")\n",
        "print(value_count)"
      ]
    },
    {
      "cell_type": "code",
      "execution_count": null,
      "metadata": {
        "id": "SpkJ9-zTzaSy",
        "colab": {
          "base_uri": "https://localhost:8080/"
        },
        "outputId": "e19901c6-262f-4da6-f021-4cc30633b5bb"
      },
      "outputs": [
        {
          "output_type": "stream",
          "name": "stdout",
          "text": [
            "Uniques context and their frequencies\n",
            "context\n",
            "point of order                        188\n",
            "guidance                               38\n",
            "complaint                              34\n",
            "matter of urgent public importance     12\n",
            "Name: count, dtype: int64\n"
          ]
        }
      ],
      "source": [
        "#getting unique values from categories\n",
        "value_count = working_df['context'].value_counts()\n",
        "\n",
        "print(\"Uniques context and their frequencies\")\n",
        "print(value_count)"
      ]
    },
    {
      "cell_type": "code",
      "execution_count": null,
      "metadata": {
        "id": "FbH3tK3BzgpX",
        "colab": {
          "base_uri": "https://localhost:8080/"
        },
        "outputId": "08eedad2-520d-46e9-c87b-83ac4861185d"
      },
      "outputs": [
        {
          "output_type": "stream",
          "name": "stdout",
          "text": [
            "Uniques standing Orders and their frequencies\n",
            "standingOrder\n",
            "139                  54\n",
            "NaN                  23\n",
            "65                   22\n",
            "53                    8\n",
            "223                   7\n",
            "                     ..\n",
            "185                   1\n",
            "185, 196              1\n",
            "27                    1\n",
            "187, 202              1\n",
            "135, 51, 135, 135     1\n",
            "Name: count, Length: 120, dtype: int64\n"
          ]
        }
      ],
      "source": [
        "#getting unique values from standing order\n",
        "value_count = working_df['standingOrder'].value_counts()\n",
        "\n",
        "print(\"Uniques standing Orders and their frequencies\")\n",
        "print(value_count)"
      ]
    },
    {
      "cell_type": "markdown",
      "metadata": {
        "id": "CWCAVydozVxc"
      },
      "source": [
        "its very clear that the categories and the standingOrders are comma seperated and for proper encoding we will need to convert these into a list"
      ]
    },
    {
      "cell_type": "markdown",
      "metadata": {
        "id": "JKFP0aHMzzev"
      },
      "source": [
        "#4.2 Converting the raw comma seperated text to a list"
      ]
    },
    {
      "cell_type": "code",
      "execution_count": null,
      "metadata": {
        "id": "A1_ieWdqzupb",
        "colab": {
          "base_uri": "https://localhost:8080/"
        },
        "outputId": "454c4ade-3233-4fd0-8e6a-22a080ffd3ea"
      },
      "outputs": [
        {
          "output_type": "stream",
          "name": "stdout",
          "text": [
            "\n",
            "--- After Converting to Lists ---\n",
            "0      [constitutional interpretation, administrative...\n",
            "1                        [constitutional interpretation]\n",
            "2      [constitutional interpretation, debate managem...\n",
            "3               [disciplinary action, procedural ruling]\n",
            "4                        [constitutional interpretation]\n",
            "                             ...                        \n",
            "267       [disciplinary action, administrative decision]\n",
            "268                                  [procedural ruling]\n",
            "269                                [disciplinary action]\n",
            "270                            [administrative decision]\n",
            "271                                  [procedural ruling]\n",
            "Name: categories, Length: 272, dtype: object\n"
          ]
        }
      ],
      "source": [
        "#converting categories to list for easir working\n",
        "working_df['categories'] = working_df['categories'].apply(\n",
        "    lambda x: [cat.strip() for cat in x.split(',')] if isinstance(x , str) else []\n",
        ")\n",
        "\n",
        "print(\"\\n--- After Converting to Lists ---\")\n",
        "print(working_df['categories'])"
      ]
    },
    {
      "cell_type": "code",
      "execution_count": null,
      "metadata": {
        "id": "zUzITjtnz-Wc",
        "colab": {
          "base_uri": "https://localhost:8080/"
        },
        "outputId": "0765015e-b921-4dc2-96dd-a0a198676de2",
        "collapsed": true
      },
      "outputs": [
        {
          "output_type": "stream",
          "name": "stdout",
          "text": [
            "\n",
            "--- After Converting to Lists ---\n",
            "0                     [139]\n",
            "1                  [72, 72]\n",
            "2                     [139]\n",
            "3      [202, 208, 204, 205]\n",
            "4                     [139]\n",
            "               ...         \n",
            "267                   [203]\n",
            "268                    [65]\n",
            "269                    [53]\n",
            "270              [187, 202]\n",
            "271     [135, 51, 135, 135]\n",
            "Name: standingOrder, Length: 272, dtype: object\n"
          ]
        }
      ],
      "source": [
        "# converting standingOrder to list, ensuring the string \"NaN\" becomes []\n",
        "working_df['standingOrder'] = working_df['standingOrder'].apply(\n",
        "    lambda x: [] if isinstance(x , str) and x.strip().lower() == 'nan'\n",
        "              else [cat.strip() for cat in x.split(',')] if isinstance(x , str)\n",
        "              else []\n",
        ")\n",
        "\n",
        "print(\"\\n--- After Converting to Lists ---\")\n",
        "print(working_df['standingOrder'])\n",
        "\n",
        "\n",
        "\n"
      ]
    },
    {
      "cell_type": "code",
      "source": [
        "working_df.columns"
      ],
      "metadata": {
        "colab": {
          "base_uri": "https://localhost:8080/"
        },
        "id": "-AV3zGqk_nCi",
        "outputId": "86f852bd-c732-4613-a1d3-df050c01f373"
      },
      "execution_count": null,
      "outputs": [
        {
          "output_type": "execute_result",
          "data": {
            "text/plain": [
              "Index(['rulingText', 'context', 'categories', 'standingOrder',\n",
              "       'ruling_title_text_length', 'ruling_title_word_count'],\n",
              "      dtype='object')"
            ]
          },
          "metadata": {},
          "execution_count": 281
        }
      ]
    },
    {
      "cell_type": "markdown",
      "metadata": {
        "id": "npVNl4JU0DnI"
      },
      "source": [
        "#Categorical Encoding\n",
        "\n",
        "This section will encode the categorical columns\n",
        "* The ***categories*** and the ***standingOrder*** will recieve multi hot encoding because one record and belong to multiple of them\n",
        "* The context since has only one instance per record will recieve one hot encoding"
      ]
    },
    {
      "cell_type": "code",
      "execution_count": null,
      "metadata": {
        "id": "f49fsM9Gz_Ur"
      },
      "outputs": [],
      "source": [
        "# Use MultiLabelBinarizer from scikit learn to perform Multi-Hot Encoding on categories\n",
        "from sklearn.preprocessing import MultiLabelBinarizer\n",
        "\n",
        "\n",
        "# Multi-label encoding for categories\n",
        "mlb = MultiLabelBinarizer()\n",
        "encoded = mlb.fit_transform(working_df['categories'])\n",
        "category_names = mlb.classes_\n",
        "# Add prefix to column names and ensure integer type\n",
        "category_encoded_df = pd.DataFrame(encoded, columns=[f'category_{col}' for col in category_names]).astype(int)\n",
        "working_df = working_df.drop(columns=['categories']).join(category_encoded_df)\n",
        "\n"
      ]
    },
    {
      "cell_type": "code",
      "source": [
        "encoded"
      ],
      "metadata": {
        "colab": {
          "base_uri": "https://localhost:8080/"
        },
        "id": "3LISYk10GwNd",
        "outputId": "2d259ef3-2e3a-49ef-9da2-d8dbbaa46996"
      },
      "execution_count": null,
      "outputs": [
        {
          "output_type": "execute_result",
          "data": {
            "text/plain": [
              "array([[1, 1, 0, 0, 0],\n",
              "       [0, 1, 0, 0, 0],\n",
              "       [0, 1, 1, 0, 0],\n",
              "       ...,\n",
              "       [0, 0, 0, 1, 0],\n",
              "       [1, 0, 0, 0, 0],\n",
              "       [0, 0, 0, 0, 1]])"
            ]
          },
          "metadata": {},
          "execution_count": 283
        }
      ]
    },
    {
      "cell_type": "code",
      "source": [
        "category_encoded_df"
      ],
      "metadata": {
        "colab": {
          "base_uri": "https://localhost:8080/",
          "height": 424
        },
        "id": "JiC80YjRGz1e",
        "outputId": "78491f00-67bd-4019-fe71-103b8590429b"
      },
      "execution_count": null,
      "outputs": [
        {
          "output_type": "execute_result",
          "data": {
            "text/plain": [
              "     category_administrative decision  category_constitutional interpretation  \\\n",
              "0                                   1                                       1   \n",
              "1                                   0                                       1   \n",
              "2                                   0                                       1   \n",
              "3                                   0                                       0   \n",
              "4                                   0                                       1   \n",
              "..                                ...                                     ...   \n",
              "267                                 1                                       0   \n",
              "268                                 0                                       0   \n",
              "269                                 0                                       0   \n",
              "270                                 1                                       0   \n",
              "271                                 0                                       0   \n",
              "\n",
              "     category_debate management  category_disciplinary action  \\\n",
              "0                             0                             0   \n",
              "1                             0                             0   \n",
              "2                             1                             0   \n",
              "3                             0                             1   \n",
              "4                             0                             0   \n",
              "..                          ...                           ...   \n",
              "267                           0                             1   \n",
              "268                           0                             0   \n",
              "269                           0                             1   \n",
              "270                           0                             0   \n",
              "271                           0                             0   \n",
              "\n",
              "     category_procedural ruling  \n",
              "0                             0  \n",
              "1                             0  \n",
              "2                             0  \n",
              "3                             1  \n",
              "4                             0  \n",
              "..                          ...  \n",
              "267                           0  \n",
              "268                           1  \n",
              "269                           0  \n",
              "270                           0  \n",
              "271                           1  \n",
              "\n",
              "[272 rows x 5 columns]"
            ],
            "text/html": [
              "\n",
              "  <div id=\"df-ce0e1124-f222-4147-bac8-1a32f69d25d5\" class=\"colab-df-container\">\n",
              "    <div>\n",
              "<style scoped>\n",
              "    .dataframe tbody tr th:only-of-type {\n",
              "        vertical-align: middle;\n",
              "    }\n",
              "\n",
              "    .dataframe tbody tr th {\n",
              "        vertical-align: top;\n",
              "    }\n",
              "\n",
              "    .dataframe thead th {\n",
              "        text-align: right;\n",
              "    }\n",
              "</style>\n",
              "<table border=\"1\" class=\"dataframe\">\n",
              "  <thead>\n",
              "    <tr style=\"text-align: right;\">\n",
              "      <th></th>\n",
              "      <th>category_administrative decision</th>\n",
              "      <th>category_constitutional interpretation</th>\n",
              "      <th>category_debate management</th>\n",
              "      <th>category_disciplinary action</th>\n",
              "      <th>category_procedural ruling</th>\n",
              "    </tr>\n",
              "  </thead>\n",
              "  <tbody>\n",
              "    <tr>\n",
              "      <th>0</th>\n",
              "      <td>1</td>\n",
              "      <td>1</td>\n",
              "      <td>0</td>\n",
              "      <td>0</td>\n",
              "      <td>0</td>\n",
              "    </tr>\n",
              "    <tr>\n",
              "      <th>1</th>\n",
              "      <td>0</td>\n",
              "      <td>1</td>\n",
              "      <td>0</td>\n",
              "      <td>0</td>\n",
              "      <td>0</td>\n",
              "    </tr>\n",
              "    <tr>\n",
              "      <th>2</th>\n",
              "      <td>0</td>\n",
              "      <td>1</td>\n",
              "      <td>1</td>\n",
              "      <td>0</td>\n",
              "      <td>0</td>\n",
              "    </tr>\n",
              "    <tr>\n",
              "      <th>3</th>\n",
              "      <td>0</td>\n",
              "      <td>0</td>\n",
              "      <td>0</td>\n",
              "      <td>1</td>\n",
              "      <td>1</td>\n",
              "    </tr>\n",
              "    <tr>\n",
              "      <th>4</th>\n",
              "      <td>0</td>\n",
              "      <td>1</td>\n",
              "      <td>0</td>\n",
              "      <td>0</td>\n",
              "      <td>0</td>\n",
              "    </tr>\n",
              "    <tr>\n",
              "      <th>...</th>\n",
              "      <td>...</td>\n",
              "      <td>...</td>\n",
              "      <td>...</td>\n",
              "      <td>...</td>\n",
              "      <td>...</td>\n",
              "    </tr>\n",
              "    <tr>\n",
              "      <th>267</th>\n",
              "      <td>1</td>\n",
              "      <td>0</td>\n",
              "      <td>0</td>\n",
              "      <td>1</td>\n",
              "      <td>0</td>\n",
              "    </tr>\n",
              "    <tr>\n",
              "      <th>268</th>\n",
              "      <td>0</td>\n",
              "      <td>0</td>\n",
              "      <td>0</td>\n",
              "      <td>0</td>\n",
              "      <td>1</td>\n",
              "    </tr>\n",
              "    <tr>\n",
              "      <th>269</th>\n",
              "      <td>0</td>\n",
              "      <td>0</td>\n",
              "      <td>0</td>\n",
              "      <td>1</td>\n",
              "      <td>0</td>\n",
              "    </tr>\n",
              "    <tr>\n",
              "      <th>270</th>\n",
              "      <td>1</td>\n",
              "      <td>0</td>\n",
              "      <td>0</td>\n",
              "      <td>0</td>\n",
              "      <td>0</td>\n",
              "    </tr>\n",
              "    <tr>\n",
              "      <th>271</th>\n",
              "      <td>0</td>\n",
              "      <td>0</td>\n",
              "      <td>0</td>\n",
              "      <td>0</td>\n",
              "      <td>1</td>\n",
              "    </tr>\n",
              "  </tbody>\n",
              "</table>\n",
              "<p>272 rows × 5 columns</p>\n",
              "</div>\n",
              "    <div class=\"colab-df-buttons\">\n",
              "\n",
              "  <div class=\"colab-df-container\">\n",
              "    <button class=\"colab-df-convert\" onclick=\"convertToInteractive('df-ce0e1124-f222-4147-bac8-1a32f69d25d5')\"\n",
              "            title=\"Convert this dataframe to an interactive table.\"\n",
              "            style=\"display:none;\">\n",
              "\n",
              "  <svg xmlns=\"http://www.w3.org/2000/svg\" height=\"24px\" viewBox=\"0 -960 960 960\">\n",
              "    <path d=\"M120-120v-720h720v720H120Zm60-500h600v-160H180v160Zm220 220h160v-160H400v160Zm0 220h160v-160H400v160ZM180-400h160v-160H180v160Zm440 0h160v-160H620v160ZM180-180h160v-160H180v160Zm440 0h160v-160H620v160Z\"/>\n",
              "  </svg>\n",
              "    </button>\n",
              "\n",
              "  <style>\n",
              "    .colab-df-container {\n",
              "      display:flex;\n",
              "      gap: 12px;\n",
              "    }\n",
              "\n",
              "    .colab-df-convert {\n",
              "      background-color: #E8F0FE;\n",
              "      border: none;\n",
              "      border-radius: 50%;\n",
              "      cursor: pointer;\n",
              "      display: none;\n",
              "      fill: #1967D2;\n",
              "      height: 32px;\n",
              "      padding: 0 0 0 0;\n",
              "      width: 32px;\n",
              "    }\n",
              "\n",
              "    .colab-df-convert:hover {\n",
              "      background-color: #E2EBFA;\n",
              "      box-shadow: 0px 1px 2px rgba(60, 64, 67, 0.3), 0px 1px 3px 1px rgba(60, 64, 67, 0.15);\n",
              "      fill: #174EA6;\n",
              "    }\n",
              "\n",
              "    .colab-df-buttons div {\n",
              "      margin-bottom: 4px;\n",
              "    }\n",
              "\n",
              "    [theme=dark] .colab-df-convert {\n",
              "      background-color: #3B4455;\n",
              "      fill: #D2E3FC;\n",
              "    }\n",
              "\n",
              "    [theme=dark] .colab-df-convert:hover {\n",
              "      background-color: #434B5C;\n",
              "      box-shadow: 0px 1px 3px 1px rgba(0, 0, 0, 0.15);\n",
              "      filter: drop-shadow(0px 1px 2px rgba(0, 0, 0, 0.3));\n",
              "      fill: #FFFFFF;\n",
              "    }\n",
              "  </style>\n",
              "\n",
              "    <script>\n",
              "      const buttonEl =\n",
              "        document.querySelector('#df-ce0e1124-f222-4147-bac8-1a32f69d25d5 button.colab-df-convert');\n",
              "      buttonEl.style.display =\n",
              "        google.colab.kernel.accessAllowed ? 'block' : 'none';\n",
              "\n",
              "      async function convertToInteractive(key) {\n",
              "        const element = document.querySelector('#df-ce0e1124-f222-4147-bac8-1a32f69d25d5');\n",
              "        const dataTable =\n",
              "          await google.colab.kernel.invokeFunction('convertToInteractive',\n",
              "                                                    [key], {});\n",
              "        if (!dataTable) return;\n",
              "\n",
              "        const docLinkHtml = 'Like what you see? Visit the ' +\n",
              "          '<a target=\"_blank\" href=https://colab.research.google.com/notebooks/data_table.ipynb>data table notebook</a>'\n",
              "          + ' to learn more about interactive tables.';\n",
              "        element.innerHTML = '';\n",
              "        dataTable['output_type'] = 'display_data';\n",
              "        await google.colab.output.renderOutput(dataTable, element);\n",
              "        const docLink = document.createElement('div');\n",
              "        docLink.innerHTML = docLinkHtml;\n",
              "        element.appendChild(docLink);\n",
              "      }\n",
              "    </script>\n",
              "  </div>\n",
              "\n",
              "\n",
              "    <div id=\"df-2b1bb54d-a462-4865-b1de-a9cbf2a8a393\">\n",
              "      <button class=\"colab-df-quickchart\" onclick=\"quickchart('df-2b1bb54d-a462-4865-b1de-a9cbf2a8a393')\"\n",
              "                title=\"Suggest charts\"\n",
              "                style=\"display:none;\">\n",
              "\n",
              "<svg xmlns=\"http://www.w3.org/2000/svg\" height=\"24px\"viewBox=\"0 0 24 24\"\n",
              "     width=\"24px\">\n",
              "    <g>\n",
              "        <path d=\"M19 3H5c-1.1 0-2 .9-2 2v14c0 1.1.9 2 2 2h14c1.1 0 2-.9 2-2V5c0-1.1-.9-2-2-2zM9 17H7v-7h2v7zm4 0h-2V7h2v10zm4 0h-2v-4h2v4z\"/>\n",
              "    </g>\n",
              "</svg>\n",
              "      </button>\n",
              "\n",
              "<style>\n",
              "  .colab-df-quickchart {\n",
              "      --bg-color: #E8F0FE;\n",
              "      --fill-color: #1967D2;\n",
              "      --hover-bg-color: #E2EBFA;\n",
              "      --hover-fill-color: #174EA6;\n",
              "      --disabled-fill-color: #AAA;\n",
              "      --disabled-bg-color: #DDD;\n",
              "  }\n",
              "\n",
              "  [theme=dark] .colab-df-quickchart {\n",
              "      --bg-color: #3B4455;\n",
              "      --fill-color: #D2E3FC;\n",
              "      --hover-bg-color: #434B5C;\n",
              "      --hover-fill-color: #FFFFFF;\n",
              "      --disabled-bg-color: #3B4455;\n",
              "      --disabled-fill-color: #666;\n",
              "  }\n",
              "\n",
              "  .colab-df-quickchart {\n",
              "    background-color: var(--bg-color);\n",
              "    border: none;\n",
              "    border-radius: 50%;\n",
              "    cursor: pointer;\n",
              "    display: none;\n",
              "    fill: var(--fill-color);\n",
              "    height: 32px;\n",
              "    padding: 0;\n",
              "    width: 32px;\n",
              "  }\n",
              "\n",
              "  .colab-df-quickchart:hover {\n",
              "    background-color: var(--hover-bg-color);\n",
              "    box-shadow: 0 1px 2px rgba(60, 64, 67, 0.3), 0 1px 3px 1px rgba(60, 64, 67, 0.15);\n",
              "    fill: var(--button-hover-fill-color);\n",
              "  }\n",
              "\n",
              "  .colab-df-quickchart-complete:disabled,\n",
              "  .colab-df-quickchart-complete:disabled:hover {\n",
              "    background-color: var(--disabled-bg-color);\n",
              "    fill: var(--disabled-fill-color);\n",
              "    box-shadow: none;\n",
              "  }\n",
              "\n",
              "  .colab-df-spinner {\n",
              "    border: 2px solid var(--fill-color);\n",
              "    border-color: transparent;\n",
              "    border-bottom-color: var(--fill-color);\n",
              "    animation:\n",
              "      spin 1s steps(1) infinite;\n",
              "  }\n",
              "\n",
              "  @keyframes spin {\n",
              "    0% {\n",
              "      border-color: transparent;\n",
              "      border-bottom-color: var(--fill-color);\n",
              "      border-left-color: var(--fill-color);\n",
              "    }\n",
              "    20% {\n",
              "      border-color: transparent;\n",
              "      border-left-color: var(--fill-color);\n",
              "      border-top-color: var(--fill-color);\n",
              "    }\n",
              "    30% {\n",
              "      border-color: transparent;\n",
              "      border-left-color: var(--fill-color);\n",
              "      border-top-color: var(--fill-color);\n",
              "      border-right-color: var(--fill-color);\n",
              "    }\n",
              "    40% {\n",
              "      border-color: transparent;\n",
              "      border-right-color: var(--fill-color);\n",
              "      border-top-color: var(--fill-color);\n",
              "    }\n",
              "    60% {\n",
              "      border-color: transparent;\n",
              "      border-right-color: var(--fill-color);\n",
              "    }\n",
              "    80% {\n",
              "      border-color: transparent;\n",
              "      border-right-color: var(--fill-color);\n",
              "      border-bottom-color: var(--fill-color);\n",
              "    }\n",
              "    90% {\n",
              "      border-color: transparent;\n",
              "      border-bottom-color: var(--fill-color);\n",
              "    }\n",
              "  }\n",
              "</style>\n",
              "\n",
              "      <script>\n",
              "        async function quickchart(key) {\n",
              "          const quickchartButtonEl =\n",
              "            document.querySelector('#' + key + ' button');\n",
              "          quickchartButtonEl.disabled = true;  // To prevent multiple clicks.\n",
              "          quickchartButtonEl.classList.add('colab-df-spinner');\n",
              "          try {\n",
              "            const charts = await google.colab.kernel.invokeFunction(\n",
              "                'suggestCharts', [key], {});\n",
              "          } catch (error) {\n",
              "            console.error('Error during call to suggestCharts:', error);\n",
              "          }\n",
              "          quickchartButtonEl.classList.remove('colab-df-spinner');\n",
              "          quickchartButtonEl.classList.add('colab-df-quickchart-complete');\n",
              "        }\n",
              "        (() => {\n",
              "          let quickchartButtonEl =\n",
              "            document.querySelector('#df-2b1bb54d-a462-4865-b1de-a9cbf2a8a393 button');\n",
              "          quickchartButtonEl.style.display =\n",
              "            google.colab.kernel.accessAllowed ? 'block' : 'none';\n",
              "        })();\n",
              "      </script>\n",
              "    </div>\n",
              "\n",
              "  <div id=\"id_7792c811-e83d-4e08-a76e-1848e9d74246\">\n",
              "    <style>\n",
              "      .colab-df-generate {\n",
              "        background-color: #E8F0FE;\n",
              "        border: none;\n",
              "        border-radius: 50%;\n",
              "        cursor: pointer;\n",
              "        display: none;\n",
              "        fill: #1967D2;\n",
              "        height: 32px;\n",
              "        padding: 0 0 0 0;\n",
              "        width: 32px;\n",
              "      }\n",
              "\n",
              "      .colab-df-generate:hover {\n",
              "        background-color: #E2EBFA;\n",
              "        box-shadow: 0px 1px 2px rgba(60, 64, 67, 0.3), 0px 1px 3px 1px rgba(60, 64, 67, 0.15);\n",
              "        fill: #174EA6;\n",
              "      }\n",
              "\n",
              "      [theme=dark] .colab-df-generate {\n",
              "        background-color: #3B4455;\n",
              "        fill: #D2E3FC;\n",
              "      }\n",
              "\n",
              "      [theme=dark] .colab-df-generate:hover {\n",
              "        background-color: #434B5C;\n",
              "        box-shadow: 0px 1px 3px 1px rgba(0, 0, 0, 0.15);\n",
              "        filter: drop-shadow(0px 1px 2px rgba(0, 0, 0, 0.3));\n",
              "        fill: #FFFFFF;\n",
              "      }\n",
              "    </style>\n",
              "    <button class=\"colab-df-generate\" onclick=\"generateWithVariable('category_encoded_df')\"\n",
              "            title=\"Generate code using this dataframe.\"\n",
              "            style=\"display:none;\">\n",
              "\n",
              "  <svg xmlns=\"http://www.w3.org/2000/svg\" height=\"24px\"viewBox=\"0 0 24 24\"\n",
              "       width=\"24px\">\n",
              "    <path d=\"M7,19H8.4L18.45,9,17,7.55,7,17.6ZM5,21V16.75L18.45,3.32a2,2,0,0,1,2.83,0l1.4,1.43a1.91,1.91,0,0,1,.58,1.4,1.91,1.91,0,0,1-.58,1.4L9.25,21ZM18.45,9,17,7.55Zm-12,3A5.31,5.31,0,0,0,4.9,8.1,5.31,5.31,0,0,0,1,6.5,5.31,5.31,0,0,0,4.9,4.9,5.31,5.31,0,0,0,6.5,1,5.31,5.31,0,0,0,8.1,4.9,5.31,5.31,0,0,0,12,6.5,5.46,5.46,0,0,0,6.5,12Z\"/>\n",
              "  </svg>\n",
              "    </button>\n",
              "    <script>\n",
              "      (() => {\n",
              "      const buttonEl =\n",
              "        document.querySelector('#id_7792c811-e83d-4e08-a76e-1848e9d74246 button.colab-df-generate');\n",
              "      buttonEl.style.display =\n",
              "        google.colab.kernel.accessAllowed ? 'block' : 'none';\n",
              "\n",
              "      buttonEl.onclick = () => {\n",
              "        google.colab.notebook.generateWithVariable('category_encoded_df');\n",
              "      }\n",
              "      })();\n",
              "    </script>\n",
              "  </div>\n",
              "\n",
              "    </div>\n",
              "  </div>\n"
            ],
            "application/vnd.google.colaboratory.intrinsic+json": {
              "type": "dataframe",
              "variable_name": "category_encoded_df",
              "summary": "{\n  \"name\": \"category_encoded_df\",\n  \"rows\": 272,\n  \"fields\": [\n    {\n      \"column\": \"category_administrative decision\",\n      \"properties\": {\n        \"dtype\": \"number\",\n        \"std\": 0,\n        \"min\": 0,\n        \"max\": 1,\n        \"num_unique_values\": 2,\n        \"samples\": [\n          0,\n          1\n        ],\n        \"semantic_type\": \"\",\n        \"description\": \"\"\n      }\n    },\n    {\n      \"column\": \"category_constitutional interpretation\",\n      \"properties\": {\n        \"dtype\": \"number\",\n        \"std\": 0,\n        \"min\": 0,\n        \"max\": 1,\n        \"num_unique_values\": 2,\n        \"samples\": [\n          0,\n          1\n        ],\n        \"semantic_type\": \"\",\n        \"description\": \"\"\n      }\n    },\n    {\n      \"column\": \"category_debate management\",\n      \"properties\": {\n        \"dtype\": \"number\",\n        \"std\": 0,\n        \"min\": 0,\n        \"max\": 1,\n        \"num_unique_values\": 2,\n        \"samples\": [\n          1,\n          0\n        ],\n        \"semantic_type\": \"\",\n        \"description\": \"\"\n      }\n    },\n    {\n      \"column\": \"category_disciplinary action\",\n      \"properties\": {\n        \"dtype\": \"number\",\n        \"std\": 0,\n        \"min\": 0,\n        \"max\": 1,\n        \"num_unique_values\": 2,\n        \"samples\": [\n          1,\n          0\n        ],\n        \"semantic_type\": \"\",\n        \"description\": \"\"\n      }\n    },\n    {\n      \"column\": \"category_procedural ruling\",\n      \"properties\": {\n        \"dtype\": \"number\",\n        \"std\": 0,\n        \"min\": 0,\n        \"max\": 1,\n        \"num_unique_values\": 2,\n        \"samples\": [\n          1,\n          0\n        ],\n        \"semantic_type\": \"\",\n        \"description\": \"\"\n      }\n    }\n  ]\n}"
            }
          },
          "metadata": {},
          "execution_count": 284
        }
      ]
    },
    {
      "cell_type": "code",
      "source": [
        "working_df.columns"
      ],
      "metadata": {
        "colab": {
          "base_uri": "https://localhost:8080/"
        },
        "id": "IGkaEaCnnM06",
        "outputId": "a3af792d-b8ce-44c5-9fd3-99a64b5a13e9"
      },
      "execution_count": null,
      "outputs": [
        {
          "output_type": "execute_result",
          "data": {
            "text/plain": [
              "Index(['rulingText', 'context', 'standingOrder', 'ruling_title_text_length',\n",
              "       'ruling_title_word_count', 'category_administrative decision',\n",
              "       'category_constitutional interpretation', 'category_debate management',\n",
              "       'category_disciplinary action', 'category_procedural ruling'],\n",
              "      dtype='object')"
            ]
          },
          "metadata": {},
          "execution_count": 285
        }
      ]
    },
    {
      "cell_type": "code",
      "execution_count": null,
      "metadata": {
        "id": "B9ip4POo0Pkz"
      },
      "outputs": [],
      "source": [
        "# Use MultiLabelBinarizer from scikit learn to perform Multi-Hot Encoding on standing orders and ignoring the NaN\n",
        "from sklearn.preprocessing import MultiLabelBinarizer\n",
        "\n",
        "# Multi-label encoding for standing orders\n",
        "mlb = MultiLabelBinarizer()\n",
        "encoded = mlb.fit_transform(working_df['standingOrder'])\n",
        "\n",
        "# Add prefix to column names and ensure integer type\n",
        "encoded_df = pd.DataFrame(encoded, columns=[f'SO_{col}' for col in mlb.classes_]).astype(int)\n",
        "working_df = working_df.drop(columns=['standingOrder']).join(encoded_df)\n",
        "\n"
      ]
    },
    {
      "cell_type": "code",
      "source": [
        "working_df.columns"
      ],
      "metadata": {
        "colab": {
          "base_uri": "https://localhost:8080/"
        },
        "id": "4sZtoAQ7pExh",
        "outputId": "03659857-9eeb-485b-a6d9-eac9c5a8a604"
      },
      "execution_count": null,
      "outputs": [
        {
          "output_type": "execute_result",
          "data": {
            "text/plain": [
              "Index(['rulingText', 'context', 'ruling_title_text_length',\n",
              "       'ruling_title_word_count', 'category_administrative decision',\n",
              "       'category_constitutional interpretation', 'category_debate management',\n",
              "       'category_disciplinary action', 'category_procedural ruling', 'SO_1',\n",
              "       'SO_11', 'SO_121', 'SO_125', 'SO_131', 'SO_132', 'SO_134', 'SO_135',\n",
              "       'SO_139', 'SO_140', 'SO_141', 'SO_145', 'SO_148', 'SO_15', 'SO_160',\n",
              "       'SO_165', 'SO_179', 'SO_185', 'SO_186', 'SO_187', 'SO_188', 'SO_189',\n",
              "       'SO_19', 'SO_190', 'SO_191', 'SO_192', 'SO_193', 'SO_194', 'SO_195',\n",
              "       'SO_196', 'SO_197', 'SO_198', 'SO_199', 'SO_200', 'SO_201', 'SO_202',\n",
              "       'SO_203', 'SO_204', 'SO_205', 'SO_207', 'SO_208', 'SO_210', 'SO_213',\n",
              "       'SO_215', 'SO_220', 'SO_223', 'SO_226', 'SO_23', 'SO_231', 'SO_243',\n",
              "       'SO_25', 'SO_26', 'SO_27', 'SO_28', 'SO_3', 'SO_33', 'SO_34', 'SO_35',\n",
              "       'SO_4', 'SO_44', 'SO_49', 'SO_5', 'SO_51', 'SO_53', 'SO_54', 'SO_57',\n",
              "       'SO_63', 'SO_65', 'SO_66', 'SO_69', 'SO_70', 'SO_72', 'SO_73', 'SO_75',\n",
              "       'SO_76', 'SO_77', 'SO_84', 'SO_85', 'SO_86', 'SO_87', 'SO_88', 'SO_89'],\n",
              "      dtype='object')"
            ]
          },
          "metadata": {},
          "execution_count": 287
        }
      ]
    },
    {
      "cell_type": "code",
      "execution_count": null,
      "metadata": {
        "id": "5KE0GadW0Twp"
      },
      "outputs": [],
      "source": [
        "#performing one hot encodin for the context\n",
        "encoder = OneHotEncoder(sparse_output=False)\n",
        "context_encoded = encoder.fit_transform(working_df[['context']])\n",
        "context_encoded_df = pd.DataFrame(context_encoded, columns=encoder.get_feature_names_out(['context'])).astype(int)\n",
        "working_df = pd.concat([working_df, context_encoded_df], axis=1)\n",
        "working_df = working_df.drop(columns=['context'])\n"
      ]
    },
    {
      "cell_type": "code",
      "source": [
        "working_df.head(5).T\n"
      ],
      "metadata": {
        "colab": {
          "base_uri": "https://localhost:8080/",
          "height": 424
        },
        "id": "kmUD3vrGpJ94",
        "outputId": "ae0c66a1-a428-42e5-a4e8-1591cfabe183"
      },
      "execution_count": null,
      "outputs": [
        {
          "output_type": "execute_result",
          "data": {
            "text/plain": [
              "                                                                                            0  \\\n",
              "rulingText                                  rule honour speaker point order concern consti...   \n",
              "ruling_title_text_length                                                                  150   \n",
              "ruling_title_word_count                                                                    19   \n",
              "category_administrative decision                                                            1   \n",
              "category_constitutional interpretation                                                      1   \n",
              "...                                                                                       ...   \n",
              "SO_89                                                                                       0   \n",
              "context_complaint                                                                           0   \n",
              "context_guidance                                                                            0   \n",
              "context_matter of urgent public importance                                                  0   \n",
              "context_point of order                                                                      1   \n",
              "\n",
              "                                                                                            1  \\\n",
              "rulingText                                  rule hon madam speaker applic articl  social m...   \n",
              "ruling_title_text_length                                                                   98   \n",
              "ruling_title_word_count                                                                    16   \n",
              "category_administrative decision                                                            0   \n",
              "category_constitutional interpretation                                                      1   \n",
              "...                                                                                       ...   \n",
              "SO_89                                                                                       0   \n",
              "context_complaint                                                                           0   \n",
              "context_guidance                                                                            1   \n",
              "context_matter of urgent public importance                                                  0   \n",
              "context_point of order                                                                      0   \n",
              "\n",
              "                                                                                            2  \\\n",
              "rulingText                                  rule honour speaker point order alleg infring ...   \n",
              "ruling_title_text_length                                                                  127   \n",
              "ruling_title_word_count                                                                    20   \n",
              "category_administrative decision                                                            0   \n",
              "category_constitutional interpretation                                                      1   \n",
              "...                                                                                       ...   \n",
              "SO_89                                                                                       0   \n",
              "context_complaint                                                                           0   \n",
              "context_guidance                                                                            0   \n",
              "context_matter of urgent public importance                                                  0   \n",
              "context_point of order                                                                      1   \n",
              "\n",
              "                                                                                            3  \\\n",
              "rulingText                                  rule hon madam first deputi speaker complaint ...   \n",
              "ruling_title_text_length                                                                  770   \n",
              "ruling_title_word_count                                                                   129   \n",
              "category_administrative decision                                                            0   \n",
              "category_constitutional interpretation                                                      0   \n",
              "...                                                                                       ...   \n",
              "SO_89                                                                                       0   \n",
              "context_complaint                                                                           1   \n",
              "context_guidance                                                                            0   \n",
              "context_matter of urgent public importance                                                  0   \n",
              "context_point of order                                                                      0   \n",
              "\n",
              "                                                                                            4  \n",
              "rulingText                                  rule articl  motion censur execut account poin...  \n",
              "ruling_title_text_length                                                                   68  \n",
              "ruling_title_word_count                                                                    10  \n",
              "category_administrative decision                                                            0  \n",
              "category_constitutional interpretation                                                      1  \n",
              "...                                                                                       ...  \n",
              "SO_89                                                                                       0  \n",
              "context_complaint                                                                           0  \n",
              "context_guidance                                                                            0  \n",
              "context_matter of urgent public importance                                                  0  \n",
              "context_point of order                                                                      1  \n",
              "\n",
              "[94 rows x 5 columns]"
            ],
            "text/html": [
              "\n",
              "  <div id=\"df-9a3b5a1c-0d35-4281-b1c6-7f3a1984bbc0\" class=\"colab-df-container\">\n",
              "    <div>\n",
              "<style scoped>\n",
              "    .dataframe tbody tr th:only-of-type {\n",
              "        vertical-align: middle;\n",
              "    }\n",
              "\n",
              "    .dataframe tbody tr th {\n",
              "        vertical-align: top;\n",
              "    }\n",
              "\n",
              "    .dataframe thead th {\n",
              "        text-align: right;\n",
              "    }\n",
              "</style>\n",
              "<table border=\"1\" class=\"dataframe\">\n",
              "  <thead>\n",
              "    <tr style=\"text-align: right;\">\n",
              "      <th></th>\n",
              "      <th>0</th>\n",
              "      <th>1</th>\n",
              "      <th>2</th>\n",
              "      <th>3</th>\n",
              "      <th>4</th>\n",
              "    </tr>\n",
              "  </thead>\n",
              "  <tbody>\n",
              "    <tr>\n",
              "      <th>rulingText</th>\n",
              "      <td>rule honour speaker point order concern consti...</td>\n",
              "      <td>rule hon madam speaker applic articl  social m...</td>\n",
              "      <td>rule honour speaker point order alleg infring ...</td>\n",
              "      <td>rule hon madam first deputi speaker complaint ...</td>\n",
              "      <td>rule articl  motion censur execut account poin...</td>\n",
              "    </tr>\n",
              "    <tr>\n",
              "      <th>ruling_title_text_length</th>\n",
              "      <td>150</td>\n",
              "      <td>98</td>\n",
              "      <td>127</td>\n",
              "      <td>770</td>\n",
              "      <td>68</td>\n",
              "    </tr>\n",
              "    <tr>\n",
              "      <th>ruling_title_word_count</th>\n",
              "      <td>19</td>\n",
              "      <td>16</td>\n",
              "      <td>20</td>\n",
              "      <td>129</td>\n",
              "      <td>10</td>\n",
              "    </tr>\n",
              "    <tr>\n",
              "      <th>category_administrative decision</th>\n",
              "      <td>1</td>\n",
              "      <td>0</td>\n",
              "      <td>0</td>\n",
              "      <td>0</td>\n",
              "      <td>0</td>\n",
              "    </tr>\n",
              "    <tr>\n",
              "      <th>category_constitutional interpretation</th>\n",
              "      <td>1</td>\n",
              "      <td>1</td>\n",
              "      <td>1</td>\n",
              "      <td>0</td>\n",
              "      <td>1</td>\n",
              "    </tr>\n",
              "    <tr>\n",
              "      <th>...</th>\n",
              "      <td>...</td>\n",
              "      <td>...</td>\n",
              "      <td>...</td>\n",
              "      <td>...</td>\n",
              "      <td>...</td>\n",
              "    </tr>\n",
              "    <tr>\n",
              "      <th>SO_89</th>\n",
              "      <td>0</td>\n",
              "      <td>0</td>\n",
              "      <td>0</td>\n",
              "      <td>0</td>\n",
              "      <td>0</td>\n",
              "    </tr>\n",
              "    <tr>\n",
              "      <th>context_complaint</th>\n",
              "      <td>0</td>\n",
              "      <td>0</td>\n",
              "      <td>0</td>\n",
              "      <td>1</td>\n",
              "      <td>0</td>\n",
              "    </tr>\n",
              "    <tr>\n",
              "      <th>context_guidance</th>\n",
              "      <td>0</td>\n",
              "      <td>1</td>\n",
              "      <td>0</td>\n",
              "      <td>0</td>\n",
              "      <td>0</td>\n",
              "    </tr>\n",
              "    <tr>\n",
              "      <th>context_matter of urgent public importance</th>\n",
              "      <td>0</td>\n",
              "      <td>0</td>\n",
              "      <td>0</td>\n",
              "      <td>0</td>\n",
              "      <td>0</td>\n",
              "    </tr>\n",
              "    <tr>\n",
              "      <th>context_point of order</th>\n",
              "      <td>1</td>\n",
              "      <td>0</td>\n",
              "      <td>1</td>\n",
              "      <td>0</td>\n",
              "      <td>1</td>\n",
              "    </tr>\n",
              "  </tbody>\n",
              "</table>\n",
              "<p>94 rows × 5 columns</p>\n",
              "</div>\n",
              "    <div class=\"colab-df-buttons\">\n",
              "\n",
              "  <div class=\"colab-df-container\">\n",
              "    <button class=\"colab-df-convert\" onclick=\"convertToInteractive('df-9a3b5a1c-0d35-4281-b1c6-7f3a1984bbc0')\"\n",
              "            title=\"Convert this dataframe to an interactive table.\"\n",
              "            style=\"display:none;\">\n",
              "\n",
              "  <svg xmlns=\"http://www.w3.org/2000/svg\" height=\"24px\" viewBox=\"0 -960 960 960\">\n",
              "    <path d=\"M120-120v-720h720v720H120Zm60-500h600v-160H180v160Zm220 220h160v-160H400v160Zm0 220h160v-160H400v160ZM180-400h160v-160H180v160Zm440 0h160v-160H620v160ZM180-180h160v-160H180v160Zm440 0h160v-160H620v160Z\"/>\n",
              "  </svg>\n",
              "    </button>\n",
              "\n",
              "  <style>\n",
              "    .colab-df-container {\n",
              "      display:flex;\n",
              "      gap: 12px;\n",
              "    }\n",
              "\n",
              "    .colab-df-convert {\n",
              "      background-color: #E8F0FE;\n",
              "      border: none;\n",
              "      border-radius: 50%;\n",
              "      cursor: pointer;\n",
              "      display: none;\n",
              "      fill: #1967D2;\n",
              "      height: 32px;\n",
              "      padding: 0 0 0 0;\n",
              "      width: 32px;\n",
              "    }\n",
              "\n",
              "    .colab-df-convert:hover {\n",
              "      background-color: #E2EBFA;\n",
              "      box-shadow: 0px 1px 2px rgba(60, 64, 67, 0.3), 0px 1px 3px 1px rgba(60, 64, 67, 0.15);\n",
              "      fill: #174EA6;\n",
              "    }\n",
              "\n",
              "    .colab-df-buttons div {\n",
              "      margin-bottom: 4px;\n",
              "    }\n",
              "\n",
              "    [theme=dark] .colab-df-convert {\n",
              "      background-color: #3B4455;\n",
              "      fill: #D2E3FC;\n",
              "    }\n",
              "\n",
              "    [theme=dark] .colab-df-convert:hover {\n",
              "      background-color: #434B5C;\n",
              "      box-shadow: 0px 1px 3px 1px rgba(0, 0, 0, 0.15);\n",
              "      filter: drop-shadow(0px 1px 2px rgba(0, 0, 0, 0.3));\n",
              "      fill: #FFFFFF;\n",
              "    }\n",
              "  </style>\n",
              "\n",
              "    <script>\n",
              "      const buttonEl =\n",
              "        document.querySelector('#df-9a3b5a1c-0d35-4281-b1c6-7f3a1984bbc0 button.colab-df-convert');\n",
              "      buttonEl.style.display =\n",
              "        google.colab.kernel.accessAllowed ? 'block' : 'none';\n",
              "\n",
              "      async function convertToInteractive(key) {\n",
              "        const element = document.querySelector('#df-9a3b5a1c-0d35-4281-b1c6-7f3a1984bbc0');\n",
              "        const dataTable =\n",
              "          await google.colab.kernel.invokeFunction('convertToInteractive',\n",
              "                                                    [key], {});\n",
              "        if (!dataTable) return;\n",
              "\n",
              "        const docLinkHtml = 'Like what you see? Visit the ' +\n",
              "          '<a target=\"_blank\" href=https://colab.research.google.com/notebooks/data_table.ipynb>data table notebook</a>'\n",
              "          + ' to learn more about interactive tables.';\n",
              "        element.innerHTML = '';\n",
              "        dataTable['output_type'] = 'display_data';\n",
              "        await google.colab.output.renderOutput(dataTable, element);\n",
              "        const docLink = document.createElement('div');\n",
              "        docLink.innerHTML = docLinkHtml;\n",
              "        element.appendChild(docLink);\n",
              "      }\n",
              "    </script>\n",
              "  </div>\n",
              "\n",
              "\n",
              "    <div id=\"df-bcabaa0f-37de-43a3-ab55-2888b0fe87fe\">\n",
              "      <button class=\"colab-df-quickchart\" onclick=\"quickchart('df-bcabaa0f-37de-43a3-ab55-2888b0fe87fe')\"\n",
              "                title=\"Suggest charts\"\n",
              "                style=\"display:none;\">\n",
              "\n",
              "<svg xmlns=\"http://www.w3.org/2000/svg\" height=\"24px\"viewBox=\"0 0 24 24\"\n",
              "     width=\"24px\">\n",
              "    <g>\n",
              "        <path d=\"M19 3H5c-1.1 0-2 .9-2 2v14c0 1.1.9 2 2 2h14c1.1 0 2-.9 2-2V5c0-1.1-.9-2-2-2zM9 17H7v-7h2v7zm4 0h-2V7h2v10zm4 0h-2v-4h2v4z\"/>\n",
              "    </g>\n",
              "</svg>\n",
              "      </button>\n",
              "\n",
              "<style>\n",
              "  .colab-df-quickchart {\n",
              "      --bg-color: #E8F0FE;\n",
              "      --fill-color: #1967D2;\n",
              "      --hover-bg-color: #E2EBFA;\n",
              "      --hover-fill-color: #174EA6;\n",
              "      --disabled-fill-color: #AAA;\n",
              "      --disabled-bg-color: #DDD;\n",
              "  }\n",
              "\n",
              "  [theme=dark] .colab-df-quickchart {\n",
              "      --bg-color: #3B4455;\n",
              "      --fill-color: #D2E3FC;\n",
              "      --hover-bg-color: #434B5C;\n",
              "      --hover-fill-color: #FFFFFF;\n",
              "      --disabled-bg-color: #3B4455;\n",
              "      --disabled-fill-color: #666;\n",
              "  }\n",
              "\n",
              "  .colab-df-quickchart {\n",
              "    background-color: var(--bg-color);\n",
              "    border: none;\n",
              "    border-radius: 50%;\n",
              "    cursor: pointer;\n",
              "    display: none;\n",
              "    fill: var(--fill-color);\n",
              "    height: 32px;\n",
              "    padding: 0;\n",
              "    width: 32px;\n",
              "  }\n",
              "\n",
              "  .colab-df-quickchart:hover {\n",
              "    background-color: var(--hover-bg-color);\n",
              "    box-shadow: 0 1px 2px rgba(60, 64, 67, 0.3), 0 1px 3px 1px rgba(60, 64, 67, 0.15);\n",
              "    fill: var(--button-hover-fill-color);\n",
              "  }\n",
              "\n",
              "  .colab-df-quickchart-complete:disabled,\n",
              "  .colab-df-quickchart-complete:disabled:hover {\n",
              "    background-color: var(--disabled-bg-color);\n",
              "    fill: var(--disabled-fill-color);\n",
              "    box-shadow: none;\n",
              "  }\n",
              "\n",
              "  .colab-df-spinner {\n",
              "    border: 2px solid var(--fill-color);\n",
              "    border-color: transparent;\n",
              "    border-bottom-color: var(--fill-color);\n",
              "    animation:\n",
              "      spin 1s steps(1) infinite;\n",
              "  }\n",
              "\n",
              "  @keyframes spin {\n",
              "    0% {\n",
              "      border-color: transparent;\n",
              "      border-bottom-color: var(--fill-color);\n",
              "      border-left-color: var(--fill-color);\n",
              "    }\n",
              "    20% {\n",
              "      border-color: transparent;\n",
              "      border-left-color: var(--fill-color);\n",
              "      border-top-color: var(--fill-color);\n",
              "    }\n",
              "    30% {\n",
              "      border-color: transparent;\n",
              "      border-left-color: var(--fill-color);\n",
              "      border-top-color: var(--fill-color);\n",
              "      border-right-color: var(--fill-color);\n",
              "    }\n",
              "    40% {\n",
              "      border-color: transparent;\n",
              "      border-right-color: var(--fill-color);\n",
              "      border-top-color: var(--fill-color);\n",
              "    }\n",
              "    60% {\n",
              "      border-color: transparent;\n",
              "      border-right-color: var(--fill-color);\n",
              "    }\n",
              "    80% {\n",
              "      border-color: transparent;\n",
              "      border-right-color: var(--fill-color);\n",
              "      border-bottom-color: var(--fill-color);\n",
              "    }\n",
              "    90% {\n",
              "      border-color: transparent;\n",
              "      border-bottom-color: var(--fill-color);\n",
              "    }\n",
              "  }\n",
              "</style>\n",
              "\n",
              "      <script>\n",
              "        async function quickchart(key) {\n",
              "          const quickchartButtonEl =\n",
              "            document.querySelector('#' + key + ' button');\n",
              "          quickchartButtonEl.disabled = true;  // To prevent multiple clicks.\n",
              "          quickchartButtonEl.classList.add('colab-df-spinner');\n",
              "          try {\n",
              "            const charts = await google.colab.kernel.invokeFunction(\n",
              "                'suggestCharts', [key], {});\n",
              "          } catch (error) {\n",
              "            console.error('Error during call to suggestCharts:', error);\n",
              "          }\n",
              "          quickchartButtonEl.classList.remove('colab-df-spinner');\n",
              "          quickchartButtonEl.classList.add('colab-df-quickchart-complete');\n",
              "        }\n",
              "        (() => {\n",
              "          let quickchartButtonEl =\n",
              "            document.querySelector('#df-bcabaa0f-37de-43a3-ab55-2888b0fe87fe button');\n",
              "          quickchartButtonEl.style.display =\n",
              "            google.colab.kernel.accessAllowed ? 'block' : 'none';\n",
              "        })();\n",
              "      </script>\n",
              "    </div>\n",
              "\n",
              "    </div>\n",
              "  </div>\n"
            ],
            "application/vnd.google.colaboratory.intrinsic+json": {
              "type": "dataframe",
              "variable_name": "working_df"
            }
          },
          "metadata": {},
          "execution_count": 289
        }
      ]
    },
    {
      "cell_type": "markdown",
      "metadata": {
        "id": "sMbINu5d0bOr"
      },
      "source": [
        "now the Categorical encoding is done this is how the data set look all together"
      ]
    },
    {
      "cell_type": "markdown",
      "source": [
        "# 4 Text Transformation\n",
        "\n",
        "In this step, we convert textual data into numerical representations using **Bag of Words (BoW)** and **TF-IDF**.  \n",
        "We will prepare the dataset with both approaches, train the model, and then compare their accuracy to determine which performs better.  \n"
      ],
      "metadata": {
        "id": "6-FNEHRrvc9M"
      }
    },
    {
      "cell_type": "markdown",
      "source": [
        "###4.1 Data Preparation using Bag Of Words"
      ],
      "metadata": {
        "id": "ot7Vba5BR-nW"
      }
    },
    {
      "cell_type": "code",
      "source": [
        "#bag or words using count vectorizer\n",
        "#creating a copy for the BOW dataframe\n",
        "bow_encoded_df = working_df.copy()\n",
        "\n",
        "#getting the vectorizer object\n",
        "bow_vectorizer = CountVectorizer()\n",
        "bow_matrix = bow_vectorizer.fit_transform(bow_encoded_df['rulingText'])\n",
        "bow_encoded_text_df = pd.DataFrame(bow_matrix.toarray(), columns=bow_vectorizer.get_feature_names_out())\n",
        "\n",
        "\n",
        "\n",
        "\n"
      ],
      "metadata": {
        "id": "H5Ys3tG6SyNl"
      },
      "execution_count": null,
      "outputs": []
    },
    {
      "cell_type": "markdown",
      "source": [
        "###4.2 Data Preparation using TF-IDF"
      ],
      "metadata": {
        "id": "exyogh30G8sG"
      }
    },
    {
      "cell_type": "code",
      "source": [
        "\n",
        "#bag or words using count vectorizer\n",
        "tfidf_encoded_df = working_df.copy()\n",
        "\n",
        "#getting the vectorizer object\n",
        "tfidf_vectorizer = TfidfVectorizer()\n",
        "tfidf_matrix = tfidf_vectorizer.fit_transform(tfidf_encoded_df['rulingText'])\n",
        "tfidf_encoded_text_df = pd.DataFrame(tfidf_matrix.toarray(), columns=tfidf_vectorizer.get_feature_names_out())\n",
        "\n",
        "\n",
        "\n",
        "\n",
        "\n",
        "\n",
        "\n"
      ],
      "metadata": {
        "id": "gAovLROEvco6"
      },
      "execution_count": null,
      "outputs": []
    },
    {
      "cell_type": "code",
      "source": [
        "tfidf_encoded_text_df.head(5)"
      ],
      "metadata": {
        "colab": {
          "base_uri": "https://localhost:8080/",
          "height": 236
        },
        "id": "RbUF_PFHNxLU",
        "outputId": "791c9093-5ea4-4a68-eb9d-718b6d71aa6e"
      },
      "execution_count": null,
      "outputs": [
        {
          "output_type": "execute_result",
          "data": {
            "text/plain": [
              "    ab  ababa  abalati  abandon  abbrevi  abdic      abid  abil       abl  \\\n",
              "0  0.0    0.0      0.0      0.0      0.0    0.0  0.000000   0.0  0.024382   \n",
              "1  0.0    0.0      0.0      0.0      0.0    0.0  0.000000   0.0  0.000000   \n",
              "2  0.0    0.0      0.0      0.0      0.0    0.0  0.000000   0.0  0.000000   \n",
              "3  0.0    0.0      0.0      0.0      0.0    0.0  0.023103   0.0  0.000000   \n",
              "4  0.0    0.0      0.0      0.0      0.0    0.0  0.000000   0.0  0.000000   \n",
              "\n",
              "   abolish  ...  zesco  zfe  zimbabwean  zmsc  zmw  znbc   zr      zulu   zx  \\\n",
              "0      0.0  ...    0.0  0.0         0.0   0.0  0.0   0.0  0.0  0.000000  0.0   \n",
              "1      0.0  ...    0.0  0.0         0.0   0.0  0.0   0.0  0.0  0.000000  0.0   \n",
              "2      0.0  ...    0.0  0.0         0.0   0.0  0.0   0.0  0.0  0.000000  0.0   \n",
              "3      0.0  ...    0.0  0.0         0.0   0.0  0.0   0.0  0.0  0.036313  0.0   \n",
              "4      0.0  ...    0.0  0.0         0.0   0.0  0.0   0.0  0.0  0.000000  0.0   \n",
              "\n",
              "   être  \n",
              "0   0.0  \n",
              "1   0.0  \n",
              "2   0.0  \n",
              "3   0.0  \n",
              "4   0.0  \n",
              "\n",
              "[5 rows x 4786 columns]"
            ],
            "text/html": [
              "\n",
              "  <div id=\"df-4bc7865b-d400-4cb0-ab80-e1fb76cf454a\" class=\"colab-df-container\">\n",
              "    <div>\n",
              "<style scoped>\n",
              "    .dataframe tbody tr th:only-of-type {\n",
              "        vertical-align: middle;\n",
              "    }\n",
              "\n",
              "    .dataframe tbody tr th {\n",
              "        vertical-align: top;\n",
              "    }\n",
              "\n",
              "    .dataframe thead th {\n",
              "        text-align: right;\n",
              "    }\n",
              "</style>\n",
              "<table border=\"1\" class=\"dataframe\">\n",
              "  <thead>\n",
              "    <tr style=\"text-align: right;\">\n",
              "      <th></th>\n",
              "      <th>ab</th>\n",
              "      <th>ababa</th>\n",
              "      <th>abalati</th>\n",
              "      <th>abandon</th>\n",
              "      <th>abbrevi</th>\n",
              "      <th>abdic</th>\n",
              "      <th>abid</th>\n",
              "      <th>abil</th>\n",
              "      <th>abl</th>\n",
              "      <th>abolish</th>\n",
              "      <th>...</th>\n",
              "      <th>zesco</th>\n",
              "      <th>zfe</th>\n",
              "      <th>zimbabwean</th>\n",
              "      <th>zmsc</th>\n",
              "      <th>zmw</th>\n",
              "      <th>znbc</th>\n",
              "      <th>zr</th>\n",
              "      <th>zulu</th>\n",
              "      <th>zx</th>\n",
              "      <th>être</th>\n",
              "    </tr>\n",
              "  </thead>\n",
              "  <tbody>\n",
              "    <tr>\n",
              "      <th>0</th>\n",
              "      <td>0.0</td>\n",
              "      <td>0.0</td>\n",
              "      <td>0.0</td>\n",
              "      <td>0.0</td>\n",
              "      <td>0.0</td>\n",
              "      <td>0.0</td>\n",
              "      <td>0.000000</td>\n",
              "      <td>0.0</td>\n",
              "      <td>0.024382</td>\n",
              "      <td>0.0</td>\n",
              "      <td>...</td>\n",
              "      <td>0.0</td>\n",
              "      <td>0.0</td>\n",
              "      <td>0.0</td>\n",
              "      <td>0.0</td>\n",
              "      <td>0.0</td>\n",
              "      <td>0.0</td>\n",
              "      <td>0.0</td>\n",
              "      <td>0.000000</td>\n",
              "      <td>0.0</td>\n",
              "      <td>0.0</td>\n",
              "    </tr>\n",
              "    <tr>\n",
              "      <th>1</th>\n",
              "      <td>0.0</td>\n",
              "      <td>0.0</td>\n",
              "      <td>0.0</td>\n",
              "      <td>0.0</td>\n",
              "      <td>0.0</td>\n",
              "      <td>0.0</td>\n",
              "      <td>0.000000</td>\n",
              "      <td>0.0</td>\n",
              "      <td>0.000000</td>\n",
              "      <td>0.0</td>\n",
              "      <td>...</td>\n",
              "      <td>0.0</td>\n",
              "      <td>0.0</td>\n",
              "      <td>0.0</td>\n",
              "      <td>0.0</td>\n",
              "      <td>0.0</td>\n",
              "      <td>0.0</td>\n",
              "      <td>0.0</td>\n",
              "      <td>0.000000</td>\n",
              "      <td>0.0</td>\n",
              "      <td>0.0</td>\n",
              "    </tr>\n",
              "    <tr>\n",
              "      <th>2</th>\n",
              "      <td>0.0</td>\n",
              "      <td>0.0</td>\n",
              "      <td>0.0</td>\n",
              "      <td>0.0</td>\n",
              "      <td>0.0</td>\n",
              "      <td>0.0</td>\n",
              "      <td>0.000000</td>\n",
              "      <td>0.0</td>\n",
              "      <td>0.000000</td>\n",
              "      <td>0.0</td>\n",
              "      <td>...</td>\n",
              "      <td>0.0</td>\n",
              "      <td>0.0</td>\n",
              "      <td>0.0</td>\n",
              "      <td>0.0</td>\n",
              "      <td>0.0</td>\n",
              "      <td>0.0</td>\n",
              "      <td>0.0</td>\n",
              "      <td>0.000000</td>\n",
              "      <td>0.0</td>\n",
              "      <td>0.0</td>\n",
              "    </tr>\n",
              "    <tr>\n",
              "      <th>3</th>\n",
              "      <td>0.0</td>\n",
              "      <td>0.0</td>\n",
              "      <td>0.0</td>\n",
              "      <td>0.0</td>\n",
              "      <td>0.0</td>\n",
              "      <td>0.0</td>\n",
              "      <td>0.023103</td>\n",
              "      <td>0.0</td>\n",
              "      <td>0.000000</td>\n",
              "      <td>0.0</td>\n",
              "      <td>...</td>\n",
              "      <td>0.0</td>\n",
              "      <td>0.0</td>\n",
              "      <td>0.0</td>\n",
              "      <td>0.0</td>\n",
              "      <td>0.0</td>\n",
              "      <td>0.0</td>\n",
              "      <td>0.0</td>\n",
              "      <td>0.036313</td>\n",
              "      <td>0.0</td>\n",
              "      <td>0.0</td>\n",
              "    </tr>\n",
              "    <tr>\n",
              "      <th>4</th>\n",
              "      <td>0.0</td>\n",
              "      <td>0.0</td>\n",
              "      <td>0.0</td>\n",
              "      <td>0.0</td>\n",
              "      <td>0.0</td>\n",
              "      <td>0.0</td>\n",
              "      <td>0.000000</td>\n",
              "      <td>0.0</td>\n",
              "      <td>0.000000</td>\n",
              "      <td>0.0</td>\n",
              "      <td>...</td>\n",
              "      <td>0.0</td>\n",
              "      <td>0.0</td>\n",
              "      <td>0.0</td>\n",
              "      <td>0.0</td>\n",
              "      <td>0.0</td>\n",
              "      <td>0.0</td>\n",
              "      <td>0.0</td>\n",
              "      <td>0.000000</td>\n",
              "      <td>0.0</td>\n",
              "      <td>0.0</td>\n",
              "    </tr>\n",
              "  </tbody>\n",
              "</table>\n",
              "<p>5 rows × 4786 columns</p>\n",
              "</div>\n",
              "    <div class=\"colab-df-buttons\">\n",
              "\n",
              "  <div class=\"colab-df-container\">\n",
              "    <button class=\"colab-df-convert\" onclick=\"convertToInteractive('df-4bc7865b-d400-4cb0-ab80-e1fb76cf454a')\"\n",
              "            title=\"Convert this dataframe to an interactive table.\"\n",
              "            style=\"display:none;\">\n",
              "\n",
              "  <svg xmlns=\"http://www.w3.org/2000/svg\" height=\"24px\" viewBox=\"0 -960 960 960\">\n",
              "    <path d=\"M120-120v-720h720v720H120Zm60-500h600v-160H180v160Zm220 220h160v-160H400v160Zm0 220h160v-160H400v160ZM180-400h160v-160H180v160Zm440 0h160v-160H620v160ZM180-180h160v-160H180v160Zm440 0h160v-160H620v160Z\"/>\n",
              "  </svg>\n",
              "    </button>\n",
              "\n",
              "  <style>\n",
              "    .colab-df-container {\n",
              "      display:flex;\n",
              "      gap: 12px;\n",
              "    }\n",
              "\n",
              "    .colab-df-convert {\n",
              "      background-color: #E8F0FE;\n",
              "      border: none;\n",
              "      border-radius: 50%;\n",
              "      cursor: pointer;\n",
              "      display: none;\n",
              "      fill: #1967D2;\n",
              "      height: 32px;\n",
              "      padding: 0 0 0 0;\n",
              "      width: 32px;\n",
              "    }\n",
              "\n",
              "    .colab-df-convert:hover {\n",
              "      background-color: #E2EBFA;\n",
              "      box-shadow: 0px 1px 2px rgba(60, 64, 67, 0.3), 0px 1px 3px 1px rgba(60, 64, 67, 0.15);\n",
              "      fill: #174EA6;\n",
              "    }\n",
              "\n",
              "    .colab-df-buttons div {\n",
              "      margin-bottom: 4px;\n",
              "    }\n",
              "\n",
              "    [theme=dark] .colab-df-convert {\n",
              "      background-color: #3B4455;\n",
              "      fill: #D2E3FC;\n",
              "    }\n",
              "\n",
              "    [theme=dark] .colab-df-convert:hover {\n",
              "      background-color: #434B5C;\n",
              "      box-shadow: 0px 1px 3px 1px rgba(0, 0, 0, 0.15);\n",
              "      filter: drop-shadow(0px 1px 2px rgba(0, 0, 0, 0.3));\n",
              "      fill: #FFFFFF;\n",
              "    }\n",
              "  </style>\n",
              "\n",
              "    <script>\n",
              "      const buttonEl =\n",
              "        document.querySelector('#df-4bc7865b-d400-4cb0-ab80-e1fb76cf454a button.colab-df-convert');\n",
              "      buttonEl.style.display =\n",
              "        google.colab.kernel.accessAllowed ? 'block' : 'none';\n",
              "\n",
              "      async function convertToInteractive(key) {\n",
              "        const element = document.querySelector('#df-4bc7865b-d400-4cb0-ab80-e1fb76cf454a');\n",
              "        const dataTable =\n",
              "          await google.colab.kernel.invokeFunction('convertToInteractive',\n",
              "                                                    [key], {});\n",
              "        if (!dataTable) return;\n",
              "\n",
              "        const docLinkHtml = 'Like what you see? Visit the ' +\n",
              "          '<a target=\"_blank\" href=https://colab.research.google.com/notebooks/data_table.ipynb>data table notebook</a>'\n",
              "          + ' to learn more about interactive tables.';\n",
              "        element.innerHTML = '';\n",
              "        dataTable['output_type'] = 'display_data';\n",
              "        await google.colab.output.renderOutput(dataTable, element);\n",
              "        const docLink = document.createElement('div');\n",
              "        docLink.innerHTML = docLinkHtml;\n",
              "        element.appendChild(docLink);\n",
              "      }\n",
              "    </script>\n",
              "  </div>\n",
              "\n",
              "\n",
              "    <div id=\"df-2cacb4ee-167e-4c47-b658-d5a08077ff3c\">\n",
              "      <button class=\"colab-df-quickchart\" onclick=\"quickchart('df-2cacb4ee-167e-4c47-b658-d5a08077ff3c')\"\n",
              "                title=\"Suggest charts\"\n",
              "                style=\"display:none;\">\n",
              "\n",
              "<svg xmlns=\"http://www.w3.org/2000/svg\" height=\"24px\"viewBox=\"0 0 24 24\"\n",
              "     width=\"24px\">\n",
              "    <g>\n",
              "        <path d=\"M19 3H5c-1.1 0-2 .9-2 2v14c0 1.1.9 2 2 2h14c1.1 0 2-.9 2-2V5c0-1.1-.9-2-2-2zM9 17H7v-7h2v7zm4 0h-2V7h2v10zm4 0h-2v-4h2v4z\"/>\n",
              "    </g>\n",
              "</svg>\n",
              "      </button>\n",
              "\n",
              "<style>\n",
              "  .colab-df-quickchart {\n",
              "      --bg-color: #E8F0FE;\n",
              "      --fill-color: #1967D2;\n",
              "      --hover-bg-color: #E2EBFA;\n",
              "      --hover-fill-color: #174EA6;\n",
              "      --disabled-fill-color: #AAA;\n",
              "      --disabled-bg-color: #DDD;\n",
              "  }\n",
              "\n",
              "  [theme=dark] .colab-df-quickchart {\n",
              "      --bg-color: #3B4455;\n",
              "      --fill-color: #D2E3FC;\n",
              "      --hover-bg-color: #434B5C;\n",
              "      --hover-fill-color: #FFFFFF;\n",
              "      --disabled-bg-color: #3B4455;\n",
              "      --disabled-fill-color: #666;\n",
              "  }\n",
              "\n",
              "  .colab-df-quickchart {\n",
              "    background-color: var(--bg-color);\n",
              "    border: none;\n",
              "    border-radius: 50%;\n",
              "    cursor: pointer;\n",
              "    display: none;\n",
              "    fill: var(--fill-color);\n",
              "    height: 32px;\n",
              "    padding: 0;\n",
              "    width: 32px;\n",
              "  }\n",
              "\n",
              "  .colab-df-quickchart:hover {\n",
              "    background-color: var(--hover-bg-color);\n",
              "    box-shadow: 0 1px 2px rgba(60, 64, 67, 0.3), 0 1px 3px 1px rgba(60, 64, 67, 0.15);\n",
              "    fill: var(--button-hover-fill-color);\n",
              "  }\n",
              "\n",
              "  .colab-df-quickchart-complete:disabled,\n",
              "  .colab-df-quickchart-complete:disabled:hover {\n",
              "    background-color: var(--disabled-bg-color);\n",
              "    fill: var(--disabled-fill-color);\n",
              "    box-shadow: none;\n",
              "  }\n",
              "\n",
              "  .colab-df-spinner {\n",
              "    border: 2px solid var(--fill-color);\n",
              "    border-color: transparent;\n",
              "    border-bottom-color: var(--fill-color);\n",
              "    animation:\n",
              "      spin 1s steps(1) infinite;\n",
              "  }\n",
              "\n",
              "  @keyframes spin {\n",
              "    0% {\n",
              "      border-color: transparent;\n",
              "      border-bottom-color: var(--fill-color);\n",
              "      border-left-color: var(--fill-color);\n",
              "    }\n",
              "    20% {\n",
              "      border-color: transparent;\n",
              "      border-left-color: var(--fill-color);\n",
              "      border-top-color: var(--fill-color);\n",
              "    }\n",
              "    30% {\n",
              "      border-color: transparent;\n",
              "      border-left-color: var(--fill-color);\n",
              "      border-top-color: var(--fill-color);\n",
              "      border-right-color: var(--fill-color);\n",
              "    }\n",
              "    40% {\n",
              "      border-color: transparent;\n",
              "      border-right-color: var(--fill-color);\n",
              "      border-top-color: var(--fill-color);\n",
              "    }\n",
              "    60% {\n",
              "      border-color: transparent;\n",
              "      border-right-color: var(--fill-color);\n",
              "    }\n",
              "    80% {\n",
              "      border-color: transparent;\n",
              "      border-right-color: var(--fill-color);\n",
              "      border-bottom-color: var(--fill-color);\n",
              "    }\n",
              "    90% {\n",
              "      border-color: transparent;\n",
              "      border-bottom-color: var(--fill-color);\n",
              "    }\n",
              "  }\n",
              "</style>\n",
              "\n",
              "      <script>\n",
              "        async function quickchart(key) {\n",
              "          const quickchartButtonEl =\n",
              "            document.querySelector('#' + key + ' button');\n",
              "          quickchartButtonEl.disabled = true;  // To prevent multiple clicks.\n",
              "          quickchartButtonEl.classList.add('colab-df-spinner');\n",
              "          try {\n",
              "            const charts = await google.colab.kernel.invokeFunction(\n",
              "                'suggestCharts', [key], {});\n",
              "          } catch (error) {\n",
              "            console.error('Error during call to suggestCharts:', error);\n",
              "          }\n",
              "          quickchartButtonEl.classList.remove('colab-df-spinner');\n",
              "          quickchartButtonEl.classList.add('colab-df-quickchart-complete');\n",
              "        }\n",
              "        (() => {\n",
              "          let quickchartButtonEl =\n",
              "            document.querySelector('#df-2cacb4ee-167e-4c47-b658-d5a08077ff3c button');\n",
              "          quickchartButtonEl.style.display =\n",
              "            google.colab.kernel.accessAllowed ? 'block' : 'none';\n",
              "        })();\n",
              "      </script>\n",
              "    </div>\n",
              "\n",
              "    </div>\n",
              "  </div>\n"
            ],
            "application/vnd.google.colaboratory.intrinsic+json": {
              "type": "dataframe",
              "variable_name": "tfidf_encoded_text_df"
            }
          },
          "metadata": {},
          "execution_count": 292
        }
      ]
    },
    {
      "cell_type": "markdown",
      "source": [
        "# 7. Data Preparation Summary\n",
        "\n",
        "## What We Accomplished\n",
        "\n",
        "### Data Selection\n",
        "- Selected relevant columns for multi-label text classification  \n",
        "\n",
        "### Quality Assessment\n",
        "- Identified and handled missing values, duplicates  \n",
        "\n",
        "### Text Preprocessing\n",
        "- Merged ruling titles and text for comprehensive content  \n",
        "- Implemented complete NLP pipeline:\n",
        "  - Lowercasing  \n",
        "  - Punctuation removal  \n",
        "  - Stopword removal  \n",
        "  - removal of digits\n",
        "  - Stemming  \n",
        "\n",
        "### Multi-label Preparation\n",
        "- Parsed category strings, standing Order into lists  \n",
        "- Applied multi-label binarization for target variables and standing orders  \n",
        "\n",
        "\n",
        "### Vectorization Preparation\n",
        "- Prepare the rulingText in two ways, using TF-IDF and BoW\n",
        "- Both datasets will be used to train the model and see on yeilds a greater accuracy   \n",
        "\n",
        "\n",
        "## Key Outputs\n",
        "- **Text Corpus**: Clean, processed text ready for TF-IDF vectorization  \n",
        "- **Multi-label Targets**:Multi hot encoding for all categories, standing Orders  \n",
        "- **One hot encoded feature**: One hot encoding for the context feature   \n",
        "- **Bag of Words matrix dataset**: dataset prepared using data BoW\n",
        "- **TF-IDF matrix dataset**:  dataset prepared using data Tf-idf   \n",
        "\n",
        "\n"
      ],
      "metadata": {
        "id": "_tlMo3pIvlfT"
      }
    },
    {
      "cell_type": "markdown",
      "source": [
        "#**Modeling**\n",
        "\n",
        "In this phase, we focus on building predictive models using the data representations prepared during the **Data Preparation** stage.  \n",
        "Since our problem is **multi-label text classification**, we will experiment with different feature extraction methods and classification algorithms, then evaluate their performance.\n",
        "\n",
        "### Feature Representations\n",
        "We prepared the textual data using two common encoding techniques:\n",
        "- **Bag of Words (BoW):** Represents text as word occurrence counts.\n",
        "- **TF-IDF (Term Frequency – Inverse Document Frequency)**\n",
        "\n",
        "### Modeling Algorithms\n",
        "To capture both linear and non-linear decision boundaries, we will train and evaluate two models:\n",
        "1. **Logistic Regression (One-vs-Rest):**  \n",
        "2. **Random Forest (One-vs-Rest):**  \n",
        "  \n",
        "\n",
        "### Objective\n",
        "For this project, we streamline the workflow by **training and evaluating models in the same step**.  \n",
        "Each model (Logistic Regression and Random Forest) is trained on both text representations, and its performance is assessed using standard multi-label metrics such as:\n",
        "\n",
        "- **Classification Report** (Precision, Recall, F1-score, Support)  \n",
        "- **Hamming Loss**  \n",
        "- **Jaccard Score (micro and macro)**  \n",
        "- **Confusion Matrices** for deeper error analysis  \n",
        "\n",
        "This approach allows us to directly compare model effectiveness across different data representations and identify the best-performing combination for our task.\n"
      ],
      "metadata": {
        "id": "GYRhfZJnZqw_"
      }
    },
    {
      "cell_type": "code",
      "source": [
        "#importing necessary dataset\n",
        "import numpy as np\n",
        "import seaborn as sns\n",
        "from sklearn.model_selection import train_test_split\n",
        "from sklearn.multiclass import OneVsRestClassifier\n",
        "from sklearn.linear_model import LogisticRegression\n",
        "from sklearn.ensemble import RandomForestClassifier\n",
        "from sklearn.metrics import classification_report, multilabel_confusion_matrix, hamming_loss, jaccard_score\n",
        "import matplotlib.pyplot as plt\n",
        "import seaborn as sns"
      ],
      "metadata": {
        "id": "lrq2oC6u75oR"
      },
      "execution_count": null,
      "outputs": []
    },
    {
      "cell_type": "markdown",
      "source": [
        "#Using BoW encoded dataset\n",
        "We assign the Bag-of-Words encoded features as `X` and the multi-label categories as `y` for modeling.\n"
      ],
      "metadata": {
        "id": "mqLCvADuD-Iv"
      }
    },
    {
      "cell_type": "code",
      "source": [
        "#Assing the independent featuer and the target lable\n",
        "X = bow_encoded_text_df  #this is the independedn features\n",
        "y = category_encoded_df  #this is the target label dataset"
      ],
      "metadata": {
        "id": "BKt6WgkcCLP5"
      },
      "execution_count": null,
      "outputs": []
    },
    {
      "cell_type": "markdown",
      "source": [
        "The dataset is split into training (70%) and testing (30%) sets to evaluate model performance on unseen data.\n"
      ],
      "metadata": {
        "id": "e0TqkxOjhtiq"
      }
    },
    {
      "cell_type": "code",
      "source": [
        "#Test/Train Split ]\n",
        "X_train,X_test,y_train,y_test=train_test_split(\n",
        "    X,y,test_size=0.3, random_state=42\n",
        ")"
      ],
      "metadata": {
        "id": "LhPPoI2rIT7W"
      },
      "execution_count": null,
      "outputs": []
    },
    {
      "cell_type": "markdown",
      "source": [
        "###Train a **One-vs-Rest Logistic Regression model** on BoW features to handle multi-label classification.\n"
      ],
      "metadata": {
        "id": "j9-fEI_rPyGf"
      }
    },
    {
      "cell_type": "code",
      "source": [
        "#train the Model\n",
        "#looking at the fact that our data is multi labled we will use One-vs-Rest Logistic Regression\n",
        "model = OneVsRestClassifier(LogisticRegression(max_iter=1000))\n",
        "model.fit(X_train , y_train)\n",
        "#predict the daa using the training X data\n",
        "y_pred =  model.predict(X_test)\n",
        "\n",
        "print(classification_report(y_test, y_pred, target_names=category_names ,     zero_division=0))\n",
        "print(\"Hamming Loss:\", hamming_loss(y_test, y_pred))\n",
        "print(\"Jaccard Score (micro):\", jaccard_score(y_test, y_pred, average=\"micro\"))\n",
        "print(\"Jaccard Score (macro):\", jaccard_score(y_test, y_pred, average=\"macro\"))"
      ],
      "metadata": {
        "colab": {
          "base_uri": "https://localhost:8080/"
        },
        "id": "kzS-KLa5JGV1",
        "outputId": "de6f2960-2e2e-4e6a-b26e-2169de30ee30",
        "collapsed": true
      },
      "execution_count": null,
      "outputs": [
        {
          "output_type": "stream",
          "name": "stdout",
          "text": [
            "                               precision    recall  f1-score   support\n",
            "\n",
            "      administrative decision       1.00      1.00      1.00        16\n",
            "constitutional interpretation       0.96      0.88      0.92        26\n",
            "            debate management       0.86      0.86      0.86         7\n",
            "          disciplinary action       0.92      0.46      0.61        24\n",
            "            procedural ruling       0.85      0.72      0.78        32\n",
            "\n",
            "                    micro avg       0.92      0.75      0.83       105\n",
            "                    macro avg       0.92      0.78      0.83       105\n",
            "                 weighted avg       0.92      0.75      0.81       105\n",
            "                  samples avg       0.89      0.81      0.83       105\n",
            "\n",
            "Hamming Loss: 0.08048780487804878\n",
            "Jaccard Score (micro): 0.7053571428571429\n",
            "Jaccard Score (macro): 0.7361481481481482\n"
          ]
        }
      ]
    },
    {
      "cell_type": "markdown",
      "source": [
        "###Logistic Regression is trained with balanced class weights to address label imbalance in the dataset.\n"
      ],
      "metadata": {
        "id": "hISuHhT5P5NN"
      }
    },
    {
      "cell_type": "code",
      "source": [
        "#train the Model\n",
        "#looking at the fact that our data is multi labled we will use One-vs-Rest Logistic Regression using class_weight='balanced'\n",
        "\n",
        "model = OneVsRestClassifier(LogisticRegression(max_iter=1000 ,class_weight='balanced'))\n",
        "model.fit(X_train , y_train)\n",
        "\n",
        "#predict the daa using the training X data\n",
        "y_pred =  model.predict(X_test)\n",
        "\n",
        "\n",
        "print(classification_report(y_test, y_pred, target_names=category_names ,     zero_division=0))\n",
        "print(\"Hamming Loss:\", hamming_loss(y_test, y_pred))\n",
        "print(\"Jaccard Score (micro):\", jaccard_score(y_test, y_pred, average=\"micro\"))\n",
        "print(\"Jaccard Score (macro):\", jaccard_score(y_test, y_pred, average=\"macro\"))\n",
        "\n",
        "\n"
      ],
      "metadata": {
        "colab": {
          "base_uri": "https://localhost:8080/"
        },
        "id": "wPS1FF0jOKcF",
        "outputId": "e6b9f787-c85b-4c68-cf77-25a7b4e06351"
      },
      "execution_count": null,
      "outputs": [
        {
          "output_type": "stream",
          "name": "stdout",
          "text": [
            "                               precision    recall  f1-score   support\n",
            "\n",
            "      administrative decision       1.00      1.00      1.00        16\n",
            "constitutional interpretation       0.92      0.88      0.90        26\n",
            "            debate management       0.75      0.86      0.80         7\n",
            "          disciplinary action       0.92      0.50      0.65        24\n",
            "            procedural ruling       0.85      0.72      0.78        32\n",
            "\n",
            "                    micro avg       0.90      0.76      0.82       105\n",
            "                    macro avg       0.89      0.79      0.83       105\n",
            "                 weighted avg       0.90      0.76      0.81       105\n",
            "                  samples avg       0.88      0.82      0.83       105\n",
            "\n",
            "Hamming Loss: 0.08292682926829269\n",
            "Jaccard Score (micro): 0.7017543859649122\n",
            "Jaccard Score (macro): 0.7213968253968254\n"
          ]
        }
      ]
    },
    {
      "cell_type": "markdown",
      "source": [
        "#Trying a different different Dataset RandomForestClassifier\n",
        "We now experiment with a tree-based ensemble model to capture non-linear patterns in the text data.\n"
      ],
      "metadata": {
        "id": "YVCvM5jvO7_X"
      }
    },
    {
      "cell_type": "markdown",
      "source": [
        "###A standard Random Forest classifier is trained with One-vs-Rest for multi-label prediction without weighting.\n"
      ],
      "metadata": {
        "id": "gaV5LL1eQo_m"
      }
    },
    {
      "cell_type": "code",
      "source": [
        "rf_model = OneVsRestClassifier(\n",
        "    RandomForestClassifier(\n",
        "        n_estimators=200,      # number of trees\n",
        "        max_depth=None,        # expand until pure or min_samples\n",
        "        random_state=42,\n",
        "        n_jobs=-1              # use all cores\n",
        "    )\n",
        ")\n",
        "\n",
        "rf_model.fit(X_train, y_train)\n",
        "y_pred = rf_model.predict(X_test)\n",
        "print(classification_report(y_test, y_pred, target_names=category_names ,     zero_division=0))\n",
        "print(\"Hamming Loss:\", hamming_loss(y_test, y_pred))\n",
        "print(\"Jaccard Score (micro):\", jaccard_score(y_test, y_pred, average=\"micro\"))\n",
        "print(\"Jaccard Score (macro):\", jaccard_score(y_test, y_pred, average=\"macro\"))\n",
        "\n"
      ],
      "metadata": {
        "colab": {
          "base_uri": "https://localhost:8080/"
        },
        "id": "VQcjOMsiPiQk",
        "outputId": "85bd451a-325a-4fb4-bca0-f4b80f8e6045"
      },
      "execution_count": null,
      "outputs": [
        {
          "output_type": "stream",
          "name": "stdout",
          "text": [
            "                               precision    recall  f1-score   support\n",
            "\n",
            "      administrative decision       1.00      0.56      0.72        16\n",
            "constitutional interpretation       1.00      0.62      0.76        26\n",
            "            debate management       1.00      0.29      0.44         7\n",
            "          disciplinary action       0.73      0.33      0.46        24\n",
            "            procedural ruling       0.81      0.91      0.85        32\n",
            "\n",
            "                    micro avg       0.86      0.61      0.72       105\n",
            "                    macro avg       0.91      0.54      0.65       105\n",
            "                 weighted avg       0.88      0.61      0.69       105\n",
            "                  samples avg       0.70      0.66      0.66       105\n",
            "\n",
            "Hamming Loss: 0.12439024390243902\n",
            "Jaccard Score (micro): 0.5565217391304348\n",
            "Jaccard Score (macro): 0.5006969881969882\n"
          ]
        }
      ]
    },
    {
      "cell_type": "markdown",
      "source": [
        "###Logistic Regression is trained with balanced class weights to address label imbalance in the dataset.\n"
      ],
      "metadata": {
        "id": "9_MzOaCrQuNV"
      }
    },
    {
      "cell_type": "code",
      "source": [
        "rf_model = OneVsRestClassifier(\n",
        "    RandomForestClassifier(\n",
        "        n_estimators=200,      # number of trees\n",
        "        max_depth=None,        # expand until pure or min_samples\n",
        "             class_weight=\"balanced\",\n",
        "        random_state=42,\n",
        "        n_jobs=-1              # use all cores\n",
        "    )\n",
        ")\n",
        "\n",
        "rf_model.fit(X_train, y_train)\n",
        "y_pred = rf_model.predict(X_test)\n",
        "print(classification_report(y_test, y_pred, target_names=category_names ,     zero_division=0))\n",
        "print(\"Hamming Loss:\", hamming_loss(y_test, y_pred))\n",
        "print(\"Jaccard Score (micro):\", jaccard_score(y_test, y_pred, average=\"micro\"))\n",
        "print(\"Jaccard Score (macro):\", jaccard_score(y_test, y_pred, average=\"macro\"))\n"
      ],
      "metadata": {
        "id": "7irzHy5kV5T2",
        "colab": {
          "base_uri": "https://localhost:8080/"
        },
        "outputId": "324f7ea0-75a2-4d62-91cb-38bd61842cfe"
      },
      "execution_count": null,
      "outputs": [
        {
          "output_type": "stream",
          "name": "stdout",
          "text": [
            "                               precision    recall  f1-score   support\n",
            "\n",
            "      administrative decision       1.00      0.69      0.81        16\n",
            "constitutional interpretation       1.00      0.73      0.84        26\n",
            "            debate management       1.00      0.29      0.44         7\n",
            "          disciplinary action       0.78      0.29      0.42        24\n",
            "            procedural ruling       0.83      0.91      0.87        32\n",
            "\n",
            "                    micro avg       0.89      0.65      0.75       105\n",
            "                    macro avg       0.92      0.58      0.68       105\n",
            "                 weighted avg       0.90      0.65      0.72       105\n",
            "                  samples avg       0.76      0.72      0.73       105\n",
            "\n",
            "Hamming Loss: 0.10975609756097561\n",
            "Jaccard Score (micro): 0.6017699115044248\n",
            "Jaccard Score (macro): 0.5472744360902255\n"
          ]
        }
      ]
    },
    {
      "cell_type": "markdown",
      "source": [
        "#Using TF-IDF encoded dataset\n",
        "We assign the TF-IDF encoded features as `X` and the multi-label categories as `y` for modeling.\n"
      ],
      "metadata": {
        "id": "I2Yq92TzWBsU"
      }
    },
    {
      "cell_type": "code",
      "source": [
        "#Assing the independent featuer and the target lable\n",
        "X = tfidf_encoded_text_df  #this is the independedn features\n",
        "y = category_encoded_df  #this is the target label dataset"
      ],
      "metadata": {
        "id": "ViDkHtE1V54o"
      },
      "execution_count": null,
      "outputs": []
    },
    {
      "cell_type": "markdown",
      "source": [
        "The dataset is split into training (70%) and testing (30%) sets to evaluate model performance on unseen data.\n"
      ],
      "metadata": {
        "id": "uAji98Cnnuuw"
      }
    },
    {
      "cell_type": "code",
      "source": [
        "#Test/Train Split ]\n",
        "X_train,X_test,y_train,y_test=train_test_split(\n",
        "    X,y,test_size=0.3, random_state=42\n",
        ")"
      ],
      "metadata": {
        "id": "T0ZBS2h8V54p"
      },
      "execution_count": null,
      "outputs": []
    },
    {
      "cell_type": "markdown",
      "source": [
        "###Using Logistic Regression"
      ],
      "metadata": {
        "id": "DIxW3lQEQ7SM"
      }
    },
    {
      "cell_type": "markdown",
      "source": [
        "Train the  One-vs-Rest Logistic Regression model on TF-IDF features to handle multi-label classification.\n"
      ],
      "metadata": {
        "id": "Xq_Uj0r4nxLS"
      }
    },
    {
      "cell_type": "code",
      "source": [],
      "metadata": {
        "id": "Af7EnJPtrmRk"
      },
      "execution_count": null,
      "outputs": []
    },
    {
      "cell_type": "code",
      "source": [
        "#train the Model\n",
        "#looking at the fact that our data is multi labled we will use One-vs-Rest Logistic Regression\n",
        "model = OneVsRestClassifier(LogisticRegression(max_iter=1000))\n",
        "model.fit(X_train , y_train)\n",
        "#predict the daa using the training X data\n",
        "y_pred =  model.predict(X_test)\n",
        "\n",
        "print(classification_report(y_test, y_pred, target_names=category_names ,     zero_division=0))\n",
        "print(\"Hamming Loss:\", hamming_loss(y_test, y_pred))\n",
        "print(\"Jaccard Score (micro):\", jaccard_score(y_test, y_pred, average=\"micro\"))\n",
        "print(\"Jaccard Score (macro):\", jaccard_score(y_test, y_pred, average=\"macro\"))"
      ],
      "metadata": {
        "colab": {
          "base_uri": "https://localhost:8080/"
        },
        "outputId": "677e92dd-1055-4319-eeb2-444394128f84",
        "collapsed": true,
        "id": "hUbOu5zzQ7SO"
      },
      "execution_count": null,
      "outputs": [
        {
          "output_type": "stream",
          "name": "stdout",
          "text": [
            "                               precision    recall  f1-score   support\n",
            "\n",
            "      administrative decision       1.00      0.25      0.40        16\n",
            "constitutional interpretation       1.00      0.42      0.59        26\n",
            "            debate management       0.00      0.00      0.00         7\n",
            "          disciplinary action       1.00      0.04      0.08        24\n",
            "            procedural ruling       0.80      0.75      0.77        32\n",
            "\n",
            "                    micro avg       0.87      0.38      0.53       105\n",
            "                    macro avg       0.76      0.29      0.37       105\n",
            "                 weighted avg       0.87      0.38      0.46       105\n",
            "                  samples avg       0.47      0.42      0.43       105\n",
            "\n",
            "Hamming Loss: 0.17317073170731706\n",
            "Jaccard Score (micro): 0.36036036036036034\n",
            "Jaccard Score (macro): 0.26926450742240216\n"
          ]
        }
      ]
    },
    {
      "cell_type": "markdown",
      "source": [
        "###Logistic Regression is trained with balanced class weights to address label imbalance in the TF-IDF data.\n"
      ],
      "metadata": {
        "id": "pndF_-HdQ7SP"
      }
    },
    {
      "cell_type": "code",
      "source": [
        "#train the Model\n",
        "#looking at the fact that our data is multi labled we will use One-vs-Rest Logistic Regression using class_weight='balanced'\n",
        "\n",
        "model = OneVsRestClassifier(LogisticRegression(max_iter=1000 ,class_weight='balanced'))\n",
        "model.fit(X_train , y_train)\n",
        "\n",
        "#predict the daa using the training X data\n",
        "y_pred =  model.predict(X_test)\n",
        "\n",
        "\n",
        "print(classification_report(y_test, y_pred, target_names=category_names ,     zero_division=0))\n",
        "print(\"Hamming Loss:\", hamming_loss(y_test, y_pred))\n",
        "print(\"Jaccard Score (micro):\", jaccard_score(y_test, y_pred, average=\"micro\"))\n",
        "print(\"Jaccard Score (macro):\", jaccard_score(y_test, y_pred, average=\"macro\"))\n",
        "\n",
        "\n"
      ],
      "metadata": {
        "colab": {
          "base_uri": "https://localhost:8080/"
        },
        "outputId": "03eb0f68-2c77-4450-ae8c-ee2ab7787646",
        "id": "UQKJvapkQ7SP"
      },
      "execution_count": null,
      "outputs": [
        {
          "output_type": "stream",
          "name": "stdout",
          "text": [
            "                               precision    recall  f1-score   support\n",
            "\n",
            "      administrative decision       0.76      1.00      0.86        16\n",
            "constitutional interpretation       0.80      0.92      0.86        26\n",
            "            debate management       0.88      1.00      0.93         7\n",
            "          disciplinary action       0.65      0.62      0.64        24\n",
            "            procedural ruling       0.81      0.78      0.79        32\n",
            "\n",
            "                    micro avg       0.77      0.83      0.80       105\n",
            "                    macro avg       0.78      0.87      0.82       105\n",
            "                 weighted avg       0.77      0.83      0.79       105\n",
            "                  samples avg       0.81      0.87      0.81       105\n",
            "\n",
            "Hamming Loss: 0.1073170731707317\n",
            "Jaccard Score (micro): 0.6641221374045801\n",
            "Jaccard Score (macro): 0.7027098997493735\n"
          ]
        }
      ]
    },
    {
      "cell_type": "markdown",
      "source": [
        "#Trying a different different Dataset RandomForestClassifier\n"
      ],
      "metadata": {
        "id": "woytpPZsQ7SQ"
      }
    },
    {
      "cell_type": "markdown",
      "source": [
        "We now experiment with a Random Forest model to capture non-linear relationships in TF-IDF features.\n"
      ],
      "metadata": {
        "id": "pfZLnOmCoaDB"
      }
    },
    {
      "cell_type": "markdown",
      "source": [
        "###A standard Random Forest classifier is trained with One-vs-Rest for multi-label prediction on TF-IDF features.\n"
      ],
      "metadata": {
        "id": "don6sUgOQ7SS"
      }
    },
    {
      "cell_type": "code",
      "source": [
        "rf_model = OneVsRestClassifier(\n",
        "    RandomForestClassifier(\n",
        "        n_estimators=200,      # number of trees\n",
        "        max_depth=None,        # expand until pure or min_samples\n",
        "        random_state=42,\n",
        "        n_jobs=-1              # use all cores\n",
        "    )\n",
        ")\n",
        "\n",
        "rf_model.fit(X_train, y_train)\n",
        "y_pred = rf_model.predict(X_test)\n",
        "print(classification_report(y_test, y_pred, target_names=category_names ,     zero_division=0))\n",
        "print(\"Hamming Loss:\", hamming_loss(y_test, y_pred))\n",
        "print(\"Jaccard Score (micro):\", jaccard_score(y_test, y_pred, average=\"micro\"))\n",
        "print(\"Jaccard Score (macro):\", jaccard_score(y_test, y_pred, average=\"macro\"))\n",
        "\n"
      ],
      "metadata": {
        "colab": {
          "base_uri": "https://localhost:8080/"
        },
        "outputId": "64c4b7c2-cd9a-4fda-edf8-2abd093bb3c6",
        "id": "0CIZzUDaQ7SS"
      },
      "execution_count": null,
      "outputs": [
        {
          "output_type": "stream",
          "name": "stdout",
          "text": [
            "                               precision    recall  f1-score   support\n",
            "\n",
            "      administrative decision       1.00      0.75      0.86        16\n",
            "constitutional interpretation       0.95      0.73      0.83        26\n",
            "            debate management       1.00      0.29      0.44         7\n",
            "          disciplinary action       1.00      0.21      0.34        24\n",
            "            procedural ruling       0.81      0.91      0.85        32\n",
            "\n",
            "                    micro avg       0.89      0.64      0.74       105\n",
            "                    macro avg       0.95      0.58      0.67       105\n",
            "                 weighted avg       0.93      0.64      0.70       105\n",
            "                  samples avg       0.77      0.71      0.73       105\n",
            "\n",
            "Hamming Loss: 0.11219512195121951\n",
            "Jaccard Score (micro): 0.5929203539823009\n",
            "Jaccard Score (macro): 0.5382682132682133\n"
          ]
        }
      ]
    },
    {
      "cell_type": "markdown",
      "source": [
        "###Random Forest is trained with balanced class weights to improve prediction on minority labels in TF-IDF data.\n",
        "\n",
        "\n"
      ],
      "metadata": {
        "id": "ojKswza7Q7ST"
      }
    },
    {
      "cell_type": "code",
      "source": [
        "rf_model = OneVsRestClassifier(\n",
        "    RandomForestClassifier(\n",
        "        n_estimators=200,      # number of trees\n",
        "        max_depth=None,        # expand until pure or min_samples\n",
        "             class_weight=\"balanced\",\n",
        "        random_state=42,\n",
        "        n_jobs=-1              # use all cores\n",
        "    )\n",
        ")\n",
        "\n",
        "rf_model.fit(X_train, y_train)\n",
        "y_pred = rf_model.predict(X_test)\n",
        "print(classification_report(y_test, y_pred, target_names=category_names ,     zero_division=0))\n",
        "print(\"Hamming Loss:\", hamming_loss(y_test, y_pred))\n",
        "print(\"Jaccard Score (micro):\", jaccard_score(y_test, y_pred, average=\"micro\"))\n",
        "print(\"Jaccard Score (macro):\", jaccard_score(y_test, y_pred, average=\"macro\"))\n"
      ],
      "metadata": {
        "id": "LcTwbAJgQ7SU",
        "colab": {
          "base_uri": "https://localhost:8080/"
        },
        "outputId": "a0969b7d-1fbc-46fe-bcfa-f3ffd3046874"
      },
      "execution_count": null,
      "outputs": [
        {
          "output_type": "stream",
          "name": "stdout",
          "text": [
            "                               precision    recall  f1-score   support\n",
            "\n",
            "      administrative decision       1.00      0.75      0.86        16\n",
            "constitutional interpretation       1.00      0.69      0.82        26\n",
            "            debate management       1.00      0.29      0.44         7\n",
            "          disciplinary action       1.00      0.38      0.55        24\n",
            "            procedural ruling       0.81      0.91      0.85        32\n",
            "\n",
            "                    micro avg       0.91      0.67      0.77       105\n",
            "                    macro avg       0.96      0.60      0.70       105\n",
            "                 weighted avg       0.94      0.67      0.75       105\n",
            "                  samples avg       0.79      0.73      0.75       105\n",
            "\n",
            "Hamming Loss: 0.1024390243902439\n",
            "Jaccard Score (micro): 0.625\n",
            "Jaccard Score (macro): 0.5693223443223443\n"
          ]
        }
      ]
    }
  ],
  "metadata": {
    "colab": {
      "provenance": [],
      "include_colab_link": true
    },
    "kernelspec": {
      "display_name": "Python 3",
      "name": "python3"
    },
    "language_info": {
      "name": "python"
    }
  },
  "nbformat": 4,
  "nbformat_minor": 0
}