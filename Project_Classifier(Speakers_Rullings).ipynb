{
  "nbformat": 4,
  "nbformat_minor": 0,
  "metadata": {
    "colab": {
      "provenance": [],
      "include_colab_link": true
    },
    "kernelspec": {
      "name": "python3",
      "display_name": "Python 3"
    },
    "language_info": {
      "name": "python"
    }
  },
  "cells": [
    {
      "cell_type": "markdown",
      "metadata": {
        "id": "view-in-github",
        "colab_type": "text"
      },
      "source": [
        "<a href=\"https://colab.research.google.com/github/WebsterDaka/lab2-html/blob/main/Project_Classifier(Speakers_Rullings).ipynb\" target=\"_parent\"><img src=\"https://colab.research.google.com/assets/colab-badge.svg\" alt=\"Open In Colab\"/></a>"
      ]
    },
    {
      "cell_type": "markdown",
      "source": [
        "# Parliamentary Speaker's Rulings Classification Project\n",
        "\n",
        "This project aims to develop an automated text classification system to categorize Speaker's Rulings from the National Assembly of Zambia into predefined categories, enhancing accessibility for legal, parliamentary, and public use.\n",
        "\n",
        "\n",
        "# **1. Business Understanding**\n",
        "---\n",
        "\n",
        "\n",
        "## Problem Statement\n",
        "The National Assembly of Zambia generates substantial volumes of parliamentary proceedings containing Speaker's Rulings on various procedural, disciplinary, and administrative matters. Currently, accessing and categorizing these rulings for legal research, parliamentary reference, and civic education requires extensive manual effort. Legal professionals, researchers, parliamentary staff, and citizens face significant challenges in efficiently locating relevant precedents and understanding patterns in parliamentary decision-making.\n",
        "### Core Problem:\n",
        "There is no automated system to classify and categorize Speaker's Rulings from Zambian parliamentary proceedings, making legal and legislative information retrieval inefficient and limiting effective civic education and parliamentary research.\n",
        "\n",
        "## 1. Business Objectives\n",
        "\n",
        "### Primary Objectives:\n",
        "1. To classify parliamentary rulings into a structured system that is simpler to analyze and\n",
        "evaluate  \n",
        "2. Organize speakers' rulings to improve accessibility and quick retrieval for legal\n",
        "professionals, researchers, and public understanding.\n",
        "\n",
        "### Success Criteria from Business Perspective:\n",
        "- Reduce time spent by legal professionals searching for relevant rulings by at least 60%\n",
        "- Enable non-experts to find and understand parliamentary rulings relevant to their interests\n",
        "- Provide parliamentary staff with consistent categorization for improved procedural reference\n",
        "- Support academic and policy research through structured access to historical ruling patterns\n",
        "\n",
        "---\n",
        "## 2. Data Mining Goals\n",
        "### Specific Technical Objectives\n",
        "1. **Build a Multi-class Classification Model:**  \n",
        "   Develop a machine learning system that automatically categorizes Speaker's Rulings into predefined categories such as:\n",
        "    - **Procedural Rulings** (e.g., points of order, procedural motions)\n",
        "    - **Disciplinary Actions** (e.g., member conduct, sanctions)\n",
        "    - **Administrative Decisions** (e.g., scheduling, resource allocation)\n",
        "    - **Constitutional Interpretations** (e.g., constitutional questions, legal precedents)\n",
        "    - **Debate Management** (e.g., time allocation, speaking order)\n",
        "\n",
        "2. **Implement Natural Language Processing (NLP):**  \n",
        "   Apply text mining techniques to extract meaningful features from parliamentary text documents, enabling accurate classification.\n",
        "\n",
        "3. Create automated pipeline for new ruling classification.\n",
        "\n",
        "**Technical Success Metrics**\n",
        "* Accuracy: Achieve at least 80% overall classification accuracy across all ruling categories\n",
        "* Precision: Maintain precision above 75% for each individual category to ensure reliable\n",
        "categorization\n",
        "* F1-Score: Target F1-score above 77% for balanced precision-recall performance\n",
        "---\n",
        "## 3. Project Success Criteria\n",
        "### Quantitative Criteria\n",
        "1. **Model Performance:** Overall classification accuracy ≥ 80%\n",
        "2. **Processing Speed:** System should classify new documents within 5 seconds\n",
        "\n",
        "### Business Impact Measures:\n",
        "- Reduction in manual categorization time\n",
        "- Increased usage of parliamentary information by researchers and citizens\n",
        "- Improved consistency in referencing past rulings by parliamentary staff\n",
        "- Enhanced accessibility of legal and legislative information for civic education\n",
        "\n",
        "---\n",
        "## 4. Project Scope\n",
        "### in Scope:\n",
        "- Speaker's Rulings from National Assembly of Zambia proceedings\n",
        "- Text-based classification using parliamentary Hansards and official records\n",
        "- English language processing\n",
        "### Out of Scope:\n",
        "- Rulings from other parliamentary bodies or courts\n",
        "- Non-English parliamentary proceedings\n",
        "- Real-time audio/video processing of parliamentary sessions\n",
        "- Legal advice or interpretation of ruling implications\n",
        "### Constraints:\n",
        "- Data availability limited to publicly accessible parliamentary records\n",
        "- Solution must be cost-effective for potential implementation by parliamentary services\n",
        "- Timeline constraints require deliverable completion by August 29, 2025\n",
        "\n"
      ],
      "metadata": {
        "id": "aQWoB_1o1qJ-"
      }
    },
    {
      "cell_type": "markdown",
      "source": [],
      "metadata": {
        "id": "P89pCxaFabvh"
      }
    },
    {
      "cell_type": "markdown",
      "source": [
        "#**2. Data Understanding**\n",
        "\n",
        "This notebook performs the **Data Understanding** phase for our data mining project using Google Colab.\n",
        "\n",
        "We work with the **Speaker’s Rulings** dataset and perfom Explorative data analysis (EDA) on the data to gain an understanding on the data\n",
        "\n",
        "## **Goals**\n",
        "- Explore structure (shape, columns, types) and preview records.\n",
        "- Profile data types, basic statistics, and distributions.\n",
        "- Assess data quality (missing values, duplicates, inconsistencies).\n",
        "- Summarize early insights and risks that will guide later preparation and modeling.\n",
        "\n"
      ],
      "metadata": {
        "id": "AbAXldJCKK3g"
      }
    },
    {
      "cell_type": "markdown",
      "source": [
        "###**Data sources**\n",
        "The main source of data for this project is [**The National Assembly Website**](https://www.parliament.gov.zm/publications/rulings)\n",
        "\n",
        "The Data is publicly available and we perfomed initial data collection by scraping the website using python scripts\n",
        "\n",
        "The Data is in form of article with a title and abstract text,\n",
        "We extracted **Title**, **text**, **context** , and **standing orders**\n",
        "\n",
        "Then we labled each rulling text into a **category** which is our target column\n",
        "\n",
        "\n"
      ],
      "metadata": {
        "id": "VYP7lMulkr9c"
      }
    },
    {
      "cell_type": "markdown",
      "source": [
        "###**Mount Drive for persistence of the Dataset**\n",
        "This allows to access the files directly and save work permanently.\n",
        "\n",
        "Run the code cell below. It will prompt you to authorize access to your Google Drive. Follow the on-screen instructions."
      ],
      "metadata": {
        "id": "-S2JE5mRKSJY"
      }
    },
    {
      "cell_type": "code",
      "source": [
        "from google.colab import drive\n",
        "drive.mount('/content/drive')"
      ],
      "metadata": {
        "id": "7Cm8-VRlKUSI",
        "colab": {
          "base_uri": "https://localhost:8080/"
        },
        "outputId": "bb77477d-7955-4a38-8a86-380c837874c3"
      },
      "execution_count": null,
      "outputs": [
        {
          "output_type": "stream",
          "name": "stdout",
          "text": [
            "Mounted at /content/drive\n"
          ]
        }
      ]
    },
    {
      "cell_type": "markdown",
      "source": [],
      "metadata": {
        "id": "VnOy0twlnjLk"
      }
    },
    {
      "cell_type": "markdown",
      "source": [
        "Once mounted, you can see your entire Google Drive by navigating through the \"Files\" pane on the left. It will appear under the drive/MyDrive/ directory.\n",
        "\n",
        "\n",
        "### **IMPORTANT NOTE**\n",
        "For this project, you should create a folder in your Google Drive (e.g., `rullings_classifier_data`) and upload the  datasets into it:\n",
        ">* `speaker_ruling_classification.csv`\n",
        "\n",
        "\n",
        " In this examples below, the file path used points to my own folder structure, for instance:\n",
        " >* `/content/drive/MyDrive/rulings_classifier_data`\n",
        "\n",
        " **You MUST replace this path with the correct path to the files in YOUR own Google Drive.** You can find the correct path by navigating to the file in the \"Files\" pane, right-clicking it, and selecting \"Copy path\"."
      ],
      "metadata": {
        "id": "7W38l9JJKTr4"
      }
    },
    {
      "cell_type": "markdown",
      "source": [
        "###**Environtment Setup and Data Loading**\n",
        "\n",
        "1. Importing the required python libraries\n",
        "  - **pandas** for handling and exploring data\n",
        "  - **pyplot** from matplotlib for plotting\n",
        "2. Load the Speaker's Rulling dataset into a pandas DataFrame using `pd.read_csv()`"
      ],
      "metadata": {
        "id": "U7oRTpGPKcAB"
      }
    },
    {
      "cell_type": "code",
      "source": [
        "# import required libraries\n",
        "import pandas as pd\n",
        "import matplotlib.pyplot as plt\n",
        "\n",
        "\n",
        "#Load dataset into a DataFrame\n",
        "file_path = \"/content/drive/MyDrive/rulings_classifier_data/speaker_ruling_classification.csv\"\n",
        "ruling_df = pd.read_csv(file_path)\n",
        "\n"
      ],
      "metadata": {
        "id": "Z8fQDD0yKZAw"
      },
      "execution_count": null,
      "outputs": []
    },
    {
      "cell_type": "markdown",
      "source": [
        "###**Basic Structure Analysis**   \n",
        "\n",
        "In this step, we examine the **basic structure** of the dataset to understand its size and scope.\n",
        "\n",
        "- **Dataset shape**: Number of rows and columns\n",
        "- **Total data points**: Rows * Columns.  \n",
        "\n",
        "This helps us estimate data volume and complexity before diving deeper.\n"
      ],
      "metadata": {
        "id": "naIwdV7MM9Cl"
      }
    },
    {
      "cell_type": "code",
      "source": [
        "#Datashape\n",
        "print(\"Dataset shape:\", ruling_df.shape)\n",
        "\n",
        "#Number of row (rulings)\n",
        "print(\"Number of rows(rulings):\", ruling_df.shape[0])\n",
        "\n",
        "#Number of columns (features)\n",
        "print(\"Number of columns(features):\", ruling_df.shape[1])\n",
        "\n",
        "#Total data points\n",
        "print(\"Total data points:\", ruling_df.shape[0] * ruling_df.shape[1])\n"
      ],
      "metadata": {
        "id": "-Pz-o-XDNeGb",
        "colab": {
          "base_uri": "https://localhost:8080/"
        },
        "outputId": "ed18b838-ba17-451a-cc12-1b46ee322312"
      },
      "execution_count": null,
      "outputs": [
        {
          "output_type": "stream",
          "name": "stdout",
          "text": [
            "Dataset shape: (143, 5)\n",
            "Number of rows(rulings): 143\n",
            "Number of columns(features): 5\n",
            "Total data points: 715\n"
          ]
        }
      ]
    },
    {
      "cell_type": "markdown",
      "source": [
        "### **Column Structure Examination**\n",
        "\n",
        "To better understand the dataset, we analyze its **columns and data types**:\n",
        "\n",
        "- **`df.info()` summary** showing:  \n",
        "   - Column names  \n",
        "   - Number of non-null entries per column  \n",
        "   - Data types of each column  \n",
        "   - Memory usage  \n",
        "\n"
      ],
      "metadata": {
        "id": "vXfAC1JqOKqi"
      }
    },
    {
      "cell_type": "code",
      "source": [
        "#showing list of columns\n",
        "print(\"List of columns:\")\n",
        "for i , col in enumerate(ruling_df.columns,start=1):\n",
        "  print(f\"{i}.{col}\")\n",
        "print(\"\\n\")\n",
        "\n",
        "\n",
        "\n",
        "# showing a concise data summary including datatypes\n",
        "print(\"Summary of dataset:\")\n",
        "ruling_df.info()"
      ],
      "metadata": {
        "id": "lJZv92-5OM2k",
        "colab": {
          "base_uri": "https://localhost:8080/"
        },
        "outputId": "df0ce21f-b656-430e-8922-39a769884775"
      },
      "execution_count": null,
      "outputs": [
        {
          "output_type": "stream",
          "name": "stdout",
          "text": [
            "List of columns:\n",
            "1.rulingTitle\n",
            "2.rulingText\n",
            "3.context\n",
            "4.categories\n",
            "5.standingOrder\n",
            "\n",
            "\n",
            "Summary of dataset:\n",
            "<class 'pandas.core.frame.DataFrame'>\n",
            "RangeIndex: 143 entries, 0 to 142\n",
            "Data columns (total 5 columns):\n",
            " #   Column         Non-Null Count  Dtype \n",
            "---  ------         --------------  ----- \n",
            " 0   rulingTitle    143 non-null    object\n",
            " 1   rulingText     142 non-null    object\n",
            " 2   context        143 non-null    object\n",
            " 3   categories     135 non-null    object\n",
            " 4   standingOrder  121 non-null    object\n",
            "dtypes: object(5)\n",
            "memory usage: 5.7+ KB\n"
          ]
        }
      ]
    },
    {
      "cell_type": "markdown",
      "source": [
        "###**Initial Data Preview**\n",
        "\n",
        "A preview the dataset to gain a general sense of its content:\n",
        "\n",
        "- Use **`df.head()`** to view the first records.  \n",
        "- Use **`df.tail()`** to view the last records."
      ],
      "metadata": {
        "id": "YK_5NSY8Ota2"
      }
    },
    {
      "cell_type": "code",
      "source": [
        "#first 5 fow of the datase\n",
        "ruling_df.head().T\n"
      ],
      "metadata": {
        "id": "sKqfp7qRPL2l",
        "colab": {
          "base_uri": "https://localhost:8080/",
          "height": 293
        },
        "outputId": "5e4240c5-587e-4fb8-998d-3b333f8f1229"
      },
      "execution_count": null,
      "outputs": [
        {
          "output_type": "execute_result",
          "data": {
            "text/plain": [
              "                                                               0  \\\n",
              "rulingTitle    RULING BY THE HONOURABLE MADAM SPEAKER ON A PO...   \n",
              "rulingText     Honourable Members will recall that on Tuesday...   \n",
              "context                                           point of order   \n",
              "categories              disciplinary actions, procedural rulings   \n",
              "standingOrder                                                139   \n",
              "\n",
              "                                                               1  \\\n",
              "rulingTitle    Ruling by Hon Madam Speaker - On a Point of Or...   \n",
              "rulingText     Hon Members will recall that on Tuesday, 15th ...   \n",
              "context                                           point of order   \n",
              "categories              disciplinary actions, procedural rulings   \n",
              "standingOrder                                           223, 243   \n",
              "\n",
              "                                                               2  \\\n",
              "rulingTitle    RULING BY THE HONOURABLE MADAM SPEAKER ON A PO...   \n",
              "rulingText     Honourable Members, the House will recall that...   \n",
              "context                                           point of order   \n",
              "categories     constitutional interpretations, procedural rul...   \n",
              "standingOrder                                                139   \n",
              "\n",
              "                                                               3  \\\n",
              "rulingTitle    RULING BY THE HON MADAM FIRST DEPUTY SPEAKER O...   \n",
              "rulingText     Honourable Members, the House will recall that...   \n",
              "context                                           point of order   \n",
              "categories                                    procedural rulings   \n",
              "standingOrder                                           215, 213   \n",
              "\n",
              "                                                               4  \n",
              "rulingTitle    RULING BY THE HONOURABLE MADAM FIRST DEPUTY SP...  \n",
              "rulingText     Honourable Members, the House will recall that...  \n",
              "context                                           point of order  \n",
              "categories              disciplinary actions, procedural rulings  \n",
              "standingOrder                                           223, 140  "
            ],
            "text/html": [
              "\n",
              "  <div id=\"df-c607178c-cf80-42c9-9a20-2e0cfa8c3ba0\" class=\"colab-df-container\">\n",
              "    <div>\n",
              "<style scoped>\n",
              "    .dataframe tbody tr th:only-of-type {\n",
              "        vertical-align: middle;\n",
              "    }\n",
              "\n",
              "    .dataframe tbody tr th {\n",
              "        vertical-align: top;\n",
              "    }\n",
              "\n",
              "    .dataframe thead th {\n",
              "        text-align: right;\n",
              "    }\n",
              "</style>\n",
              "<table border=\"1\" class=\"dataframe\">\n",
              "  <thead>\n",
              "    <tr style=\"text-align: right;\">\n",
              "      <th></th>\n",
              "      <th>0</th>\n",
              "      <th>1</th>\n",
              "      <th>2</th>\n",
              "      <th>3</th>\n",
              "      <th>4</th>\n",
              "    </tr>\n",
              "  </thead>\n",
              "  <tbody>\n",
              "    <tr>\n",
              "      <th>rulingTitle</th>\n",
              "      <td>RULING BY THE HONOURABLE MADAM SPEAKER ON A PO...</td>\n",
              "      <td>Ruling by Hon Madam Speaker - On a Point of Or...</td>\n",
              "      <td>RULING BY THE HONOURABLE MADAM SPEAKER ON A PO...</td>\n",
              "      <td>RULING BY THE HON MADAM FIRST DEPUTY SPEAKER O...</td>\n",
              "      <td>RULING BY THE HONOURABLE MADAM FIRST DEPUTY SP...</td>\n",
              "    </tr>\n",
              "    <tr>\n",
              "      <th>rulingText</th>\n",
              "      <td>Honourable Members will recall that on Tuesday...</td>\n",
              "      <td>Hon Members will recall that on Tuesday, 15th ...</td>\n",
              "      <td>Honourable Members, the House will recall that...</td>\n",
              "      <td>Honourable Members, the House will recall that...</td>\n",
              "      <td>Honourable Members, the House will recall that...</td>\n",
              "    </tr>\n",
              "    <tr>\n",
              "      <th>context</th>\n",
              "      <td>point of order</td>\n",
              "      <td>point of order</td>\n",
              "      <td>point of order</td>\n",
              "      <td>point of order</td>\n",
              "      <td>point of order</td>\n",
              "    </tr>\n",
              "    <tr>\n",
              "      <th>categories</th>\n",
              "      <td>disciplinary actions, procedural rulings</td>\n",
              "      <td>disciplinary actions, procedural rulings</td>\n",
              "      <td>constitutional interpretations, procedural rul...</td>\n",
              "      <td>procedural rulings</td>\n",
              "      <td>disciplinary actions, procedural rulings</td>\n",
              "    </tr>\n",
              "    <tr>\n",
              "      <th>standingOrder</th>\n",
              "      <td>139</td>\n",
              "      <td>223, 243</td>\n",
              "      <td>139</td>\n",
              "      <td>215, 213</td>\n",
              "      <td>223, 140</td>\n",
              "    </tr>\n",
              "  </tbody>\n",
              "</table>\n",
              "</div>\n",
              "    <div class=\"colab-df-buttons\">\n",
              "\n",
              "  <div class=\"colab-df-container\">\n",
              "    <button class=\"colab-df-convert\" onclick=\"convertToInteractive('df-c607178c-cf80-42c9-9a20-2e0cfa8c3ba0')\"\n",
              "            title=\"Convert this dataframe to an interactive table.\"\n",
              "            style=\"display:none;\">\n",
              "\n",
              "  <svg xmlns=\"http://www.w3.org/2000/svg\" height=\"24px\" viewBox=\"0 -960 960 960\">\n",
              "    <path d=\"M120-120v-720h720v720H120Zm60-500h600v-160H180v160Zm220 220h160v-160H400v160Zm0 220h160v-160H400v160ZM180-400h160v-160H180v160Zm440 0h160v-160H620v160ZM180-180h160v-160H180v160Zm440 0h160v-160H620v160Z\"/>\n",
              "  </svg>\n",
              "    </button>\n",
              "\n",
              "  <style>\n",
              "    .colab-df-container {\n",
              "      display:flex;\n",
              "      gap: 12px;\n",
              "    }\n",
              "\n",
              "    .colab-df-convert {\n",
              "      background-color: #E8F0FE;\n",
              "      border: none;\n",
              "      border-radius: 50%;\n",
              "      cursor: pointer;\n",
              "      display: none;\n",
              "      fill: #1967D2;\n",
              "      height: 32px;\n",
              "      padding: 0 0 0 0;\n",
              "      width: 32px;\n",
              "    }\n",
              "\n",
              "    .colab-df-convert:hover {\n",
              "      background-color: #E2EBFA;\n",
              "      box-shadow: 0px 1px 2px rgba(60, 64, 67, 0.3), 0px 1px 3px 1px rgba(60, 64, 67, 0.15);\n",
              "      fill: #174EA6;\n",
              "    }\n",
              "\n",
              "    .colab-df-buttons div {\n",
              "      margin-bottom: 4px;\n",
              "    }\n",
              "\n",
              "    [theme=dark] .colab-df-convert {\n",
              "      background-color: #3B4455;\n",
              "      fill: #D2E3FC;\n",
              "    }\n",
              "\n",
              "    [theme=dark] .colab-df-convert:hover {\n",
              "      background-color: #434B5C;\n",
              "      box-shadow: 0px 1px 3px 1px rgba(0, 0, 0, 0.15);\n",
              "      filter: drop-shadow(0px 1px 2px rgba(0, 0, 0, 0.3));\n",
              "      fill: #FFFFFF;\n",
              "    }\n",
              "  </style>\n",
              "\n",
              "    <script>\n",
              "      const buttonEl =\n",
              "        document.querySelector('#df-c607178c-cf80-42c9-9a20-2e0cfa8c3ba0 button.colab-df-convert');\n",
              "      buttonEl.style.display =\n",
              "        google.colab.kernel.accessAllowed ? 'block' : 'none';\n",
              "\n",
              "      async function convertToInteractive(key) {\n",
              "        const element = document.querySelector('#df-c607178c-cf80-42c9-9a20-2e0cfa8c3ba0');\n",
              "        const dataTable =\n",
              "          await google.colab.kernel.invokeFunction('convertToInteractive',\n",
              "                                                    [key], {});\n",
              "        if (!dataTable) return;\n",
              "\n",
              "        const docLinkHtml = 'Like what you see? Visit the ' +\n",
              "          '<a target=\"_blank\" href=https://colab.research.google.com/notebooks/data_table.ipynb>data table notebook</a>'\n",
              "          + ' to learn more about interactive tables.';\n",
              "        element.innerHTML = '';\n",
              "        dataTable['output_type'] = 'display_data';\n",
              "        await google.colab.output.renderOutput(dataTable, element);\n",
              "        const docLink = document.createElement('div');\n",
              "        docLink.innerHTML = docLinkHtml;\n",
              "        element.appendChild(docLink);\n",
              "      }\n",
              "    </script>\n",
              "  </div>\n",
              "\n",
              "\n",
              "    <div id=\"df-0a3ed424-7b79-4e6a-86b7-a4887ec69548\">\n",
              "      <button class=\"colab-df-quickchart\" onclick=\"quickchart('df-0a3ed424-7b79-4e6a-86b7-a4887ec69548')\"\n",
              "                title=\"Suggest charts\"\n",
              "                style=\"display:none;\">\n",
              "\n",
              "<svg xmlns=\"http://www.w3.org/2000/svg\" height=\"24px\"viewBox=\"0 0 24 24\"\n",
              "     width=\"24px\">\n",
              "    <g>\n",
              "        <path d=\"M19 3H5c-1.1 0-2 .9-2 2v14c0 1.1.9 2 2 2h14c1.1 0 2-.9 2-2V5c0-1.1-.9-2-2-2zM9 17H7v-7h2v7zm4 0h-2V7h2v10zm4 0h-2v-4h2v4z\"/>\n",
              "    </g>\n",
              "</svg>\n",
              "      </button>\n",
              "\n",
              "<style>\n",
              "  .colab-df-quickchart {\n",
              "      --bg-color: #E8F0FE;\n",
              "      --fill-color: #1967D2;\n",
              "      --hover-bg-color: #E2EBFA;\n",
              "      --hover-fill-color: #174EA6;\n",
              "      --disabled-fill-color: #AAA;\n",
              "      --disabled-bg-color: #DDD;\n",
              "  }\n",
              "\n",
              "  [theme=dark] .colab-df-quickchart {\n",
              "      --bg-color: #3B4455;\n",
              "      --fill-color: #D2E3FC;\n",
              "      --hover-bg-color: #434B5C;\n",
              "      --hover-fill-color: #FFFFFF;\n",
              "      --disabled-bg-color: #3B4455;\n",
              "      --disabled-fill-color: #666;\n",
              "  }\n",
              "\n",
              "  .colab-df-quickchart {\n",
              "    background-color: var(--bg-color);\n",
              "    border: none;\n",
              "    border-radius: 50%;\n",
              "    cursor: pointer;\n",
              "    display: none;\n",
              "    fill: var(--fill-color);\n",
              "    height: 32px;\n",
              "    padding: 0;\n",
              "    width: 32px;\n",
              "  }\n",
              "\n",
              "  .colab-df-quickchart:hover {\n",
              "    background-color: var(--hover-bg-color);\n",
              "    box-shadow: 0 1px 2px rgba(60, 64, 67, 0.3), 0 1px 3px 1px rgba(60, 64, 67, 0.15);\n",
              "    fill: var(--button-hover-fill-color);\n",
              "  }\n",
              "\n",
              "  .colab-df-quickchart-complete:disabled,\n",
              "  .colab-df-quickchart-complete:disabled:hover {\n",
              "    background-color: var(--disabled-bg-color);\n",
              "    fill: var(--disabled-fill-color);\n",
              "    box-shadow: none;\n",
              "  }\n",
              "\n",
              "  .colab-df-spinner {\n",
              "    border: 2px solid var(--fill-color);\n",
              "    border-color: transparent;\n",
              "    border-bottom-color: var(--fill-color);\n",
              "    animation:\n",
              "      spin 1s steps(1) infinite;\n",
              "  }\n",
              "\n",
              "  @keyframes spin {\n",
              "    0% {\n",
              "      border-color: transparent;\n",
              "      border-bottom-color: var(--fill-color);\n",
              "      border-left-color: var(--fill-color);\n",
              "    }\n",
              "    20% {\n",
              "      border-color: transparent;\n",
              "      border-left-color: var(--fill-color);\n",
              "      border-top-color: var(--fill-color);\n",
              "    }\n",
              "    30% {\n",
              "      border-color: transparent;\n",
              "      border-left-color: var(--fill-color);\n",
              "      border-top-color: var(--fill-color);\n",
              "      border-right-color: var(--fill-color);\n",
              "    }\n",
              "    40% {\n",
              "      border-color: transparent;\n",
              "      border-right-color: var(--fill-color);\n",
              "      border-top-color: var(--fill-color);\n",
              "    }\n",
              "    60% {\n",
              "      border-color: transparent;\n",
              "      border-right-color: var(--fill-color);\n",
              "    }\n",
              "    80% {\n",
              "      border-color: transparent;\n",
              "      border-right-color: var(--fill-color);\n",
              "      border-bottom-color: var(--fill-color);\n",
              "    }\n",
              "    90% {\n",
              "      border-color: transparent;\n",
              "      border-bottom-color: var(--fill-color);\n",
              "    }\n",
              "  }\n",
              "</style>\n",
              "\n",
              "      <script>\n",
              "        async function quickchart(key) {\n",
              "          const quickchartButtonEl =\n",
              "            document.querySelector('#' + key + ' button');\n",
              "          quickchartButtonEl.disabled = true;  // To prevent multiple clicks.\n",
              "          quickchartButtonEl.classList.add('colab-df-spinner');\n",
              "          try {\n",
              "            const charts = await google.colab.kernel.invokeFunction(\n",
              "                'suggestCharts', [key], {});\n",
              "          } catch (error) {\n",
              "            console.error('Error during call to suggestCharts:', error);\n",
              "          }\n",
              "          quickchartButtonEl.classList.remove('colab-df-spinner');\n",
              "          quickchartButtonEl.classList.add('colab-df-quickchart-complete');\n",
              "        }\n",
              "        (() => {\n",
              "          let quickchartButtonEl =\n",
              "            document.querySelector('#df-0a3ed424-7b79-4e6a-86b7-a4887ec69548 button');\n",
              "          quickchartButtonEl.style.display =\n",
              "            google.colab.kernel.accessAllowed ? 'block' : 'none';\n",
              "        })();\n",
              "      </script>\n",
              "    </div>\n",
              "\n",
              "    </div>\n",
              "  </div>\n"
            ],
            "application/vnd.google.colaboratory.intrinsic+json": {
              "type": "dataframe",
              "variable_name": "ruling_df",
              "summary": "{\n  \"name\": \"ruling_df\",\n  \"rows\": 143,\n  \"fields\": [\n    {\n      \"column\": \"rulingTitle\",\n      \"properties\": {\n        \"dtype\": \"string\",\n        \"num_unique_values\": 140,\n        \"samples\": [\n          \"Ruling by the Hon. Mr. Speaker on the Point of Order raised by G G Nkombo against the Minister of Finance on the Remarks made by the SG of UPND\",\n          \"RULING BY THE HON MADAM SPEAKER ON A POINT OF ORDER RAISED BY MR MUNIR ZULU, MEMBER OF PARLIAMENT FOR LUMEZI CONSTITUENCY AGAINST HON ELVIS NKANDU, MINISTER OF YOUTH, SPORT AND ARTS, FOR ALLEGEDLY REFERRING TO HIM AS \\u201cTHIS SMALL BOY\\u201d, WHEN THE HOUSE WAS DEBATING HEAD 36 \\u2013 ZAMBIA CORRECTIONAL SERVICE COMMISSION\",\n          \"RULING BY THE HON MADAM SPEAKER ON A POINT OF ORDER RAISED BY HON C MWEETWA, MP, MINISTER FOR SOUTHERN PROVINCE, AGAINST HON B M MUNDUBILE, LEADER OF THE OPPOSITION AND MEMBER OF PARLIAMENT FOR MPOROKOSO CONSTITUENCY, FOR ALLEGEDLY DISAGREEING WITH THE RULING BY THE HON MADAM FIRST DEPUTY SPEAKER BY CALLING IT NONSENSE\"\n        ],\n        \"semantic_type\": \"\",\n        \"description\": \"\"\n      }\n    },\n    {\n      \"column\": \"rulingText\",\n      \"properties\": {\n        \"dtype\": \"string\",\n        \"num_unique_values\": 136,\n        \"samples\": [\n          \"Hon Members will recall that on Thursday, 21st July 2022, when the House was considering the Ministerial Statement by Hon G G Nkombo, MP, Minister of Local Government and Rural Development and the Hon Minister had just concluded responding to question onpoints of clarification, Mr S Mushanga, Member of Parliament for Bwacha Constituency, raised a Point of Order.\\nIn his Point of Order, Mr S Mushanga, MP, asked whether Hon G G Nkombo, MP, was in Order to mislead the House and nation at large that Bwacha Constituency did not have any approved CDF projects, when the Permanent Secretary in charge of Technical Services in the Ministry of Local Government and Rural Development had issued a letter dated 1st June, 2022, indicating the approval of CDF for boarding secondary schoolsbursaries and skills development allocation for Bwacha Constituency. Hon Members, in his immediate response, the Hon Mr Second Deputy Speaker, reserved his ruling to study the matter. I have since studied the matter, and will now render my ruling.\\nHon Members, in order to address the Point of Order raised by Mr S Mushanga, MP, I had recourse to the verbatim record of the proceedings of Thursday, 21st July, 2022, pertaining to the Ministerial Statement on the Release and Utilisation of Constituency Development Fund. Mr S Mushanga, MP, on a point of clarification, asked the Hon Minister of Local Government and Rural Developmenton whetherthe Hon Minister would provide guidance on the possibility of allowing the respective CDF Committees, through the local authorities to procure vehicles for monitoring CDF projects and for policing purposes on behalf of the Ministry of Home Affairs and Internal Security.In response, Hon G G Nkombo, MP, stated that Bwacha Constituency did not have any approved CDF projects. It is as a result of this response that prompted Mr S Mushanga, MP, to raise a Point of Order.\\nHon Members, I further had recourse to the physical copy of the letter referred to by Mr S Mushanga, MP, in his Point of Order which he laid on the Table of the House. I noted that the letter was from the office of the Permanent Secretary in charge of Technical Services at the Ministry of Local Government and Rural Development and addressed to the Town Clerk for the Kabwe Municipal Council.\\nHon Members, the office of the Permanent Secretary is a public body established under Article 184(1) of the Constitution of Zambia Act, Chapter 1 of the Laws of Zambia.Therefore, the letter that Mr S Mushanga, MP, relied upon in his Point of Order is a public document.\\nHon Members, when a member of the House refers to any document, he or she is expected to lay it on the Table.To this effect, Standing Order 139 of the National Assembly of Zambia Standing Orders, 2021provides guidelines on the manner in which a backbencher may Table a public document in the House. Standing Order 139 states as follows:\\n\\u201c139 Tabling of Public Document by backbencher\\n(1) A backbencher may table a document provided it is an original document.\\n(2) A backbencher shall not table a copy of a public document unless the copy has been certified as a true copy of the original document by the relevant head of Government ministry, department or agency that has custody of the original document.\\u201d\\nHon Members, I had occasion to rule on a similar matter in thecase of Mr A C Mumba Member of Parliament for Kantanshi Parliamentary Constituency against Hon E C Nkandu, MP, Minister of Youth, Sport and Arts(Parliamentary Debates for Friday, 22nd October, 2021). In that case, Mr A C Mumba, MP asked whether the Hon Minister of Youth, Sport and Arts was in order to mislead the House that the National Internship and Apprenticeship Programme under his ministry would continue when the National Youth Development Council, which was responsible for the programme, had issued a letter indicating that the programme would end on 31st October, 2021. To this effect, Mr A C Mumba, MP, submitted to the Office of the Clerk an electronic copy of the letter referred to in his Point of Order. Mr Mumba, MP, did not Table the letter and neither was the letter authenticated by the author, as required by Standing Order 139. I, therefore, ruled the letter inadmissible, and consequently did not admit the Point of Order.\\nHon Members, back to the Point of Order in issue, Mr S Mushanga, MP, Tabled a letter purported to be from a public officer but the letter was not authenticated as required under Standing Order 139. Authentication of the letter is crucial to determining whether the Hon Minister of Local Government and Rural Development misinformed the House when he stated that Bwacha Constituency did not have any approved CDF projects.\\nTherefore, in line with Standing Order 139, the letter is inadmissible as it is not authenticated as required by our rules and, consequently, Mr Mushanga\\u2019s Point of Order is also inadmissible.\\nI Thank You.\",\n          \"I order you, Mr N Chilangwa, MP, to stand in your place.\\nHon Members, the House may wish to know that on 22nd June, 2023, the Chairperson of the Committee on Privileges and Absences received a letter from Hon S Mulusa, MP, Government Chief Whip, informing the Committee on Privileges and Absences of the continued absenteeism of Mr N Chilangwa, Member of Parliament for Kawambwa Constituency from sittings of the House. In the letter, Hon S Mulusa, MP, informed the Chairperson, that Mr N Chilangwa, MP, had been absent from the sittings of the House, without leave from either the Hon Madam Speaker or the office of the Government Chief Whip, from 6th June, 2023, when the House resumed its sittings. The complaint was premised on Standing Order No 210 (1) of the National Assembly of Zambia Standing Orders, 2021. In line with parliamentary practice and procedure, and in accordance with the rules of natural justice, on Thursday, 6th July, 2023, the office of the Clerk of the National Assembly wrote to Mr N Chilangwa, MP, requesting him to state his side of the story on the matter. However, from Tuesday, 6th June to Saturday 15th July, 2023, Mr N Chilangwa, MP\\u2019s, whereabouts were unknown. Therefore, the office of the Clerk was unable to effect personal service on him as required by the law. A copy of the letter was, however, also sent to him via email and the WhatsApp messaging service. On Friday, 21st July, 2023, the Office of the Clerk received a response from Mr N Chilangwa, MP, dated 14th July, 2023. In his response, Mr N Chilangwa, MP, attributed his absence to the need for him to fulfill certain obligations in his constituency where he was needed more. He explained that he was unreachable because the affected areas of his constituency lacked a mobile phone network. He added that he only became aware of the matter against him after some of his constituents located him. He apologised for his conduct and undertook to ensure that such an incident did not repeat itself. He concluded his letter by stating that he was prepared to face whatever disciplinary action that would be meted out to him, as soon as possible, so that he could continue working for his constituents. Hon Members, the complaint by Hon S Mulusa, MP, raises the issue of a Member being absent from the sittings of the House without permission from the Speaker or the Government Chief Whip. Standing Order 229 of the National Assembly of Zambia Standing Orders, 2021, provides that- \\u201c229. (1) A member seeking to be absent from a Sitting of the House shall seek the written permission of the Government Chief Whip or the Speaker in such form as the Speaker may determine, stating the period of absence, the reasons and any other relevant information. (2) The Government Chief Whip shall keep custody of requests for permission and may not disclose the information to third parties without the written consent of the Speaker.\\u201d\\nFurther, Standing Order 210 of the National Assembly of Zambia Standing Orders states as follows:\\n\\u201c210. (1) If, during a Session, a member is absent for four consecutive Sittings of the Assembly without permission, in writing, from the Government Chief Whip or the Speaker, the Government Chief Whip shall report the matter to the Committee on Privileges and Absences for hearing and determination. (2) If the committee finds that the member has offered a satisfactory explanation for the member's absence from Sittings of the Assembly, there shall be no further proceedings on the matter.\\n(3) If the committee finds that the member has not offered a satisfactory explanation for the member's absence from Sittings of the Assembly, the committee shall, through the Speaker, report to the House recommending appropriate action to be taken against the member.\\u201d\\nAdditionally, eminent authors on parliamentary practice and procedure, M N Kaul and S L Shakdher, in their book entitled Practice and Procedure of Parliament, Seventh Edition, (New Delhi, Lok Sabha, 2016) on page 425, have this to say:\\n\\u201cEach constituency expects that the member it elects will take his seat in the Lok Sabah and attend the sittings of the House, except when it is necessary for him to remain absent on account of unavoidable reasons. It is the right of the Lok Sabha to receive from him an account as to why he was absent. The duty of members to the House is paramount and they are expected to remain absent from the sittings thereof only when there are compelling reasons for doing so.\\u201d The erstwhile Speaker, Rt Hon Justice Patrick Matibini, SC, had occasion to rule on a similar matter in the case of Mr H Kalaba, former Member of Parliament for Bahati Constituency (Daily Parliamentary Debate of 10th July, 2018). In that matter, Mr H Kalaba, MP, was absent from the sittings of the House for eighteen (18) sitting days without permission. On 19th March, 2018, Hon S Chungu, MP, Chief Whip, as he then was, wrote to Mr H Kalaba, MP, regarding his absence from the House. In response, Mr H Kalaba, MP, explained that his absence from the House was because he had lost eight (08) members of his constituency on Lake Bangweulu and had spent about fifteen (15) days in his constituency mourning with the deceased\\u2019s families. He added that he had notified Mr J Chabi, Member of Parliament for Chipili Constituency, of the situation and had requested him to convey the reasons for his absence from the House to the Chief Whip. Regrettably that information did not reach the Chief Whip. He, further, stated that his absence from the House was neither deliberate nor intended to undermine the Office of the Chief Whip or the decorum and etiquette of the House. The matter was referred to the Committee on Privileges, Absences and Support Services, as it then was, for determination. The Committee, upon deliberation of the matter, found that Mr H Kalaba\\u2019s conduct of being absent from eighteen (18) sittings of the House, without prior permission of either the Hon Mr Speaker or Chief Whip, was a breach of parliamentary privilege.\\nIn deciding which punishment to mete out to Mr H Kalaba, the Committee noted that Standing Order 151 (3), at the time, only provided two options; reprimand or suspension. The Committee also considered the fact that Mr H Kalaba, MP, had readily admitted that he had breached the rules of the House and, therefore, did not waste its time. Additionally, he had shown remorse for his misconduct. The committee further considered its decision in the Miles Sampa case, whose facts were similar to Mr H Kalaba\\u2019s case. In view of those considerations, the committee exercised leniency and resolved that Mr H Kalaba, MP, be reprimanded.\\nHon Members, in this matter, the Committee on Privileges and Absences met to consider the matter on Tuesday, 10th October, 2023. Both the complainant and the respondent appeared before the Committee and stated their side of the story. Hon S Mulusa, MP, informed the Committee that Mr N Chilangwa, MP\\u2019s absence from the sittings of the House, without the permission from either the Hon Madam Speaker or the Government Chief Whip, prompted him to report the matter to the Committee as required by standing order 210. In response, Mr N Chilangwa, MP, admitted to having been absent from the sittings of the National Assembly without permission from either the Hon Madam Speaker or the Government Chief Whip for a period of seven (7) days. He submitted that at the time of the complaint, he was in his constituency attending to urgent matters and some other personal issues. He added that these factors had made it impossible for him to attend sittings of the House and that his absence was due to circumstances beyond his control. Finally, Mr N Chilangwa, MP, apologised for his actions and implored the Committee to exercise leniency when determining his matter. Hon Members, in considering this matter, the Committee had regard to the letter of complaint, Mr N Chilangwa, MP\\u2019s response and the oral submissions by both parties. The Committee found that Mr N Chilangwa, MP, had been absent from sittings of the House for a total of twenty-three (23) sitting days. He was, therefore, found guilty of breaching standing orders 210 and 229 of the National Assembly of Zambia Standing Orders.\\nHon Members, the Committee deliberated on the appropriate punishment to mete out to Mr N Chilangwa, MP. In its deliberations, the Committee took into consideration the following issues: (1) he readily admitted that he had breached the rules of the House and therefore, had not wasted the Committee\\u2019s time; (2) he readily apologised for his conduct and was ready to be punished for it;\\n(3) he was remorseful both in his oral and written submissions; (4) there were extenuating circumstances that surrounded his absenteeism from the House;\\n(5) the matter was in the public domain and had attracted a lot of attention;\\n(6) a select committee had been appointed to scrutinise the matter and, therefore, it was in the interest of all parties that the matter be settled in a manner that would bring closure; and\\n(7) in the precedents relating to the absence of Mr H Kalaba and Mr M Sampa, MP, for eighteen (18) days and twenty-two (22) days, respectively, the two Members of Parliament were reprimanded because, at that time, there were only two punishment options available; that was, reprimand and suspension. In contrast, in the present matter, the Committee had more punishment options available to it. Additionally, the circumstances surrounding the member\\u2019s absence were beyond his control and warranted the leniency of the Committee. The matter was, therefore, distinguishable from the Kalaba and Sampa cases.\\nHon Members, after due consideration of the above factors, the Committee exercised leniency and resolved to recommend that Mr N Chilangwa, MP, be admonished. I fully endorse the Committee\\u2019s recommendation.\\nTherefore, in line with the recommendation of the Committee on Privileges and Absences, I now turn to address you, Mr N Chilangwa, MP. Mr N Chilangwa, MP, in order for you to effectively and efficiently perform your role as a Member of Parliament, you are required to be in the House at all times, except when permission is sought for you to be absent. According to the Members\\u2019 attendance record for the last Meeting of the House, you were absent from the House for twenty-three sitting days. As a long-standing Member of this House, you should know that absenteeism of a Member from the House, for such a prolonged period without permission of the Speaker or Government Chief Whip reflects adversely on the dignity and integrity of the House. Mr N Chilangwa, MP, your absence for such a long period was a serious error of judgment on your part and amounted to an abandonment of your duties not only to this House, but also to the people of Kawambwa Constituency whom you represent and to the nation at large. I, therefore, urge you to, in future, desist from such conduct. I trust that, in future, you will endeavor to abide by the rules of this House and avoid the consequences of their breach. A repetition of such conduct will attract a stiffer penalty. I now order you, Mr N Chilangwa, MP, to read your apology and, thereafter resume your seat.\\nI thank you.\\n_______________________\\nRuling Date: Friday, November 3, 2023\",\n          \"Hon Members will recall that on Wednesday, 7th June, 2023, when the House was considering Matters of Urgent Public Importance, Mr Munir Zulu, Member of Parliament for Lumezi Constituency, raised a matter of urgent public importance on the practice by the Zambia Police Service of waiting for Members of Parliament outside parliament grounds and arresting them without issuing call-outs, which, he referred to as abduction. He mentioned Mr C Shakafuswa, Member of Parliament for Mandevu Constituency, Mr R K Kalimi, Member of Parliament for Malole Constituency and himself as some members who had been abducted in such a manner. He, therefore, sought clarity on the matter.\\n\\nIn my immediate response, I requested Hon J J Mwiimbu, MP, Minister of Home Affairs and Internal Security to provide a response to the issues raised by Mr Munir Zulu, MP. In response, Hon J J Mwiimbu, MP, stated that Members of Parliament did not have immunity on criminal matters. He further stated that there was no Member of Parliament who had been abducted and that every arrest of a Member of Parliament had been based on allegations against such Member. \\n\\nHon Members, after a protracted debate on the matter, I reserved my ruling to enable me provide guidance to the House on the arrest of Members of Parliament on or off the precincts of the National Assembly. \\n\\nHon Members, I now proceed to render my guidance.\\n\\nHon Members, the National Assembly (Powers and Privileges) Act, Cap. 12 of the Laws of Zambia, among other things, grants Members of Parliament various immunities. These include the freedom from arrest, which is provided under section 5. Section 5 states as follows:\\n\\n\\u201c5. For the duration of a meeting members shall enjoy freedom from arrest for any civil debt except a debt the contraction of which constitutes a criminal offence.\\u201d\\n\\nFrom the foregoing authority, the following is clear: \\nMembers are only exempt from arrest for a civil debt and not a debt whose contraction constitutes a criminal offence;\\nThis exemption is only available when the House is in session; and\\nMembers are not exempt from arrest for a criminal offence.\\n\\nHon Members, having established that Members have no immunity from arrest for criminal offences, allow me to draw your attention to section 5A of the National Assembly (Powers and Privileges) Act, which provides that- \\n\\u201cWhere a member is arrested for a criminal offence, the arresting officer shall inform the Speaker of the arrest within forty-eight hours of the arrest.\\u201d\\n\\nFrom the foregoing authorities, it is evident that Members of Parliament can be arrested for a criminal offence while parliament is in session either off or on the precincts of the Assembly. However, once a Member of Parliament has been arrested, the arresting officer must notify me of the arrest within 48 hours.\\n\\nHon Members, the manner and form of arrest by police officers is laid out in the Criminal Procedure Code, Chapter 88 of the Laws of Zambia, whose interpretation is the preserve of the courts. I, therefore, cannot delve into whether the arrests complained of by Mr Munir Zulu, MP, were carried out in compliance with the law. \\n\\nI thank you.\\n_____________________\\n\\nRuling Date: \\nWednesday, June 21, 2023\"\n        ],\n        \"semantic_type\": \"\",\n        \"description\": \"\"\n      }\n    },\n    {\n      \"column\": \"context\",\n      \"properties\": {\n        \"dtype\": \"category\",\n        \"num_unique_values\": 4,\n        \"samples\": [\n          \"complaint\",\n          \"matter of urgent public importance\",\n          \"point of order\"\n        ],\n        \"semantic_type\": \"\",\n        \"description\": \"\"\n      }\n    },\n    {\n      \"column\": \"categories\",\n      \"properties\": {\n        \"dtype\": \"category\",\n        \"num_unique_values\": 10,\n        \"samples\": [\n          \"constitutional interpretations, disciplinary actions\",\n          \"constitutional interpretations, procedural rulings\",\n          \"debate management, procedural rulings\"\n        ],\n        \"semantic_type\": \"\",\n        \"description\": \"\"\n      }\n    },\n    {\n      \"column\": \"standingOrder\",\n      \"properties\": {\n        \"dtype\": \"category\",\n        \"num_unique_values\": 65,\n        \"samples\": [\n          \"4\",\n          \"27\",\n          \"139\"\n        ],\n        \"semantic_type\": \"\",\n        \"description\": \"\"\n      }\n    }\n  ]\n}"
            }
          },
          "metadata": {},
          "execution_count": 9
        }
      ]
    },
    {
      "cell_type": "code",
      "source": [
        "#last 5 rows of the dataset\n",
        "ruling_df.tail(5).T"
      ],
      "metadata": {
        "id": "-2KdN_WAPRRI",
        "colab": {
          "base_uri": "https://localhost:8080/",
          "height": 275
        },
        "outputId": "1b130884-ea25-46de-840b-3d7e586b7422"
      },
      "execution_count": null,
      "outputs": [
        {
          "output_type": "execute_result",
          "data": {
            "text/plain": [
              "                                                             138  \\\n",
              "rulingTitle    RULING BY THE HON MR SPEAKER ON A POINT OF ORD...   \n",
              "rulingText     Hon Members will recall that on Tuesday, 27th ...   \n",
              "context                                           point of order   \n",
              "categories                 debate management, procedural rulings   \n",
              "standingOrder                                                NaN   \n",
              "\n",
              "                                                             139  \\\n",
              "rulingTitle    RULING BY THE HON MR SPEAKER ON A POINT OF ORD...   \n",
              "rulingText     Hon Members will recall that on Tuesday, 27th ...   \n",
              "context                                           point of order   \n",
              "categories              disciplinary actions, procedural rulings   \n",
              "standingOrder                                                 25   \n",
              "\n",
              "                                                             140  \\\n",
              "rulingTitle    RULING BY THE HON MR SPEAKER ON A POINT OF ORD...   \n",
              "rulingText     Hon Members will recall that on Tuesday, 20th ...   \n",
              "context                                           point of order   \n",
              "categories              disciplinary actions, procedural rulings   \n",
              "standingOrder                                                NaN   \n",
              "\n",
              "                                                             141  \\\n",
              "rulingTitle    RULING BY THE HON MR SPEAKER ON THE POINT OF O...   \n",
              "rulingText     Hon Members will recall that on Tuesday, 3rd O...   \n",
              "context                                           point of order   \n",
              "categories                 debate management, procedural rulings   \n",
              "standingOrder                                                165   \n",
              "\n",
              "                                                             142  \n",
              "rulingTitle    RULING BY THE HON MR SPEAKER ON A POINT OF ORD...  \n",
              "rulingText     Hon Members will recall that on Tuesday, 20th ...  \n",
              "context                                           point of order  \n",
              "categories                 debate management, procedural rulings  \n",
              "standingOrder                                                165  "
            ],
            "text/html": [
              "\n",
              "  <div id=\"df-ac18f309-aad1-45d7-bbb7-bbdec407ed17\" class=\"colab-df-container\">\n",
              "    <div>\n",
              "<style scoped>\n",
              "    .dataframe tbody tr th:only-of-type {\n",
              "        vertical-align: middle;\n",
              "    }\n",
              "\n",
              "    .dataframe tbody tr th {\n",
              "        vertical-align: top;\n",
              "    }\n",
              "\n",
              "    .dataframe thead th {\n",
              "        text-align: right;\n",
              "    }\n",
              "</style>\n",
              "<table border=\"1\" class=\"dataframe\">\n",
              "  <thead>\n",
              "    <tr style=\"text-align: right;\">\n",
              "      <th></th>\n",
              "      <th>138</th>\n",
              "      <th>139</th>\n",
              "      <th>140</th>\n",
              "      <th>141</th>\n",
              "      <th>142</th>\n",
              "    </tr>\n",
              "  </thead>\n",
              "  <tbody>\n",
              "    <tr>\n",
              "      <th>rulingTitle</th>\n",
              "      <td>RULING BY THE HON MR SPEAKER ON A POINT OF ORD...</td>\n",
              "      <td>RULING BY THE HON MR SPEAKER ON A POINT OF ORD...</td>\n",
              "      <td>RULING BY THE HON MR SPEAKER ON A POINT OF ORD...</td>\n",
              "      <td>RULING BY THE HON MR SPEAKER ON THE POINT OF O...</td>\n",
              "      <td>RULING BY THE HON MR SPEAKER ON A POINT OF ORD...</td>\n",
              "    </tr>\n",
              "    <tr>\n",
              "      <th>rulingText</th>\n",
              "      <td>Hon Members will recall that on Tuesday, 27th ...</td>\n",
              "      <td>Hon Members will recall that on Tuesday, 27th ...</td>\n",
              "      <td>Hon Members will recall that on Tuesday, 20th ...</td>\n",
              "      <td>Hon Members will recall that on Tuesday, 3rd O...</td>\n",
              "      <td>Hon Members will recall that on Tuesday, 20th ...</td>\n",
              "    </tr>\n",
              "    <tr>\n",
              "      <th>context</th>\n",
              "      <td>point of order</td>\n",
              "      <td>point of order</td>\n",
              "      <td>point of order</td>\n",
              "      <td>point of order</td>\n",
              "      <td>point of order</td>\n",
              "    </tr>\n",
              "    <tr>\n",
              "      <th>categories</th>\n",
              "      <td>debate management, procedural rulings</td>\n",
              "      <td>disciplinary actions, procedural rulings</td>\n",
              "      <td>disciplinary actions, procedural rulings</td>\n",
              "      <td>debate management, procedural rulings</td>\n",
              "      <td>debate management, procedural rulings</td>\n",
              "    </tr>\n",
              "    <tr>\n",
              "      <th>standingOrder</th>\n",
              "      <td>NaN</td>\n",
              "      <td>25</td>\n",
              "      <td>NaN</td>\n",
              "      <td>165</td>\n",
              "      <td>165</td>\n",
              "    </tr>\n",
              "  </tbody>\n",
              "</table>\n",
              "</div>\n",
              "    <div class=\"colab-df-buttons\">\n",
              "\n",
              "  <div class=\"colab-df-container\">\n",
              "    <button class=\"colab-df-convert\" onclick=\"convertToInteractive('df-ac18f309-aad1-45d7-bbb7-bbdec407ed17')\"\n",
              "            title=\"Convert this dataframe to an interactive table.\"\n",
              "            style=\"display:none;\">\n",
              "\n",
              "  <svg xmlns=\"http://www.w3.org/2000/svg\" height=\"24px\" viewBox=\"0 -960 960 960\">\n",
              "    <path d=\"M120-120v-720h720v720H120Zm60-500h600v-160H180v160Zm220 220h160v-160H400v160Zm0 220h160v-160H400v160ZM180-400h160v-160H180v160Zm440 0h160v-160H620v160ZM180-180h160v-160H180v160Zm440 0h160v-160H620v160Z\"/>\n",
              "  </svg>\n",
              "    </button>\n",
              "\n",
              "  <style>\n",
              "    .colab-df-container {\n",
              "      display:flex;\n",
              "      gap: 12px;\n",
              "    }\n",
              "\n",
              "    .colab-df-convert {\n",
              "      background-color: #E8F0FE;\n",
              "      border: none;\n",
              "      border-radius: 50%;\n",
              "      cursor: pointer;\n",
              "      display: none;\n",
              "      fill: #1967D2;\n",
              "      height: 32px;\n",
              "      padding: 0 0 0 0;\n",
              "      width: 32px;\n",
              "    }\n",
              "\n",
              "    .colab-df-convert:hover {\n",
              "      background-color: #E2EBFA;\n",
              "      box-shadow: 0px 1px 2px rgba(60, 64, 67, 0.3), 0px 1px 3px 1px rgba(60, 64, 67, 0.15);\n",
              "      fill: #174EA6;\n",
              "    }\n",
              "\n",
              "    .colab-df-buttons div {\n",
              "      margin-bottom: 4px;\n",
              "    }\n",
              "\n",
              "    [theme=dark] .colab-df-convert {\n",
              "      background-color: #3B4455;\n",
              "      fill: #D2E3FC;\n",
              "    }\n",
              "\n",
              "    [theme=dark] .colab-df-convert:hover {\n",
              "      background-color: #434B5C;\n",
              "      box-shadow: 0px 1px 3px 1px rgba(0, 0, 0, 0.15);\n",
              "      filter: drop-shadow(0px 1px 2px rgba(0, 0, 0, 0.3));\n",
              "      fill: #FFFFFF;\n",
              "    }\n",
              "  </style>\n",
              "\n",
              "    <script>\n",
              "      const buttonEl =\n",
              "        document.querySelector('#df-ac18f309-aad1-45d7-bbb7-bbdec407ed17 button.colab-df-convert');\n",
              "      buttonEl.style.display =\n",
              "        google.colab.kernel.accessAllowed ? 'block' : 'none';\n",
              "\n",
              "      async function convertToInteractive(key) {\n",
              "        const element = document.querySelector('#df-ac18f309-aad1-45d7-bbb7-bbdec407ed17');\n",
              "        const dataTable =\n",
              "          await google.colab.kernel.invokeFunction('convertToInteractive',\n",
              "                                                    [key], {});\n",
              "        if (!dataTable) return;\n",
              "\n",
              "        const docLinkHtml = 'Like what you see? Visit the ' +\n",
              "          '<a target=\"_blank\" href=https://colab.research.google.com/notebooks/data_table.ipynb>data table notebook</a>'\n",
              "          + ' to learn more about interactive tables.';\n",
              "        element.innerHTML = '';\n",
              "        dataTable['output_type'] = 'display_data';\n",
              "        await google.colab.output.renderOutput(dataTable, element);\n",
              "        const docLink = document.createElement('div');\n",
              "        docLink.innerHTML = docLinkHtml;\n",
              "        element.appendChild(docLink);\n",
              "      }\n",
              "    </script>\n",
              "  </div>\n",
              "\n",
              "\n",
              "    <div id=\"df-fd50f44b-a2b6-41f0-8231-9698208a6208\">\n",
              "      <button class=\"colab-df-quickchart\" onclick=\"quickchart('df-fd50f44b-a2b6-41f0-8231-9698208a6208')\"\n",
              "                title=\"Suggest charts\"\n",
              "                style=\"display:none;\">\n",
              "\n",
              "<svg xmlns=\"http://www.w3.org/2000/svg\" height=\"24px\"viewBox=\"0 0 24 24\"\n",
              "     width=\"24px\">\n",
              "    <g>\n",
              "        <path d=\"M19 3H5c-1.1 0-2 .9-2 2v14c0 1.1.9 2 2 2h14c1.1 0 2-.9 2-2V5c0-1.1-.9-2-2-2zM9 17H7v-7h2v7zm4 0h-2V7h2v10zm4 0h-2v-4h2v4z\"/>\n",
              "    </g>\n",
              "</svg>\n",
              "      </button>\n",
              "\n",
              "<style>\n",
              "  .colab-df-quickchart {\n",
              "      --bg-color: #E8F0FE;\n",
              "      --fill-color: #1967D2;\n",
              "      --hover-bg-color: #E2EBFA;\n",
              "      --hover-fill-color: #174EA6;\n",
              "      --disabled-fill-color: #AAA;\n",
              "      --disabled-bg-color: #DDD;\n",
              "  }\n",
              "\n",
              "  [theme=dark] .colab-df-quickchart {\n",
              "      --bg-color: #3B4455;\n",
              "      --fill-color: #D2E3FC;\n",
              "      --hover-bg-color: #434B5C;\n",
              "      --hover-fill-color: #FFFFFF;\n",
              "      --disabled-bg-color: #3B4455;\n",
              "      --disabled-fill-color: #666;\n",
              "  }\n",
              "\n",
              "  .colab-df-quickchart {\n",
              "    background-color: var(--bg-color);\n",
              "    border: none;\n",
              "    border-radius: 50%;\n",
              "    cursor: pointer;\n",
              "    display: none;\n",
              "    fill: var(--fill-color);\n",
              "    height: 32px;\n",
              "    padding: 0;\n",
              "    width: 32px;\n",
              "  }\n",
              "\n",
              "  .colab-df-quickchart:hover {\n",
              "    background-color: var(--hover-bg-color);\n",
              "    box-shadow: 0 1px 2px rgba(60, 64, 67, 0.3), 0 1px 3px 1px rgba(60, 64, 67, 0.15);\n",
              "    fill: var(--button-hover-fill-color);\n",
              "  }\n",
              "\n",
              "  .colab-df-quickchart-complete:disabled,\n",
              "  .colab-df-quickchart-complete:disabled:hover {\n",
              "    background-color: var(--disabled-bg-color);\n",
              "    fill: var(--disabled-fill-color);\n",
              "    box-shadow: none;\n",
              "  }\n",
              "\n",
              "  .colab-df-spinner {\n",
              "    border: 2px solid var(--fill-color);\n",
              "    border-color: transparent;\n",
              "    border-bottom-color: var(--fill-color);\n",
              "    animation:\n",
              "      spin 1s steps(1) infinite;\n",
              "  }\n",
              "\n",
              "  @keyframes spin {\n",
              "    0% {\n",
              "      border-color: transparent;\n",
              "      border-bottom-color: var(--fill-color);\n",
              "      border-left-color: var(--fill-color);\n",
              "    }\n",
              "    20% {\n",
              "      border-color: transparent;\n",
              "      border-left-color: var(--fill-color);\n",
              "      border-top-color: var(--fill-color);\n",
              "    }\n",
              "    30% {\n",
              "      border-color: transparent;\n",
              "      border-left-color: var(--fill-color);\n",
              "      border-top-color: var(--fill-color);\n",
              "      border-right-color: var(--fill-color);\n",
              "    }\n",
              "    40% {\n",
              "      border-color: transparent;\n",
              "      border-right-color: var(--fill-color);\n",
              "      border-top-color: var(--fill-color);\n",
              "    }\n",
              "    60% {\n",
              "      border-color: transparent;\n",
              "      border-right-color: var(--fill-color);\n",
              "    }\n",
              "    80% {\n",
              "      border-color: transparent;\n",
              "      border-right-color: var(--fill-color);\n",
              "      border-bottom-color: var(--fill-color);\n",
              "    }\n",
              "    90% {\n",
              "      border-color: transparent;\n",
              "      border-bottom-color: var(--fill-color);\n",
              "    }\n",
              "  }\n",
              "</style>\n",
              "\n",
              "      <script>\n",
              "        async function quickchart(key) {\n",
              "          const quickchartButtonEl =\n",
              "            document.querySelector('#' + key + ' button');\n",
              "          quickchartButtonEl.disabled = true;  // To prevent multiple clicks.\n",
              "          quickchartButtonEl.classList.add('colab-df-spinner');\n",
              "          try {\n",
              "            const charts = await google.colab.kernel.invokeFunction(\n",
              "                'suggestCharts', [key], {});\n",
              "          } catch (error) {\n",
              "            console.error('Error during call to suggestCharts:', error);\n",
              "          }\n",
              "          quickchartButtonEl.classList.remove('colab-df-spinner');\n",
              "          quickchartButtonEl.classList.add('colab-df-quickchart-complete');\n",
              "        }\n",
              "        (() => {\n",
              "          let quickchartButtonEl =\n",
              "            document.querySelector('#df-fd50f44b-a2b6-41f0-8231-9698208a6208 button');\n",
              "          quickchartButtonEl.style.display =\n",
              "            google.colab.kernel.accessAllowed ? 'block' : 'none';\n",
              "        })();\n",
              "      </script>\n",
              "    </div>\n",
              "\n",
              "    </div>\n",
              "  </div>\n"
            ],
            "application/vnd.google.colaboratory.intrinsic+json": {
              "type": "dataframe",
              "summary": "{\n  \"name\": \"ruling_df\",\n  \"rows\": 5,\n  \"fields\": [\n    {\n      \"column\": 138,\n      \"properties\": {\n        \"dtype\": \"string\",\n        \"num_unique_values\": 4,\n        \"samples\": [\n          \"Hon Members will recall that on Tuesday, 27th February, 2018, when the House was considering Urgent Question for Oral Answer No. 176 and Mr G. K. Mwamba, Member of Parliament for Lubansenshi Parliamentary Constituency, was speaking, Mr M Mutelo, Member of Parliament for Mitete Parliamentary Constituency, raised a Point of Order. In the Point of Order, Mr M Mutelo, MP, asked whether the word \\u201cfake\\u201d used by the Hon Minister of General Education, in response to his question, was parliamentary.\\nIn my immediate response, I reserved my ruling. I have studied the matter and now render my ruling.\\nHon Members, the National Assembly of Zambia: Unparliamentary Language booklet contains a list of Unparliamentary words and, at page 1, defines unparliamentary language as follows:\\n\\u201cunparliamentary language may, therefore, be regarded as encompassing \\u201coffensive words\\u201d under the standing Orders, which also include words which, while not strictly excluded by the Standing Orders, are inappropriate for use in a Parliament.\\u201d\\nThe booklet, at page 1, further gives guidance on how a word, which is ordinarily unparliamentary may be parliamentary because of the context in which it is used. It states as follows:\\n\\u201cUnparliamentary language must be considered in context; words which may be regarded as objectionable under some circumstances may be acceptable under other conditions.\\u201d\\nHon Members, you may wish to note that the word \\u201cfake\\u201d has been listed on page 9 of the booklet as one of the unparliamentary words.\\nTherefore, in light of the authorities cited, the issue to determine is whether the context in which the Hon Minister of General Education used the word was acceptable.\\nAccordingly, Hon Members, my office conducted a review of the verbatim record of Tuesday, 27th February, 2018, in order to ascertain whether or not the Hon Minister of General Education did use the word \\u201cfake\\u201d and to determine the context in which it was used. An excerpt of the relevant debate is as follows:\\n\\u201cHon Minister: At a particular time, I will come and render a Ministerial Statement in detail to clarify that there is no child who would be required to go and repeat Grade 6. That is fake news.\\u201d\\nAs shown in the verbatim, Hon Members may wish to note that the Hon Minister used the word not as a single word, but in the phrase \\u201cfake news\\u201d.\\nHon Members, the online Cambridge Advanced Learners Dictionary defines \\u201cfake news\\u201d as follows:\\n\\u201cfalse stories that appear to be news, spread on the internet or using other media, usually created to influence political views or as a joke.\\u201d\\nThe Hon Minister of General Education used the phrase \\u201cfake news\\u201d in relation to the Hon Member for Mitete\\u2019s reference to a government policy in which pupils that failed Grade 10 would be sent back to Grade 6. The Hon Minister was, in this regard, saying that, the information which was circulating in the media was false and with the intent to discredit the Government. Clearly, the use of the term conforms to the definition in the Cambridge Advanced Learners dictionary that I cited. In this regard, the context in which the Hon Minister used the word \\u201cfake\\u201d was not unparliamentary, and he was, therefore, in order to use the word.\\nI thank you.\\nRuling Date: Thursday, March 15, 2018\\nParliamentary Period: Second Session of the Twelfth Assembly\",\n          \"debate management, procedural rulings\",\n          \"RULING BY THE HON MR SPEAKER ON A POINT OF ORDER RAISED BY MR M MUTELO, MEMBER OF PARLIAMENT FOR MITETE PARLIAMENTARY CONSTITUENCY AGAINST HON D MABUMBA MP, MINISTER OF GENERAL EDUCATION ON TUESDAY, 27TH FEBRUARY, 2018\"\n        ],\n        \"semantic_type\": \"\",\n        \"description\": \"\"\n      }\n    },\n    {\n      \"column\": 139,\n      \"properties\": {\n        \"dtype\": \"string\",\n        \"num_unique_values\": 5,\n        \"samples\": [\n          \"Hon Members will recall that on Tuesday, 27th February, 2018, when the House was considering Urgent Question for Oral Answer No. 176 and Mr G. K. Mwamba, Member of Parliament for Lubansenshi Parliamentary Constituency, was speaking, Mr M Mutelo, Member of Parliament for Mitete Parliamentary Constituency, raised a Point of Order. In the Point of Order, Mr M Mutelo, MP, asked whether the word \\u201cfake\\u201d used by the Hon Minister of General Education, in response to his question, was parliamentary.\\nIn my immediate response, I reserved my ruling. I have studied the matter and now render my ruling.\\nHon Members, the National Assembly of Zambia: Unparliamentary Language booklet contains a list of Unparliamentary words and, at page 1, defines unparliamentary language as follows:\\n\\u201cunparliamentary language may, therefore, be regarded as encompassing \\u201coffensive words\\u201d under the standing Orders, which also include words which, while not strictly excluded by the Standing Orders, are inappropriate for use in a Parliament.\\u201d\\nThe booklet, at page 1, further gives guidance on how a word, which is ordinarily unparliamentary may be parliamentary because of the context in which it is used. It states as follows:\\n\\u201cUnparliamentary language must be considered in context; words which may be regarded as objectionable under some circumstances may be acceptable under other conditions.\\u201d\\nHon Members, you may wish to note that the word \\u201cfake\\u201d has been listed on page 9 of the booklet as one of the unparliamentary words.\\nTherefore, in light of the authorities cited, the issue to determine is whether the context in which the Hon Minister of General Education used the word was acceptable.\\nAccordingly, Hon Members, my office conducted a review of the verbatim record of Tuesday, 27th February, 2018, in order to ascertain whether or not the Hon Minister of General Education did use the word \\u201cfake\\u201d and to determine the context in which it was used. An excerpt of the relevant debate is as follows:\\n\\u201cHon Minister: At a particular time, I will come and render a Ministerial Statement in detail to clarify that there is no child who would be required to go and repeat Grade 6. That is fake news.\\u201d\\nAs shown in the verbatim, Hon Members may wish to note that the Hon Minister used the word not as a single word, but in the phrase \\u201cfake news\\u201d.\\nHon Members, the online Cambridge Advanced Learners Dictionary defines \\u201cfake news\\u201d as follows:\\n\\u201cfalse stories that appear to be news, spread on the internet or using other media, usually created to influence political views or as a joke.\\u201d\\nThe Hon Minister of General Education used the phrase \\u201cfake news\\u201d in relation to the Hon Member for Mitete\\u2019s reference to a government policy in which pupils that failed Grade 10 would be sent back to Grade 6. The Hon Minister was, in this regard, saying that, the information which was circulating in the media was false and with the intent to discredit the Government. Clearly, the use of the term conforms to the definition in the Cambridge Advanced Learners dictionary that I cited. In this regard, the context in which the Hon Minister used the word \\u201cfake\\u201d was not unparliamentary, and he was, therefore, in order to use the word.\\nI thank you.\\nRuling Date: Thursday, March 15, 2018\\nParliamentary Period: Second Session of the Twelfth Assembly\",\n          \"25\",\n          \"point of order\"\n        ],\n        \"semantic_type\": \"\",\n        \"description\": \"\"\n      }\n    },\n    {\n      \"column\": 140,\n      \"properties\": {\n        \"dtype\": \"string\",\n        \"num_unique_values\": 4,\n        \"samples\": [\n          \"Hon Members will recall that on Tuesday, 20th February, 2018, when the House was considering Question for Oral Answer No. 105 on the Order Paper, and the Hon Member of Parliament for Bweengwa Parliamentary Constituency, Mr K S Michelo, MP, was on the floor, Mr G G Nkombo, Member of Parliament for Mazabuka Central Parliamentary Constituency raised a Point of Order.\\nIn the Point of Order, Mr Nkombo, MP, referred to an article published in the Zambia Daily Mail of Tuesday, 20th February, 2018 and a video clip of Dr J Chanda, MP, addressing the Patriotic Front Interactive Forum on the National Health Insurance Bill which was being considered by the Committee on Health, Community Development and Social Services. In addition, Mr Nkombo, MP, made reference to a letter from the Zambia Congress of Trade Unions (ZCTU) addressed to all Members of Parliament regarding the National Health Insurance Bill.\\nMr Nkombo, MP, specifically asked whether Dr Chanda, MP, who was a member of the Committee considering the Bill, was in order to campaign for the Bill when he knew very well that the proceedings of the Committee were supposed to be confidential until the Committee had tabled its report in the House.\\nHon Members, on the same day, my office received a letter of complaint from the Zambia Federation of Employers relating to the same matter. The Federation expressed shock that soon after it made its submission to the Committee considering the Bill, Dr Chanda, MP, went to the media to campaign for the Bill before its report was tabled in the House, and yet he was a member of the Committee considering the Bill.\\nIn my immediate response to the Point of Order, I reserved the ruling to enable me study the matter and render an informed ruling. I now wish to render the ruling.\\nHon Members, the Point of Order relates to a Member of Parliament publicly commenting on a matter under consideration by a Committee to which he or she is a member before the report of the Committee is tabled.\\nThe National Assembly (Powers and Privileges) Act, Chapter 12 of the Laws of Zambia prohibits Members of Parliament from disclosing information submitted to the Assembly before it has been laid on the table of the House.\\nIn this regard, section 25 (c) provides as follows:\\n\\u201c25 (c) Any person who publishes, save by general or special leave of the Assembly, any paper, report or other document prepared expressly for submission to the Assembly before the same has been laid on the Table of the Assembly shall be guilty of an offence.\\u201d\\nAlso, Chapter Ten of the National Assembly Members\\u2019 Handbook, 2006, at page 51 in paragraph \\u201co\\u201d provides:\\n\\u201cAll Committee reports are confidential until the Report is tabled.\\u201d\\nIn addition, M N Kaul and S L Shakdher, the learned authors of Practice and Procedure in Parliament, Seventh Edition, (New Delhi, Lok Sabha, 2016) state at page 308 as follows:\\n\\u201cIt is a breach of privilege and contempt of the House to publish any part of the proceedings or evidence given before, or any document presented to a Parliamentary Committee before such proceedings, or evidence or documents have been reported to the House.\\u201d\\nFurther, at page 309 of the same book, the Committee of Privileges of Lok Sabha is reported to have re-stated this position in the Indian case of Sundaraya, when it stated as follows:\\n\\u201cIt is in accordance with the law and practice of the privileges of Parliament that while a Committee of Parliament is holding its sittings from day to day, its proceedings should not be published nor any documents or papers which may have been presented to the Committee or the conclusions to which it may have arrived at referred to in the Press\\u2026\\nIt is highly desirable that no person, including a Member of Parliament or Press, should, without proper verification, make or publish a statement or comment about any matter which is under consideration or investigation by a Committee of Parliament.\\u201d All the foregoing authorities point to the fact that, prior to a report being tabled in the House, a Member cannot divulge information that he or she receives by virtue of being a member of the Committee or comment publicly on a matter before a Committee without obtaining permission from the House.\\nHon Members, it is common knowledge that the Constitution under Article 89, now requires the National Assembly to facilitate public involvement in the legislative process. It is also a well known fact that the National Assembly does this through referring Bills to Committees after the First Reading Stage, and inviting the public to submit on them. In addition, Bills are uploaded on the National Assembly website. More importantly, the proceedings of Committees considering Bills are broadcast on both Parliament Radio and Parliament TV. All these measures ensure the public is kept informed on Bills before the House.\\nHon Members, I am aware that as the people\\u2019s representatives, Members of Parliament have a role to sensitise their constituents and the public at large on the contents and ramifications of Bills that come before the House. However, the timing at which this is done is key. This is particularly so for members sitting on the Committee considering the Bill.\\nAs you are well aware, before a Bill is brought to the House, it is published in the Government Gazette. That makes it a public document and members can, at that time, freely sensitise the public on its content. However, once a Bill has been referred to a Committee in which you are a member, you cannot, without leave of the House, divulge information on the Committee\\u2019s deliberations on the Bill to the public or publicly comment on a Bill being considered by a Committee before its report is tabled in the House. In this regard, a member of a Committee who, while the Committee is considering a matter, goes to a public forum to discuss it runs the risk of falling foul of section 25 (c).\\nIn the instant case, the National Health Insurance Bill was published in the Government Gazette on Wednesday, 6th December, 2017 through Gazette Notice No. 863 of 2017. On Friday 8th December, 2017 the Bill was read the first time and referred to the Committee on Health, Community Development and Social Services for consideration. The Committee considered the Bill from 9th to 16th February, 2018. Thus, the Committee adopted its report on Friday 16th February, 2018. The report was tabled in the House on Monday 26th February, 2016.\\nHon Members, looking at this timeline, it is evident that Dr J Chanda, MP, had sufficient time to sensitise the public on the Bill before the Committee commenced its sittings. This is because the Bill was gazetted on 6th December, 2017, and the Committee only began sitting on 9th February, 2018, which is exactly two (2) months later. It is further evident that by the time the Hon Member addressed the PF Interactive Forum on Monday, 19th February, 2018, the Committee had concluded receiving evidence from witnesses and had adopted its report. He, in this regard, went to a public forum to canvass support for the Bill, knowing well that the Committee did not support the Bill and had recommended that it be deferred for further consultations.\\nHon Members, I carefully reviewed the documents and the video in the flash disk laid on the table by Mr G G Nkombo, MP. The video clip shows Dr Chanda, MP, addressing a Patriotic Front Forum and urging the attendees to support the National Health Insurance Bill. As a member of the Committee that considered the Bill, it was most inappropriate for him to go to a public forum to solicit support for the Bill, after all the witnesses that had been invited by the Committee had made their submissions and before the Committee\\u2019s report was tabled. Dr Chanda, MP, ought to know that commenting on the proceedings of a committee before its report is tabled is an offence under section 25 (c) of the National Assembly (Powers and Privileges) Act.\\nHon Members, in view of the foregoing, I find Dr Chanda, MP, in breach of parliamentary privilege and in contempt of the House. While this is an offence under section 25 (c) of the Act and a serious breach of the rules of the House, I recognise the fact that Dr J Chanda, MP, is a first offender. In this regard, I have decided to exercise leniency and admonish him in accordance with section 28 (1) (b) of the National Assembly (Powers and Privileges) Act.\\nI now order you, Dr J Chanda, MP, to stand in your place. Dr J Chanda, your conduct of addressing a public forum on a Bill before the House while you were a Member of the Committee considering the Bill and before the Committee\\u2019s report could be tabled in the House was a breach of parliamentary privileges and a contempt of the House. As a member of the Committee that considered the Bill, you had full knowledge of the stakeholders\\u2019 and Committee\\u2019s sentiments on the Bill. It was, therefore, extremely inappropriate for you to address a public forum to solicit support for the Bill. The House is, in this regard, extremely disappointed with your conduct. It is hoped that, in future, you will endeavour to abide by the rules of this House and avoid such conduct. Please, bear in mind that a repetition of such conduct will attract a stiffer penalty.\\nI thank you\\nRuling Date: Thursday, March 15, 2018\\nParliamentary Period: Second Session of the Twelfth Assembly\",\n          \"disciplinary actions, procedural rulings\",\n          \"RULING BY THE HON MR SPEAKER ON A POINT OF ORDER RAISED BY MR G G NKOMBO, MEMBER OF PARLIAMENT FOR MAZABUKA CENTRAL PARLIAMENTARY CONSTITUENCY, AGAINST DR J CHANDA, MEMBER OF PARLIAMENT FOR BWANA MKUBWA PARLIAMENTARY CONSTITUENCY ON TUESDAY, 20TH FEBRUARY, 2018\"\n        ],\n        \"semantic_type\": \"\",\n        \"description\": \"\"\n      }\n    },\n    {\n      \"column\": 141,\n      \"properties\": {\n        \"dtype\": \"string\",\n        \"num_unique_values\": 5,\n        \"samples\": [\n          \"Hon Members will recall that on Tuesday, 3rd October, 2017, when the House was considering Question for Oral Answer No. 41 and the Hon Member of Parliament for Bweengwa Parliamentary Constituency, Mr K Michelo, MP, was asking a follow-up Question, Hon J Kapata, MP, Minister of Lands and Natural Resources, raised a Point of Order alleging that Dr C Kambwili, MP, had accused her of stealing money through the sale of Mukula tree and had been calling her a thief on radio stations and in other print and electronic media.\\nIn my immediate remarks, I reserved my ruling on the matter. I later referred the matter to the Committee on Privileges, Absences and Support Services for consideration.\\nThe Committee on Privileges, Absences and Support Services met to consider the matter. In line with parliamentary practice and procedure, and in accordance with the rules of natural justice, both the Hon Minister and Dr C Kambwili, MP, appeared before the Committee to make their oral submissions on the matter.\\nIn submitting to the Committee, the Hon Minister re-stated her complaint as contained in the Point of Order; that is, she referred to the alleged utterances of Dr Kambwili, MP, reported in the print and electronic media where he alleged that Hon Kapata, MP, was a thief. She asked the Committee to request Dr Kambwili, MP, to provide evidence that she was a thief and demanded for an apology from Dr Kambwili, MP.\\nFurther, Hon Kapata, MP, informed the Committee that she was in the process of commencing legal proceedings against Dr Kambwili, MP, over the matter. In that regard, she submitted that her lawyers had since written to Dr Kambwili, MP, requesting him to retract his defamatory statements against the Hon Minister within seven (7) days. She submitted that since Dr Kambwili, MP, had not responded to the letter, her lawyers would proceed to commence court action against him.\\nOn the other hand, Dr Kambwili, MP, when asked to respond to the Hon Minister\\u2019s complaint, submitted that he would not comment on what he had said on radio stations, as he was not bound to account for what he said outside the House to the House. He added that if Hon Kapata MP was injured by what he had said, she was at liberty to seek redress in the courts of law.\\nThe Committee deliberated on the matter and made the following findings:\\n(i) That the Hon Minister\\u2019s complaint was based on statements allegedly made by Dr Kambwili, MP, against her on radio stations and in other print and electronic media;\\n(ii) That Hon Kapata, MP, was in the process of commencing legal proceedings over the matter against Dr Kambwili, MP; and\\n(iii) That the statements complained of were not made in the House.\\nIn view of these findings, the Committee was in agreement that the alleged statements by Dr Kambwili, MP, against Hon Kapata, MP, were made outside the House and in the political arena. Therefore, the committee resolved that it could not dwell on the matter as it fell outside its jurisdiction. The Committee accordingly advised Hon Kapata, MP, to seek other avenues of redress available to her if she so wished. And I uphold the decision of the Committee.\\nI thank you. Ruling Date: Thursday, March 15, 2018\\nParliamentary Period: Second Session of the Twelfth Assembly\",\n          \"165\",\n          \"point of order\"\n        ],\n        \"semantic_type\": \"\",\n        \"description\": \"\"\n      }\n    },\n    {\n      \"column\": 142,\n      \"properties\": {\n        \"dtype\": \"string\",\n        \"num_unique_values\": 5,\n        \"samples\": [\n          \"Hon Members will recall that on Tuesday, 20th February, 2018, after the Hon Minister of Finance had just rendered a Ministerial Statement on the alleged collapse of the Central Computing System at the Ministry of Finance and the Member of Parliament for Mazabuka Central Parliamentary Constituency, Mr G G Nkombo, MP, was on the floor, Dr Malama, MP, raised the following Point of Order:\\n\\u201cMr Speaker, when the hon. Member, the Whip of the Opposition, was on the Floor, I saw on his photo, colours which are very partisan. Is Parliament in order to allow that?\\u201d\\nHon Members, the Point of Order refers to the attire that Mr G G Nkombo, MP, is wearing in the photo that appears on the display unit whenever he rises to speak and essentially asks whether Parliament is in order to allow the exhibition of \\u201cpolitical colours\\u201d.\\nIn my response, I reserved my ruling. I have studied the matter and will now render my ruling.\\nI wish to begin by guiding the House that a Point of Order cannot be raised against the House. This is because the purpose of a Point of Order is to draw the Speaker\\u2019s attention to a breach of the rules of the House by a Member. In this regard, the Point of Order was flawed and ordinarily I would not have entertained it.\\nHowever, since it raises a novel issue, I have decided to seize this opportunity to give the House some guidance on the matter raised in the Point of Order.\\nHon Members, as you are well aware, it is prohibited for any person to wear or display any form of political party regalia on the precincts of Parliament. This is because the precincts of Parliament are not a place for political party activities or campaigns, but are a place where the people\\u2019s representatives converge to conduct the affairs of the entire nation. Further, allowing party regalia in the House can potentially result in unnecessary political conflict that will divert the attention of the House from serious business that it requires to transact.\\nHaving said that, I wish to state that wearing attire, whose colour is associated with a political party, but which does not bear any political party symbol or reference to that party does not amount to wearing party regalia. Hon Members, I carefully examined the photo that displays on the screen whenever Mr G G Nkombo, MP, speaks through his microphone. My examination revealed that while the shirt, indeed, appears to be in the United Party for National Development\\u2019s (UPND) signature colour; red, it does not bear any party symbol or indeed any reference to the UPND. In this regard, it is admissible. I, however, noted that the attire Hon G G Nkombo wore in the photo was quite informal. While there is no rule barring this, I wish to urge Hon Members to, as far as possible, submit photos that conform to the official dress code provided in Standing Order 165 whenever they are submitting photos for official use.\\nThat is my ruling.\\nI thank you.\\nRuling Date: Thursday, March 15, 2018\\nParliamentary Period: Second Session of the Twelfth Assembly\",\n          \"165\",\n          \"point of order\"\n        ],\n        \"semantic_type\": \"\",\n        \"description\": \"\"\n      }\n    }\n  ]\n}"
            }
          },
          "metadata": {},
          "execution_count": 10
        }
      ]
    },
    {
      "cell_type": "markdown",
      "source": [
        "###**Categorical Data Analysis**\n",
        "In this section we dive deeper in the Categorical columns *categories and context* columns to understand the distribution  within each column\n",
        "\n",
        "####What We'll Analyze:\n",
        "\n",
        "> - Value counts for each categorical column\n",
        "> - Number of unique values per column\n",
        "> - Most and least common categories"
      ],
      "metadata": {
        "id": "O2wmIqhcafIk"
      }
    },
    {
      "cell_type": "code",
      "source": [
        "#Count number of occurence for each category\n",
        "\n",
        "print(\"Number of occurence for each category:\")\n",
        "\n",
        "categoriesCount = ruling_df['categories']\n",
        "print(categoriesCount.value_counts())\n",
        "print(\"\\n\")"
      ],
      "metadata": {
        "id": "Ad-zNWZ9aihv",
        "colab": {
          "base_uri": "https://localhost:8080/"
        },
        "outputId": "f73618a3-0173-42d7-9f35-ffa129fa2f98"
      },
      "execution_count": null,
      "outputs": [
        {
          "output_type": "stream",
          "name": "stdout",
          "text": [
            "Number of occurence for each category:\n",
            "categories\n",
            "procedural rulings                                                          69\n",
            "disciplinary actions, procedural rulings                                    25\n",
            "disciplinary actions                                                        22\n",
            "constitutional interpretations, procedural rulings                           6\n",
            "debate management, procedural rulings                                        6\n",
            "constitutional interpretations, disciplinary actions, procedural rulings     3\n",
            "administrative decisions, procedural rulings                                 1\n",
            "administrative decisions                                                     1\n",
            "constitutional interpretations, disciplinary actions                         1\n",
            "constitutional interpretations                                               1\n",
            "Name: count, dtype: int64\n",
            "\n",
            "\n"
          ]
        }
      ]
    },
    {
      "cell_type": "code",
      "source": [
        "##Counting number of unique values in categories columns\n",
        "\n",
        "unique_category_values = ruling_df['categories'].unique()\n",
        "print(\"unique values in categories columns:\")\n",
        "print(unique_category_values)\n",
        "print(\"\\n\")\n",
        "print(\"Number of unique values in categories columns:\")\n",
        "print(len(unique_category_values))"
      ],
      "metadata": {
        "id": "i7Nsn73Tay9S",
        "colab": {
          "base_uri": "https://localhost:8080/"
        },
        "outputId": "45f3c6d8-b1f4-4309-b821-f3e3982d1df1"
      },
      "execution_count": null,
      "outputs": [
        {
          "output_type": "stream",
          "name": "stdout",
          "text": [
            "unique values in categories columns:\n",
            "['disciplinary actions, procedural rulings'\n",
            " 'constitutional interpretations, procedural rulings' 'procedural rulings'\n",
            " 'constitutional interpretations, disciplinary actions, procedural rulings'\n",
            " 'administrative decisions, procedural rulings'\n",
            " 'debate management, procedural rulings' nan 'disciplinary actions'\n",
            " 'administrative decisions'\n",
            " 'constitutional interpretations, disciplinary actions'\n",
            " 'constitutional interpretations']\n",
            "\n",
            "\n",
            "Number of unique values in categories columns:\n",
            "11\n"
          ]
        }
      ]
    },
    {
      "cell_type": "code",
      "source": [
        "#Count number of occurence for each context\n",
        "\n",
        "print(\"Number of occurence for each context:\")\n",
        "\n",
        "contextsCount = ruling_df['context']\n",
        "print(contextsCount.value_counts())\n",
        "print(\"\\n\")"
      ],
      "metadata": {
        "id": "S77U1BIoa3J3",
        "colab": {
          "base_uri": "https://localhost:8080/"
        },
        "outputId": "8374540f-9d74-40e2-ee58-b1b3c4b6fda1"
      },
      "execution_count": null,
      "outputs": [
        {
          "output_type": "stream",
          "name": "stdout",
          "text": [
            "Number of occurence for each context:\n",
            "context\n",
            "point of order                        122\n",
            "complaint                              16\n",
            "guidance                                3\n",
            "matter of urgent public importance      2\n",
            "Name: count, dtype: int64\n",
            "\n",
            "\n"
          ]
        }
      ]
    },
    {
      "cell_type": "code",
      "source": [
        "#counting number of occurencies for each context\n",
        "\n",
        "unique_context_values = ruling_df[\"context\"].unique()\n",
        "print(\"unique values in context columns:\")\n",
        "print(unique_context_values)\n",
        "print(\"\\n\")\n",
        "print(\"Number of unique values in context columns:\")\n",
        "print(len(unique_context_values))"
      ],
      "metadata": {
        "id": "TT3KKR7na8M0",
        "colab": {
          "base_uri": "https://localhost:8080/"
        },
        "outputId": "d6a594aa-6429-49ca-e1d2-55be2a08098b"
      },
      "execution_count": null,
      "outputs": [
        {
          "output_type": "stream",
          "name": "stdout",
          "text": [
            "unique values in context columns:\n",
            "['point of order' 'complaint' 'guidance'\n",
            " 'matter of urgent public importance']\n",
            "\n",
            "\n",
            "Number of unique values in context columns:\n",
            "4\n"
          ]
        }
      ]
    },
    {
      "cell_type": "markdown",
      "source": [
        "###**Text Length and Word Count**\n",
        "This section focuses on fining:\n",
        "- The text length\n",
        "- Word count\n",
        "- Avarage word count for all the columns with paragraph\n",
        "including **rullingText** and **rullingTitle**\n",
        "\n"
      ],
      "metadata": {
        "id": "SeA1HzY5SGh6"
      }
    },
    {
      "cell_type": "code",
      "source": [
        "##creating a new column to hold the text length and column count for rulingTitle\n",
        "\n",
        "ruling_df['ruling_title_text_length'] = ruling_df['rulingTitle'].str.len()\n",
        "ruling_df['ruling_title_word_count'] = ruling_df['rulingTitle'].str.split().str.len()\n",
        "\n",
        "display(ruling_df.head(2))\n",
        "\n",
        "#finding the avarage word count and text length for the ruling title\n",
        "\n",
        "avarage_word_count = ruling_df['ruling_title_word_count'].mean()\n",
        "avarage_text_length = ruling_df['ruling_title_text_length'].mean()\n",
        "print(\"\\n\")\n",
        "\n",
        "print(\"Avarage word count: \", avarage_word_count.astype(int))\n",
        "print(\"Avarage text length: \", avarage_text_length.astype(int))"
      ],
      "metadata": {
        "id": "36ior726SIgM"
      },
      "execution_count": null,
      "outputs": []
    },
    {
      "cell_type": "markdown",
      "source": [
        "###**Visual Analysis**\n",
        "Using pyplot we will Create categorical visualizations\n",
        "- Bar charts for top categorical variables\n",
        "- Pie charts for proportional data\n",
        "- Distribution plots for key categories"
      ],
      "metadata": {
        "id": "xvDC0MEySbQ3"
      }
    },
    {
      "cell_type": "code",
      "source": [
        "# creating bar chart for categories column\n",
        "\n",
        "categoriesCount = ruling_df['categories'].value_counts()\n",
        "\n",
        "plt.figure(figsize=(10,6))\n",
        "plt.title(\"Categories\")\n",
        "plt.xlabel(\"Categories\")\n",
        "plt.ylabel(\"Count\")\n",
        "\n",
        "plt.barh(categoriesCount.index, categoriesCount.values)\n",
        "plt.show()"
      ],
      "metadata": {
        "id": "pL6gQN_gScsA",
        "colab": {
          "base_uri": "https://localhost:8080/",
          "height": 584
        },
        "outputId": "a3d6fd26-bdc1-4352-a775-00c9f5fff786"
      },
      "execution_count": null,
      "outputs": [
        {
          "output_type": "display_data",
          "data": {
            "text/plain": [
              "<Figure size 1000x600 with 1 Axes>"
            ],
            "image/png": "[encoded data removed]"
          },
          "metadata": {}
        }
      ]
    },
    {
      "cell_type": "code",
      "source": [
        "# creating bar chart for context column\n",
        "\n",
        "contextCount = ruling_df['context'].value_counts()\n",
        "\n",
        "plt.figure(figsize=(10,6))\n",
        "plt.title(\"Contexts\")\n",
        "plt.xlabel(\"Contexts\")\n",
        "plt.ylabel(\"Count\")\n",
        "\n",
        "plt.barh(contextCount.index, contextCount.values)\n",
        "plt.show()\n"
      ],
      "metadata": {
        "id": "0m--KqFdSvlX",
        "colab": {
          "base_uri": "https://localhost:8080/",
          "height": 564
        },
        "outputId": "f11bb8fc-aae1-4899-cef8-fa83dfed9d78"
      },
      "execution_count": null,
      "outputs": [
        {
          "output_type": "display_data",
          "data": {
            "text/plain": [
              "<Figure size 1000x600 with 1 Axes>"
            ],
            "image/png": "[encoded data removed]"
          },
          "metadata": {}
        }
      ]
    },
    {
      "cell_type": "markdown",
      "source": [
        "###**Feature relevance assessment**\n",
        "Based on the understand and research made upon the dataset\n",
        "\n",
        "we have identified that\n",
        "\n",
        "**Most important features:**\n",
        ">*  **rulingText:** This is the main body of the ruling, containing the richest semantic and contextual information.\n",
        ">* ***context*** is very noisy it might contribute little.\n",
        ">* ***categories*** This is meant to be the target column\n",
        "\n",
        "**Less relevant / redundant features**\n",
        ">* ***rulingTitle*** might be redundatant because it may be repetitive or just rephrasing the ***rulingText*** but nonetheless it can prove usefull when ***rulingText*** is not usefull\n",
        ">* ***standingOrder:*** this is potentially usefull but sparse, it contains values like 179, 53, 4 ...\n",
        "\n"
      ],
      "metadata": {
        "id": "_I2tVSbyTcAN"
      }
    },
    {
      "cell_type": "markdown",
      "source": [
        "#**Data Preparation**\n",
        "This seciton performs the Data Preparation phase for our parliamentary Speaker's Rulings classification project.\n",
        "\n",
        "Following the CRISP-DM methodology, this phase is critical as it directly impacts the quality of our model.\n",
        "\n",
        "##**Goals of Data Preparation Phase**\n",
        "\n",
        "* Data Selection: Choose relevant  features for multi-label classification\n",
        "* Data Preprocessing: Clean and normalize text data for TF-IDF processing\n",
        "* Data Transformation: Create model-ready features for Logistic Regression\n",
        "* Multi-label Preparation: Transform categories for multi-label classification"
      ],
      "metadata": {
        "id": "ensN18LDMf8M"
      }
    },
    {
      "cell_type": "markdown",
      "source": [
        "##1. Environment Setup and Data Loading\n",
        "\n",
        "This section is mean for setting up the preparation environment such as\n",
        "\n",
        "* Importing the necessary libraries\n",
        "> * ***pandas***\n",
        "> * ***pyplot***\n",
        "> * ***seaborn***\n",
        "> * ***numpy***\n",
        "> * ***re(regular expressions)***\n",
        "> * ***nltk***\n",
        "\n",
        "* Downloading the necesary packages such as:\n",
        "> * ***punkt***\n",
        "> * ***stopwors***\n",
        "\n",
        "* Setting up to use a copy of the data set\n",
        "\n",
        "\n",
        "\n",
        "\n"
      ],
      "metadata": {
        "id": "xe7GjDCYMnn7"
      }
    },
    {
      "cell_type": "markdown",
      "source": [
        "##2.DATA SELECTION AND CLEANING"
      ],
      "metadata": {
        "id": "bWF_KsvNPbrJ"
      }
    },
    {
      "cell_type": "markdown",
      "source": [
        "###2.1 ASSSING THE QUALITY BY CHECKING MISSING VALUES"
      ],
      "metadata": {
        "id": "P1PbdB-9P1Z0"
      }
    },
    {
      "cell_type": "code",
      "source": [
        "display(df.isnull().sum())"
      ],
      "metadata": {
        "id": "X9MCA6C2MiXz"
      },
      "execution_count": null,
      "outputs": []
    },
    {
      "cell_type": "markdown",
      "source": [
        "###2.3 CHECK DUPLICATE RECORDS"
      ],
      "metadata": {
        "id": "KaTpfVNFQg-r"
      }
    },
    {
      "cell_type": "code",
      "source": [
        "display(df.duplicated().sum())"
      ],
      "metadata": {
        "id": "7Cx3XX2mRUH4"
      },
      "execution_count": null,
      "outputs": []
    },
    {
      "cell_type": "markdown",
      "source": [
        "###2.4 REMOVE DUPLICATE RECORDS"
      ],
      "metadata": {
        "id": "osLv0mAYRc0X"
      }
    },
    {
      "cell_type": "code",
      "source": [
        "df = df.drop_duplicates()\n",
        "display(df.duplicated().sum())"
      ],
      "metadata": {
        "id": "wrnPKQY_Rmqy"
      },
      "execution_count": null,
      "outputs": []
    },
    {
      "cell_type": "markdown",
      "source": [
        "####2.4.1 DISPLAY CATEGORIES COUNT"
      ],
      "metadata": {
        "id": "wPXwlMevRulK"
      }
    },
    {
      "cell_type": "code",
      "source": [
        "# Display value counts of the 'categories' column\n",
        "display(df['categories'].value_counts())"
      ],
      "metadata": {
        "id": "6vSl3oklR-3l"
      },
      "execution_count": null,
      "outputs": []
    },
    {
      "cell_type": "markdown",
      "source": [
        "####2.4.2 FILTER AND DISPLAY ROWS WITH DUPLICATE CATEGORIES"
      ],
      "metadata": {
        "id": "g-fC2bxdSKWa"
      }
    },
    {
      "cell_type": "code",
      "source": [
        "# Filter and display rows with duplicate categories\n",
        "duplicate_categories = df[df['categories'].duplicated(keep=False)]\n",
        "display(duplicate_categories.sort_values(by='categories'))"
      ],
      "metadata": {
        "id": "VAL9k0IgSUhu"
      },
      "execution_count": null,
      "outputs": []
    },
    {
      "cell_type": "markdown",
      "source": [
        "####2.4.3 DROP ROWS WITH NaN VALUES IN THE CATEGORIES COLUMN"
      ],
      "metadata": {
        "id": "rrGN5uSCSflS"
      }
    },
    {
      "cell_type": "code",
      "source": [
        "# Drop rows with NaN values in the 'categories' column\n",
        "df = df.dropna(subset=['categories'])\n",
        "\n",
        "# Verify that NaN values in 'categories' are removed\n",
        "display(df['categories'].isnull().sum())"
      ],
      "metadata": {
        "id": "yS9ltj2PS2WJ"
      },
      "execution_count": null,
      "outputs": []
    },
    {
      "cell_type": "markdown",
      "source": [
        "####2.4.4CHEK NUMBER OF NaN VALUES IN STANDING ORDER"
      ],
      "metadata": {
        "id": "MYDb7r4YTJUI"
      }
    },
    {
      "cell_type": "code",
      "source": [
        "# Check the number of NaN values in 'standingOrder'\n",
        "display(df['standingOrder'].isnull().sum())\n",
        "\n",
        "# Display rows where 'standingOrder' is NaN\n",
        "display(df[df['standingOrder'].isnull()])"
      ],
      "metadata": {
        "id": "noFBBrkiTUCl"
      },
      "execution_count": null,
      "outputs": []
    },
    {
      "cell_type": "markdown",
      "source": [
        "###2.5 MERGE RULINGTEXT WITH RULING TITLE"
      ],
      "metadata": {
        "id": "NOJrOqFfTe-J"
      }
    },
    {
      "cell_type": "code",
      "source": [
        "df['merged_text'] = df['rulingTitle'] + ' ' + df['rulingText']\n",
        "display(df[['rulingTitle', 'rulingText', 'merged_text']].head())"
      ],
      "metadata": {
        "id": "MRQqjc6KTnOx"
      },
      "execution_count": null,
      "outputs": []
    },
    {
      "cell_type": "markdown",
      "source": [
        "####2.5.1 DISPLAY THE FIRST AND LAST 15 RECORDS TO VIEW MERGED TEXT"
      ],
      "metadata": {
        "id": "qZM2eMraTsjw"
      }
    },
    {
      "cell_type": "code",
      "source": [
        "isplay(df.head(15))\n",
        "display(df.tail(15))"
      ],
      "metadata": {
        "id": "uWZL38LnT9Ok"
      },
      "execution_count": null,
      "outputs": []
    },
    {
      "cell_type": "markdown",
      "source": [
        "####2.5.2 DROP RULINGTITLE AND RULING TEXT TO LEAVE THE MERGED TEXT ONLY"
      ],
      "metadata": {
        "id": "Nfv-Fw2rUG-U"
      }
    },
    {
      "cell_type": "code",
      "source": [
        "df = df.drop(columns=['rulingTitle', 'rulingText'])\n",
        "display(df.head())"
      ],
      "metadata": {
        "id": "iyPdjSLuUWQO"
      },
      "execution_count": null,
      "outputs": []
    },
    {
      "cell_type": "markdown",
      "source": [
        "##Text Processing Pipeline\n",
        "##Steps Taken for Text Processing Pipeline\n",
        "###Step 1: Text Cleaning and Lowercasing\n",
        "###Step 2: Removal Of Punctuation  \n",
        "###Step 3: Removal Of Stopwords\n",
        "###Step 4: Stemming Of Words\n",
        "###Step 4: Removal Of Whites Spaces And Inbetween Spaces"
      ],
      "metadata": {
        "id": "2V1o6gqjUqTl"
      }
    },
    {
      "cell_type": "markdown",
      "source": [
        "###Define functions"
      ],
      "metadata": {
        "id": "-qbb07p5VCOi"
      }
    },
    {
      "cell_type": "code",
      "source": [
        "# import Libraries\n",
        "from sklearn.preprocessing import MinMaxScaler, OneHotEncoder\n",
        "from sklearn.feature_extraction.text import CountVectorizer, TfidfVectorizer\n",
        "import nltk\n",
        "import string\n",
        "\n",
        "# Download necessary NLTK data for text preprocessing\n",
        "nltk.download('punkt_tab')\n",
        "nltk.download('stopwords')\n",
        "from nltk.corpus import stopwords\n",
        "from nltk.stem import PorterStemmer\n",
        "from nltk.tokenize import word_tokenize\n",
        "import re\n",
        "nltk.download('punkt')\n",
        "nltk.download('stopwords')"
      ],
      "metadata": {
        "id": "ZXWUmt20VcXO"
      },
      "execution_count": null,
      "outputs": []
    },
    {
      "cell_type": "code",
      "source": [
        "# Define preprocessing functions\n",
        "\n",
        "##define function for lowercasing\n",
        "def fxn_convert_to_lowercase(text):\n",
        "    return text.lower()\n",
        "\n",
        "## Define function for removal for punctuation\n",
        "def fxn_remove_punctuation(text):\n",
        "    return re.sub(r'[^\\w\\s]', '', text)\n",
        "\n",
        "##Define function for stopwords removal\n",
        "stop_words = set(stopwords.words('english'))\n",
        "def fxn_remove_stopwords(text):\n",
        "    words = text.split()\n",
        "    filtered_words = [word for word in words if word not in stop_words]\n",
        "    return ' '.join(filtered_words)\n",
        "\n",
        "##Define function for stemming\n",
        "stemmer = PorterStemmer()\n",
        "def fxn_stem_text(text):\n",
        "    words = text.split()\n",
        "    stemmed_words = [stemmer.stem(word) for word in words]\n",
        "    return ' '.join(stemmed_words)"
      ],
      "metadata": {
        "id": "W9ffATuoVlSQ"
      },
      "execution_count": null,
      "outputs": []
    },
    {
      "cell_type": "markdown",
      "source": [
        "### 1.rulingTitle\n"
      ],
      "metadata": {
        "id": "bXizKMI9VqXR"
      }
    },
    {
      "cell_type": "code",
      "source": [
        "# Apply preprocessing steps directly on the 'rulingTitle' column\n",
        "df['rulingTitle'] = df['rulingTitle'].apply(lambda x: fxn_convert_to_lowercase(str(x)))\n",
        "df['rulingTitle'] = df['rulingTitle'].apply(lambda x: fxn_remove_punctuation(str(x)))\n",
        "df['rulingTitle'] = df['rulingTitle'].apply(lambda x: fxn_remove_stopwords(str(x)))\n",
        "df['rulingTitle'] = df['rulingTitle'].apply(lambda x: fxn_stem_text(str(x)))\n",
        "df['rulingText'] = df['rulingText'].str.strip() ## removal whites spaces from begiginning and tend of the word\n",
        "df['rulingText'] = df['rulingText'].str.replace(r'\\s+', ' ', regex=True).str.strip() ##removing inbetween double spaces"
      ],
      "metadata": {
        "id": "zcprgKfpVy8_"
      },
      "execution_count": null,
      "outputs": []
    },
    {
      "cell_type": "code",
      "source": [
        "print(df['rulingTitle'])\n"
      ],
      "metadata": {
        "id": "JzEJ58gvV0aw"
      },
      "execution_count": null,
      "outputs": []
    },
    {
      "cell_type": "markdown",
      "source": [
        "### 2.rulingText\n"
      ],
      "metadata": {
        "id": "gC36oV5jWE4f"
      }
    },
    {
      "cell_type": "code",
      "source": [
        "#case Folding to lowercase 'rulingText' column\n",
        "df['rulingText'] = df['rulingText'].apply(lambda x: fxn_convert_to_lowercase(str(x)))\n",
        "df['rulingText'] = df['rulingText'].apply(lambda x: fxn_remove_punctuation(str(x)))\n",
        "df['rulingText'] = df['rulingText'].apply(lambda x: fxn_remove_stopwords(str(x)))\n",
        "df['rulingText'] = df['rulingText'].apply(lambda x: fxn_stem_text(str(x)))\n"
      ],
      "metadata": {
        "id": "7mInCj1kWHZE"
      },
      "execution_count": null,
      "outputs": []
    },
    {
      "cell_type": "markdown",
      "source": [
        "### 3.categories"
      ],
      "metadata": {
        "id": "PRkwhDrtYx41"
      }
    },
    {
      "cell_type": "code",
      "source": [
        "# Apply preprocessing steps directly on the 'categories' column\n",
        "df['categories'] = df['categories'].apply(lambda x: fxn_convert_to_lowercase(str(x)))\n",
        "df['categories'] = df['categories'].str.strip()  # removes spaces at beginning & end\n",
        "df['categories'] = df['categories'].str.replace(r'\\s+', ' ', regex=True).str.strip()  # removes multiple spaces inside\n",
        "\n"
      ],
      "metadata": {
        "id": "CB94lCzgY0wH"
      },
      "execution_count": null,
      "outputs": []
    },
    {
      "cell_type": "code",
      "source": [
        "print(df['categories'])"
      ],
      "metadata": {
        "id": "lx_jlopUY0KK"
      },
      "execution_count": null,
      "outputs": []
    },
    {
      "cell_type": "markdown",
      "source": [
        "### 4.context"
      ],
      "metadata": {
        "id": "iZnAjcknY_44"
      }
    },
    {
      "cell_type": "code",
      "source": [
        "# Apply preprocessing steps directly on the 'context' column\n",
        "df['context'] = df['context'].apply(lambda x: fxn_convert_to_lowercase(str(x)))\n",
        "df['context'] = df['context'].apply(lambda x: fxn_remove_punctuation(str(x)))\n",
        "df['context'] = df['context'].str.strip()  # removes spaces at beginning & end\n",
        "df['context'] = df['context'].str.replace(r'\\s+', ' ', regex=True).str.strip()  # removes multiple spaces inside\n"
      ],
      "metadata": {
        "id": "bqhPEJOuZCyu"
      },
      "execution_count": null,
      "outputs": []
    },
    {
      "cell_type": "code",
      "source": [
        "print(df['context'])"
      ],
      "metadata": {
        "id": "4cDDqUBBZBdN"
      },
      "execution_count": null,
      "outputs": []
    }
  ]
}